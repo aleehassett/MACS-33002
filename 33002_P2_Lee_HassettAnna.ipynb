{
  "nbformat": 4,
  "nbformat_minor": 0,
  "metadata": {
    "colab": {
      "name": "33002_P2_Lee-HassettAnna",
      "provenance": [],
      "collapsed_sections": [
        "e72fd-hpmpc2"
      ]
    },
    "kernelspec": {
      "name": "python3",
      "display_name": "Python 3"
    },
    "language_info": {
      "name": "python"
    }
  },
  "cells": [
    {
      "cell_type": "markdown",
      "source": [
        "### MACS 33002-2022S Machine Learning Individual Project\n",
        "\n",
        "Dataset:\n",
        "https://www.kaggle.com/datasets/kevinarvai/clinvar-conflicting"
      ],
      "metadata": {
        "id": "e72fd-hpmpc2"
      }
    },
    {
      "cell_type": "markdown",
      "source": [
        "### Introduction and Background\n",
        "The human genome is widely varied across popualtions. Each gene contains mutations and variants that occur in different prevalances. These variants are tracked online through ClinVar, a public database with annotations on different human genetic variants. Different variants have different affects humans. For example, some cause disease on their own (sickle cell anemia, cystic fibrosis), some work with other factors (complex diseases such as autism, heart disease) to cause a disease, and some are effectively harmless. As more research is performed, a better understanding of genetic mutations and their affects can lead to better prevention, diagnoses, and treatment.\n",
        "\n",
        "Variants can be clinically classified into either benign, likely benign, uncerain significance, likely pathogenic, and pathogenic. Classification on ClinVar usually occurs manually. However, the human genome is extremely multifaceted, and genes can have different affects in different contexts. A full understanding of genetics is far away. Consequently, clinicians and researchers may classify a single variant differently, leading to confusion when people using ClinVar as a medical reference try to interpret the impact of a variant. \n",
        "\n",
        "### Objective\n",
        "Use the given data to predict whether a gene variant will have conflicting classifications. In this case, we will consider \"benign\" and \"likely benign\" together, as well as \"pathogenic\" and \"likely pathogenic.\""
      ],
      "metadata": {
        "id": "XlOA5wHyixZ_"
      }
    },
    {
      "cell_type": "code",
      "execution_count": 1,
      "metadata": {
        "id": "chH2F37vVV5s",
        "colab": {
          "base_uri": "https://localhost:8080/"
        },
        "outputId": "9374c240-8930-40a7-a054-1c2aff1d69ba"
      },
      "outputs": [
        {
          "output_type": "stream",
          "name": "stdout",
          "text": [
            "Looking in indexes: https://pypi.org/simple, https://us-python.pkg.dev/colab-wheels/public/simple/\n",
            "Requirement already satisfied: category_encoders in /usr/local/lib/python3.7/dist-packages (2.4.1)\n",
            "Requirement already satisfied: pandas>=0.21.1 in /usr/local/lib/python3.7/dist-packages (from category_encoders) (1.3.5)\n",
            "Requirement already satisfied: scipy>=1.0.0 in /usr/local/lib/python3.7/dist-packages (from category_encoders) (1.4.1)\n",
            "Requirement already satisfied: patsy>=0.5.1 in /usr/local/lib/python3.7/dist-packages (from category_encoders) (0.5.2)\n",
            "Requirement already satisfied: numpy>=1.14.0 in /usr/local/lib/python3.7/dist-packages (from category_encoders) (1.21.6)\n",
            "Requirement already satisfied: scikit-learn>=0.20.0 in /usr/local/lib/python3.7/dist-packages (from category_encoders) (1.0.2)\n",
            "Requirement already satisfied: statsmodels>=0.9.0 in /usr/local/lib/python3.7/dist-packages (from category_encoders) (0.10.2)\n",
            "Requirement already satisfied: python-dateutil>=2.7.3 in /usr/local/lib/python3.7/dist-packages (from pandas>=0.21.1->category_encoders) (2.8.2)\n",
            "Requirement already satisfied: pytz>=2017.3 in /usr/local/lib/python3.7/dist-packages (from pandas>=0.21.1->category_encoders) (2022.1)\n",
            "Requirement already satisfied: six in /usr/local/lib/python3.7/dist-packages (from patsy>=0.5.1->category_encoders) (1.15.0)\n",
            "Requirement already satisfied: joblib>=0.11 in /usr/local/lib/python3.7/dist-packages (from scikit-learn>=0.20.0->category_encoders) (1.1.0)\n",
            "Requirement already satisfied: threadpoolctl>=2.0.0 in /usr/local/lib/python3.7/dist-packages (from scikit-learn>=0.20.0->category_encoders) (3.1.0)\n"
          ]
        },
        {
          "output_type": "stream",
          "name": "stderr",
          "text": [
            "/usr/local/lib/python3.7/dist-packages/statsmodels/tools/_testing.py:19: FutureWarning: pandas.util.testing is deprecated. Use the functions in the public API at pandas.testing instead.\n",
            "  import pandas.util.testing as tm\n"
          ]
        }
      ],
      "source": [
        "# Import libraries, functions, set base preferances\n",
        "import numpy as np\n",
        "import pandas as pd\n",
        "import seaborn as sns\n",
        "sns.set_style(style='whitegrid')\n",
        "import matplotlib.pyplot as plt\n",
        "from matplotlib import pylab\n",
        "%matplotlib inline\n",
        "from sklearn.model_selection import train_test_split\n",
        "from sklearn import base\n",
        "from sklearn.model_selection import KFold\n",
        "from sklearn.preprocessing import StandardScaler\n",
        "!pip install category_encoders\n",
        "from category_encoders import BinaryEncoder\n",
        "from sklearn.preprocessing import LabelEncoder\n",
        "from sklearn.linear_model import LogisticRegression\n",
        "from sklearn.ensemble import RandomForestClassifier\n",
        "from sklearn import metrics\n",
        "from sklearn.metrics import accuracy_score,roc_auc_score,classification_report,confusion_matrix"
      ]
    },
    {
      "cell_type": "markdown",
      "source": [
        "### Data Visualization and Exploration:\n",
        "\n",
        "While ideally we would not perform any data modifying, as we have not yet split the data into train/validation/test and modifying all the data would introduct data leakage into the validation/test pools, it is difficult to apply modified data to both train/test samples, so we will knowingly accept that there may be some data leakage. "
      ],
      "metadata": {
        "id": "e1oCdSklTOUt"
      }
    },
    {
      "cell_type": "code",
      "source": [
        "#load data\n",
        "data = pd.read_csv(\"clinvar_conflicting.csv\")\n",
        "# view shape to ensure proper loading and \n",
        "print(\"Data shape:\", data.shape) #og 65188"
      ],
      "metadata": {
        "colab": {
          "base_uri": "https://localhost:8080/"
        },
        "id": "tjn5gDFQiXUU",
        "outputId": "c1e4f5cf-a255-487c-8379-c3e1842ab4a6"
      },
      "execution_count": 2,
      "outputs": [
        {
          "output_type": "stream",
          "name": "stdout",
          "text": [
            "Data shape: (65188, 46)\n"
          ]
        },
        {
          "output_type": "stream",
          "name": "stderr",
          "text": [
            "/usr/local/lib/python3.7/dist-packages/IPython/core/interactiveshell.py:2882: DtypeWarning: Columns (0,38,40) have mixed types.Specify dtype option on import or set low_memory=False.\n",
            "  exec(code_obj, self.user_global_ns, self.user_ns)\n"
          ]
        }
      ]
    },
    {
      "cell_type": "code",
      "source": [
        "#data visualization\n",
        "data.head()"
      ],
      "metadata": {
        "colab": {
          "base_uri": "https://localhost:8080/",
          "height": 299
        },
        "id": "JwUkA2lxTRXH",
        "outputId": "7287a4dd-9e4c-493c-8787-38266bc47193"
      },
      "execution_count": 3,
      "outputs": [
        {
          "output_type": "execute_result",
          "data": {
            "text/plain": [
              "  CHROM      POS REF ALT  AF_ESP  AF_EXAC  AF_TGP  \\\n",
              "0     1  1168180   G   C  0.0771  0.10020  0.1066   \n",
              "1     1  1470752   G   A  0.0000  0.00000  0.0000   \n",
              "2     1  1737942   A   G  0.0000  0.00001  0.0000   \n",
              "3     1  2160305   G   A  0.0000  0.00000  0.0000   \n",
              "4     1  2160305   G   T  0.0000  0.00000  0.0000   \n",
              "\n",
              "                                            CLNDISDB CLNDISDBINCL  \\\n",
              "0                                    MedGen:CN169374          NaN   \n",
              "1  MedGen:C1843891,OMIM:607454,Orphanet:ORPHA9877...          NaN   \n",
              "2  Human_Phenotype_Ontology:HP:0000486,MedGen:C00...          NaN   \n",
              "3  MedGen:C1321551,OMIM:182212,SNOMED_CT:83092002...          NaN   \n",
              "4     MedGen:C1321551,OMIM:182212,SNOMED_CT:83092002          NaN   \n",
              "\n",
              "                                               CLNDN  ...  \\\n",
              "0                                      not_specified  ...   \n",
              "1             Spinocerebellar_ataxia_21|not_provided  ...   \n",
              "2  Strabismus|Nystagmus|Hypothyroidism|Intellectu...  ...   \n",
              "3          Shprintzen-Goldberg_syndrome|not_provided  ...   \n",
              "4                       Shprintzen-Goldberg_syndrome  ...   \n",
              "\n",
              "                         SIFT           PolyPhen MOTIF_NAME MOTIF_POS  \\\n",
              "0                   tolerated             benign        NaN       NaN   \n",
              "1  deleterious_low_confidence             benign        NaN       NaN   \n",
              "2                 deleterious  probably_damaging        NaN       NaN   \n",
              "3                         NaN                NaN        NaN       NaN   \n",
              "4                         NaN                NaN        NaN       NaN   \n",
              "\n",
              "  HIGH_INF_POS MOTIF_SCORE_CHANGE  LoFtool  CADD_PHRED  CADD_RAW BLOSUM62  \n",
              "0          NaN                NaN      NaN       1.053 -0.208682      2.0  \n",
              "1          NaN                NaN      NaN      31.000  6.517838     -3.0  \n",
              "2          NaN                NaN      NaN      28.100  6.061752     -1.0  \n",
              "3          NaN                NaN      NaN      22.500  3.114491      NaN  \n",
              "4          NaN                NaN      NaN      24.700  4.766224     -3.0  \n",
              "\n",
              "[5 rows x 46 columns]"
            ],
            "text/html": [
              "\n",
              "  <div id=\"df-682cce2b-4303-410f-ac13-1e707d19333b\">\n",
              "    <div class=\"colab-df-container\">\n",
              "      <div>\n",
              "<style scoped>\n",
              "    .dataframe tbody tr th:only-of-type {\n",
              "        vertical-align: middle;\n",
              "    }\n",
              "\n",
              "    .dataframe tbody tr th {\n",
              "        vertical-align: top;\n",
              "    }\n",
              "\n",
              "    .dataframe thead th {\n",
              "        text-align: right;\n",
              "    }\n",
              "</style>\n",
              "<table border=\"1\" class=\"dataframe\">\n",
              "  <thead>\n",
              "    <tr style=\"text-align: right;\">\n",
              "      <th></th>\n",
              "      <th>CHROM</th>\n",
              "      <th>POS</th>\n",
              "      <th>REF</th>\n",
              "      <th>ALT</th>\n",
              "      <th>AF_ESP</th>\n",
              "      <th>AF_EXAC</th>\n",
              "      <th>AF_TGP</th>\n",
              "      <th>CLNDISDB</th>\n",
              "      <th>CLNDISDBINCL</th>\n",
              "      <th>CLNDN</th>\n",
              "      <th>...</th>\n",
              "      <th>SIFT</th>\n",
              "      <th>PolyPhen</th>\n",
              "      <th>MOTIF_NAME</th>\n",
              "      <th>MOTIF_POS</th>\n",
              "      <th>HIGH_INF_POS</th>\n",
              "      <th>MOTIF_SCORE_CHANGE</th>\n",
              "      <th>LoFtool</th>\n",
              "      <th>CADD_PHRED</th>\n",
              "      <th>CADD_RAW</th>\n",
              "      <th>BLOSUM62</th>\n",
              "    </tr>\n",
              "  </thead>\n",
              "  <tbody>\n",
              "    <tr>\n",
              "      <th>0</th>\n",
              "      <td>1</td>\n",
              "      <td>1168180</td>\n",
              "      <td>G</td>\n",
              "      <td>C</td>\n",
              "      <td>0.0771</td>\n",
              "      <td>0.10020</td>\n",
              "      <td>0.1066</td>\n",
              "      <td>MedGen:CN169374</td>\n",
              "      <td>NaN</td>\n",
              "      <td>not_specified</td>\n",
              "      <td>...</td>\n",
              "      <td>tolerated</td>\n",
              "      <td>benign</td>\n",
              "      <td>NaN</td>\n",
              "      <td>NaN</td>\n",
              "      <td>NaN</td>\n",
              "      <td>NaN</td>\n",
              "      <td>NaN</td>\n",
              "      <td>1.053</td>\n",
              "      <td>-0.208682</td>\n",
              "      <td>2.0</td>\n",
              "    </tr>\n",
              "    <tr>\n",
              "      <th>1</th>\n",
              "      <td>1</td>\n",
              "      <td>1470752</td>\n",
              "      <td>G</td>\n",
              "      <td>A</td>\n",
              "      <td>0.0000</td>\n",
              "      <td>0.00000</td>\n",
              "      <td>0.0000</td>\n",
              "      <td>MedGen:C1843891,OMIM:607454,Orphanet:ORPHA9877...</td>\n",
              "      <td>NaN</td>\n",
              "      <td>Spinocerebellar_ataxia_21|not_provided</td>\n",
              "      <td>...</td>\n",
              "      <td>deleterious_low_confidence</td>\n",
              "      <td>benign</td>\n",
              "      <td>NaN</td>\n",
              "      <td>NaN</td>\n",
              "      <td>NaN</td>\n",
              "      <td>NaN</td>\n",
              "      <td>NaN</td>\n",
              "      <td>31.000</td>\n",
              "      <td>6.517838</td>\n",
              "      <td>-3.0</td>\n",
              "    </tr>\n",
              "    <tr>\n",
              "      <th>2</th>\n",
              "      <td>1</td>\n",
              "      <td>1737942</td>\n",
              "      <td>A</td>\n",
              "      <td>G</td>\n",
              "      <td>0.0000</td>\n",
              "      <td>0.00001</td>\n",
              "      <td>0.0000</td>\n",
              "      <td>Human_Phenotype_Ontology:HP:0000486,MedGen:C00...</td>\n",
              "      <td>NaN</td>\n",
              "      <td>Strabismus|Nystagmus|Hypothyroidism|Intellectu...</td>\n",
              "      <td>...</td>\n",
              "      <td>deleterious</td>\n",
              "      <td>probably_damaging</td>\n",
              "      <td>NaN</td>\n",
              "      <td>NaN</td>\n",
              "      <td>NaN</td>\n",
              "      <td>NaN</td>\n",
              "      <td>NaN</td>\n",
              "      <td>28.100</td>\n",
              "      <td>6.061752</td>\n",
              "      <td>-1.0</td>\n",
              "    </tr>\n",
              "    <tr>\n",
              "      <th>3</th>\n",
              "      <td>1</td>\n",
              "      <td>2160305</td>\n",
              "      <td>G</td>\n",
              "      <td>A</td>\n",
              "      <td>0.0000</td>\n",
              "      <td>0.00000</td>\n",
              "      <td>0.0000</td>\n",
              "      <td>MedGen:C1321551,OMIM:182212,SNOMED_CT:83092002...</td>\n",
              "      <td>NaN</td>\n",
              "      <td>Shprintzen-Goldberg_syndrome|not_provided</td>\n",
              "      <td>...</td>\n",
              "      <td>NaN</td>\n",
              "      <td>NaN</td>\n",
              "      <td>NaN</td>\n",
              "      <td>NaN</td>\n",
              "      <td>NaN</td>\n",
              "      <td>NaN</td>\n",
              "      <td>NaN</td>\n",
              "      <td>22.500</td>\n",
              "      <td>3.114491</td>\n",
              "      <td>NaN</td>\n",
              "    </tr>\n",
              "    <tr>\n",
              "      <th>4</th>\n",
              "      <td>1</td>\n",
              "      <td>2160305</td>\n",
              "      <td>G</td>\n",
              "      <td>T</td>\n",
              "      <td>0.0000</td>\n",
              "      <td>0.00000</td>\n",
              "      <td>0.0000</td>\n",
              "      <td>MedGen:C1321551,OMIM:182212,SNOMED_CT:83092002</td>\n",
              "      <td>NaN</td>\n",
              "      <td>Shprintzen-Goldberg_syndrome</td>\n",
              "      <td>...</td>\n",
              "      <td>NaN</td>\n",
              "      <td>NaN</td>\n",
              "      <td>NaN</td>\n",
              "      <td>NaN</td>\n",
              "      <td>NaN</td>\n",
              "      <td>NaN</td>\n",
              "      <td>NaN</td>\n",
              "      <td>24.700</td>\n",
              "      <td>4.766224</td>\n",
              "      <td>-3.0</td>\n",
              "    </tr>\n",
              "  </tbody>\n",
              "</table>\n",
              "<p>5 rows × 46 columns</p>\n",
              "</div>\n",
              "      <button class=\"colab-df-convert\" onclick=\"convertToInteractive('df-682cce2b-4303-410f-ac13-1e707d19333b')\"\n",
              "              title=\"Convert this dataframe to an interactive table.\"\n",
              "              style=\"display:none;\">\n",
              "        \n",
              "  <svg xmlns=\"http://www.w3.org/2000/svg\" height=\"24px\"viewBox=\"0 0 24 24\"\n",
              "       width=\"24px\">\n",
              "    <path d=\"M0 0h24v24H0V0z\" fill=\"none\"/>\n",
              "    <path d=\"M18.56 5.44l.94 2.06.94-2.06 2.06-.94-2.06-.94-.94-2.06-.94 2.06-2.06.94zm-11 1L8.5 8.5l.94-2.06 2.06-.94-2.06-.94L8.5 2.5l-.94 2.06-2.06.94zm10 10l.94 2.06.94-2.06 2.06-.94-2.06-.94-.94-2.06-.94 2.06-2.06.94z\"/><path d=\"M17.41 7.96l-1.37-1.37c-.4-.4-.92-.59-1.43-.59-.52 0-1.04.2-1.43.59L10.3 9.45l-7.72 7.72c-.78.78-.78 2.05 0 2.83L4 21.41c.39.39.9.59 1.41.59.51 0 1.02-.2 1.41-.59l7.78-7.78 2.81-2.81c.8-.78.8-2.07 0-2.86zM5.41 20L4 18.59l7.72-7.72 1.47 1.35L5.41 20z\"/>\n",
              "  </svg>\n",
              "      </button>\n",
              "      \n",
              "  <style>\n",
              "    .colab-df-container {\n",
              "      display:flex;\n",
              "      flex-wrap:wrap;\n",
              "      gap: 12px;\n",
              "    }\n",
              "\n",
              "    .colab-df-convert {\n",
              "      background-color: #E8F0FE;\n",
              "      border: none;\n",
              "      border-radius: 50%;\n",
              "      cursor: pointer;\n",
              "      display: none;\n",
              "      fill: #1967D2;\n",
              "      height: 32px;\n",
              "      padding: 0 0 0 0;\n",
              "      width: 32px;\n",
              "    }\n",
              "\n",
              "    .colab-df-convert:hover {\n",
              "      background-color: #E2EBFA;\n",
              "      box-shadow: 0px 1px 2px rgba(60, 64, 67, 0.3), 0px 1px 3px 1px rgba(60, 64, 67, 0.15);\n",
              "      fill: #174EA6;\n",
              "    }\n",
              "\n",
              "    [theme=dark] .colab-df-convert {\n",
              "      background-color: #3B4455;\n",
              "      fill: #D2E3FC;\n",
              "    }\n",
              "\n",
              "    [theme=dark] .colab-df-convert:hover {\n",
              "      background-color: #434B5C;\n",
              "      box-shadow: 0px 1px 3px 1px rgba(0, 0, 0, 0.15);\n",
              "      filter: drop-shadow(0px 1px 2px rgba(0, 0, 0, 0.3));\n",
              "      fill: #FFFFFF;\n",
              "    }\n",
              "  </style>\n",
              "\n",
              "      <script>\n",
              "        const buttonEl =\n",
              "          document.querySelector('#df-682cce2b-4303-410f-ac13-1e707d19333b button.colab-df-convert');\n",
              "        buttonEl.style.display =\n",
              "          google.colab.kernel.accessAllowed ? 'block' : 'none';\n",
              "\n",
              "        async function convertToInteractive(key) {\n",
              "          const element = document.querySelector('#df-682cce2b-4303-410f-ac13-1e707d19333b');\n",
              "          const dataTable =\n",
              "            await google.colab.kernel.invokeFunction('convertToInteractive',\n",
              "                                                     [key], {});\n",
              "          if (!dataTable) return;\n",
              "\n",
              "          const docLinkHtml = 'Like what you see? Visit the ' +\n",
              "            '<a target=\"_blank\" href=https://colab.research.google.com/notebooks/data_table.ipynb>data table notebook</a>'\n",
              "            + ' to learn more about interactive tables.';\n",
              "          element.innerHTML = '';\n",
              "          dataTable['output_type'] = 'display_data';\n",
              "          await google.colab.output.renderOutput(dataTable, element);\n",
              "          const docLink = document.createElement('div');\n",
              "          docLink.innerHTML = docLinkHtml;\n",
              "          element.appendChild(docLink);\n",
              "        }\n",
              "      </script>\n",
              "    </div>\n",
              "  </div>\n",
              "  "
            ]
          },
          "metadata": {},
          "execution_count": 3
        }
      ]
    },
    {
      "cell_type": "markdown",
      "source": [
        "Feature types:\n",
        "- CHROM = chromsome the variant is located on\n",
        "- POS = variant's position on chromosome\n",
        "- REF = reference allele (non mutated)\n",
        "- ALT = alternate allele (mutated)\n",
        "- AF_ESP = allele frequencies from GO-ESP\n",
        "- AF_EXAC = allele freq from ExAC\n",
        "- AF_TGP = allele freq from 1000 genomes proj\n",
        "- CLNDISDB = description of disease associated with the variant. Stored as a tag-value pair of disease database name and identifier. Within one variable entry, different diseases are separated by \"|\", different databases within the same disease separated by \",\". \n",
        "- CLNDISDBINCL = for included variant, the above (all values = nan)\n",
        "- CLNDN = ClinVar's prefered disease name for the concept specified by disease identifiers in CLNDISDB. \n",
        "- CLNDNINCL = for included variant, the above (all values = nan)\n",
        "- CLNHGVS = a valid HGVS expression based on top-level genomic sequences (assembled chromosomes, mitochondrion,  or alternate loci or patches).\n",
        "- CLNSIGINCL = clinical significance for a haplotype or genotype that includes this variant (all values = nan)\n",
        "- CLNVI = variant type (SNV, deletion, other, etc.)\n",
        "- CLNVI = clinical sources stored as tag-value pairs of database:variant identifier (most nan)\n",
        "- MC = comma separated list of molecular consequences in the form of sequence ontology ID|molecular_consequence\n",
        "- ORIGIN = allele origin. 0 - unknown; 1 - germline; 2 - somatic; 4 - inherited; 8 - paternal; 16 - maternal; 32 - de-novo; 64 - biparental; 128 - uniparental; 256 - not-tested; 512 - tested-inconclusive; 1073741824 - other\n",
        "- SSR = variant suspect reason codes. One of more of the following: 0 - unspecified, 1 - Paralog, 2 - byEST, 4 - oldAlign, 8 - Para_EST, 16 - 1kg_failed, 1024 - other\n",
        "- CLASS = target variable (see below)\n",
        "- Allele = variant allele used to calculate the conseqeunce\n",
        "- Consequence = type of variant consequence, such as \"splice_donor_variant,\" \"stop_lost\", \"missense_variant\", or \"intron_variant\"\n",
        "- IMPACT = subjective classification of the severity of variant consequence, based on SNPEff stored as LOW, MODERATE, etc.\n",
        "- SYMBOL = Gene name\n",
        "- Feature_type = Transcript, RegulatoryFeature, MotifFeature\n",
        "- Feature = Ensembl stable ID of feature\n",
        "- BIOTYPE = all protein_coding? \n",
        "- EXON = exon number (out of total number) (14% [null])\n",
        "- INTRON = intron number (out of total number) (86% [null])\n",
        "- cDNA_position = relative position of base pair in cDNA sequence\n",
        "- CDS_position = relative position of base pair in coding sequence\n",
        "- Protein_position = relative pos of amino acid in protein\n",
        "- Amino_acids = affected amino acids, [null] if variant doesn't affect protein-coding seq\n",
        "- Codons = alternative codons with variant base in uppercase (ex cGg/cAg)\n",
        "- DISTANCE = shortest distance from variant to transcript (100% [null]?)\n",
        "- STRAND = forward (+), reverse (-)\n",
        "- BAM_EDIT = success/failure of edit using a BAM file (51% [null], 49% \"OK\")\n",
        "- SIFT = SIFT (Sorting Intolerant from Tolerant alg) prediction and/or score. Predicts effect of coding vars on protein function. Mostly [null], some \"deleterious\", some other. \n",
        "- PolyPhen = PolyPhen prediction and/or score\n",
        "- MOTIF_NAME = source and identifier of transcription factor binding profile (TFBP) aligned at this position (100% [null])\n",
        "- MOTIF_POS = relative position of variation in algined TFBP (100% [null])\n",
        "- HIGH_INF_POS = flag indicating if variant falls in high information position of a TFBP (100% [null])\n",
        "- MOTIF_SCORE_CHANGE = diffreence in motif score of regerence and variant seq for TFBP (100% [null])\n",
        "- LoFtool = LOF tolerance score for LOF variants \n",
        "- CADD_PHRED = Phred-scaled CADD (combined annotation dependent depletion) score. Predicts varient effect. (Phred score estimates the probability a NT base was sequenced incorrectly. Higher q-score = more confidence.)\n",
        "- CADD_RAW = score of deleteriousness (harm) of variants\n",
        "- BLOSUM62 = assignment of alignment score to subsituted amino acids caused by variants\n",
        "\n",
        "\n",
        "Target variable:\n",
        "- binary (0 = consistent classification, 1 = conflicting classifications)"
      ],
      "metadata": {
        "id": "tItHgo1CTyem"
      }
    },
    {
      "cell_type": "code",
      "source": [
        "#data type and null value info\n",
        "data.info()"
      ],
      "metadata": {
        "colab": {
          "base_uri": "https://localhost:8080/"
        },
        "id": "5CFq1FxapEky",
        "outputId": "52b78234-ac4b-4687-9dcc-b9e8864eb6ab"
      },
      "execution_count": 4,
      "outputs": [
        {
          "output_type": "stream",
          "name": "stdout",
          "text": [
            "<class 'pandas.core.frame.DataFrame'>\n",
            "RangeIndex: 65188 entries, 0 to 65187\n",
            "Data columns (total 46 columns):\n",
            " #   Column              Non-Null Count  Dtype  \n",
            "---  ------              --------------  -----  \n",
            " 0   CHROM               65188 non-null  object \n",
            " 1   POS                 65188 non-null  int64  \n",
            " 2   REF                 65188 non-null  object \n",
            " 3   ALT                 65188 non-null  object \n",
            " 4   AF_ESP              65188 non-null  float64\n",
            " 5   AF_EXAC             65188 non-null  float64\n",
            " 6   AF_TGP              65188 non-null  float64\n",
            " 7   CLNDISDB            65188 non-null  object \n",
            " 8   CLNDISDBINCL        167 non-null    object \n",
            " 9   CLNDN               65188 non-null  object \n",
            " 10  CLNDNINCL           167 non-null    object \n",
            " 11  CLNHGVS             65188 non-null  object \n",
            " 12  CLNSIGINCL          167 non-null    object \n",
            " 13  CLNVC               65188 non-null  object \n",
            " 14  CLNVI               27659 non-null  object \n",
            " 15  MC                  64342 non-null  object \n",
            " 16  ORIGIN              65188 non-null  int64  \n",
            " 17  SSR                 130 non-null    float64\n",
            " 18  CLASS               65188 non-null  int64  \n",
            " 19  Allele              65188 non-null  object \n",
            " 20  Consequence         65188 non-null  object \n",
            " 21  IMPACT              65188 non-null  object \n",
            " 22  SYMBOL              65172 non-null  object \n",
            " 23  Feature_type        65174 non-null  object \n",
            " 24  Feature             65174 non-null  object \n",
            " 25  BIOTYPE             65172 non-null  object \n",
            " 26  EXON                56295 non-null  object \n",
            " 27  INTRON              8803 non-null   object \n",
            " 28  cDNA_position       56304 non-null  object \n",
            " 29  CDS_position        55233 non-null  object \n",
            " 30  Protein_position    55233 non-null  object \n",
            " 31  Amino_acids         55184 non-null  object \n",
            " 32  Codons              55184 non-null  object \n",
            " 33  DISTANCE            108 non-null    float64\n",
            " 34  STRAND              65174 non-null  float64\n",
            " 35  BAM_EDIT            31969 non-null  object \n",
            " 36  SIFT                24836 non-null  object \n",
            " 37  PolyPhen            24796 non-null  object \n",
            " 38  MOTIF_NAME          2 non-null      object \n",
            " 39  MOTIF_POS           2 non-null      float64\n",
            " 40  HIGH_INF_POS        2 non-null      object \n",
            " 41  MOTIF_SCORE_CHANGE  2 non-null      float64\n",
            " 42  LoFtool             60975 non-null  float64\n",
            " 43  CADD_PHRED          64096 non-null  float64\n",
            " 44  CADD_RAW            64096 non-null  float64\n",
            " 45  BLOSUM62            25593 non-null  float64\n",
            "dtypes: float64(12), int64(3), object(31)\n",
            "memory usage: 22.9+ MB\n"
          ]
        }
      ]
    },
    {
      "cell_type": "code",
      "source": [
        "data.describe()"
      ],
      "metadata": {
        "colab": {
          "base_uri": "https://localhost:8080/",
          "height": 364
        },
        "id": "7axNv5Km9Q1U",
        "outputId": "cd58106b-baf0-42b7-f51d-beb87f4a35e1"
      },
      "execution_count": 5,
      "outputs": [
        {
          "output_type": "execute_result",
          "data": {
            "text/plain": [
              "                POS        AF_ESP       AF_EXAC        AF_TGP        ORIGIN  \\\n",
              "count  6.518800e+04  65188.000000  65188.000000  65188.000000  65188.000000   \n",
              "mean   7.757594e+07      0.014511      0.014492      0.015263      1.342486   \n",
              "std    5.974051e+07      0.057795      0.059542      0.059527      5.688772   \n",
              "min    9.610000e+02      0.000000      0.000000      0.000000      0.000000   \n",
              "25%    3.254179e+07      0.000000      0.000000      0.000000      1.000000   \n",
              "50%    5.797021e+07      0.000000      0.000040      0.000000      1.000000   \n",
              "75%    1.127454e+08      0.001200      0.001230      0.001600      1.000000   \n",
              "max    2.476080e+08      0.499000      0.499890      0.499800    513.000000   \n",
              "\n",
              "              SSR         CLASS     DISTANCE        STRAND  MOTIF_POS  \\\n",
              "count  130.000000  65188.000000   108.000000  65174.000000        2.0   \n",
              "mean     2.269231      0.252102   825.731481     -0.006659        1.0   \n",
              "std      4.190777      0.434223  1069.363315      0.999985        0.0   \n",
              "min      1.000000      0.000000     1.000000     -1.000000        1.0   \n",
              "25%      1.000000      0.000000    55.500000     -1.000000        1.0   \n",
              "50%      1.000000      0.000000   469.000000     -1.000000        1.0   \n",
              "75%      1.000000      1.000000  1415.000000      1.000000        1.0   \n",
              "max     16.000000      1.000000  4759.000000      1.000000        1.0   \n",
              "\n",
              "       MOTIF_SCORE_CHANGE       LoFtool    CADD_PHRED      CADD_RAW  \\\n",
              "count            2.000000  60975.000000  64096.000000  64096.000000   \n",
              "mean            -0.080000      0.345058     15.685616      2.554131   \n",
              "std              0.024042      0.361238     10.836350      2.961553   \n",
              "min             -0.097000      0.000069      0.001000     -5.477391   \n",
              "25%             -0.088500      0.024300      7.141000      0.462951   \n",
              "50%             -0.080000      0.157000     14.090000      1.642948   \n",
              "75%             -0.071500      0.710000     24.100000      4.381392   \n",
              "max             -0.063000      1.000000     99.000000     46.556261   \n",
              "\n",
              "           BLOSUM62  \n",
              "count  25593.000000  \n",
              "mean      -0.402258  \n",
              "std        1.872684  \n",
              "min       -3.000000  \n",
              "25%       -2.000000  \n",
              "50%       -1.000000  \n",
              "75%        1.000000  \n",
              "max        3.000000  "
            ],
            "text/html": [
              "\n",
              "  <div id=\"df-8413edaa-4c75-4bd2-8722-e2dddb260f46\">\n",
              "    <div class=\"colab-df-container\">\n",
              "      <div>\n",
              "<style scoped>\n",
              "    .dataframe tbody tr th:only-of-type {\n",
              "        vertical-align: middle;\n",
              "    }\n",
              "\n",
              "    .dataframe tbody tr th {\n",
              "        vertical-align: top;\n",
              "    }\n",
              "\n",
              "    .dataframe thead th {\n",
              "        text-align: right;\n",
              "    }\n",
              "</style>\n",
              "<table border=\"1\" class=\"dataframe\">\n",
              "  <thead>\n",
              "    <tr style=\"text-align: right;\">\n",
              "      <th></th>\n",
              "      <th>POS</th>\n",
              "      <th>AF_ESP</th>\n",
              "      <th>AF_EXAC</th>\n",
              "      <th>AF_TGP</th>\n",
              "      <th>ORIGIN</th>\n",
              "      <th>SSR</th>\n",
              "      <th>CLASS</th>\n",
              "      <th>DISTANCE</th>\n",
              "      <th>STRAND</th>\n",
              "      <th>MOTIF_POS</th>\n",
              "      <th>MOTIF_SCORE_CHANGE</th>\n",
              "      <th>LoFtool</th>\n",
              "      <th>CADD_PHRED</th>\n",
              "      <th>CADD_RAW</th>\n",
              "      <th>BLOSUM62</th>\n",
              "    </tr>\n",
              "  </thead>\n",
              "  <tbody>\n",
              "    <tr>\n",
              "      <th>count</th>\n",
              "      <td>6.518800e+04</td>\n",
              "      <td>65188.000000</td>\n",
              "      <td>65188.000000</td>\n",
              "      <td>65188.000000</td>\n",
              "      <td>65188.000000</td>\n",
              "      <td>130.000000</td>\n",
              "      <td>65188.000000</td>\n",
              "      <td>108.000000</td>\n",
              "      <td>65174.000000</td>\n",
              "      <td>2.0</td>\n",
              "      <td>2.000000</td>\n",
              "      <td>60975.000000</td>\n",
              "      <td>64096.000000</td>\n",
              "      <td>64096.000000</td>\n",
              "      <td>25593.000000</td>\n",
              "    </tr>\n",
              "    <tr>\n",
              "      <th>mean</th>\n",
              "      <td>7.757594e+07</td>\n",
              "      <td>0.014511</td>\n",
              "      <td>0.014492</td>\n",
              "      <td>0.015263</td>\n",
              "      <td>1.342486</td>\n",
              "      <td>2.269231</td>\n",
              "      <td>0.252102</td>\n",
              "      <td>825.731481</td>\n",
              "      <td>-0.006659</td>\n",
              "      <td>1.0</td>\n",
              "      <td>-0.080000</td>\n",
              "      <td>0.345058</td>\n",
              "      <td>15.685616</td>\n",
              "      <td>2.554131</td>\n",
              "      <td>-0.402258</td>\n",
              "    </tr>\n",
              "    <tr>\n",
              "      <th>std</th>\n",
              "      <td>5.974051e+07</td>\n",
              "      <td>0.057795</td>\n",
              "      <td>0.059542</td>\n",
              "      <td>0.059527</td>\n",
              "      <td>5.688772</td>\n",
              "      <td>4.190777</td>\n",
              "      <td>0.434223</td>\n",
              "      <td>1069.363315</td>\n",
              "      <td>0.999985</td>\n",
              "      <td>0.0</td>\n",
              "      <td>0.024042</td>\n",
              "      <td>0.361238</td>\n",
              "      <td>10.836350</td>\n",
              "      <td>2.961553</td>\n",
              "      <td>1.872684</td>\n",
              "    </tr>\n",
              "    <tr>\n",
              "      <th>min</th>\n",
              "      <td>9.610000e+02</td>\n",
              "      <td>0.000000</td>\n",
              "      <td>0.000000</td>\n",
              "      <td>0.000000</td>\n",
              "      <td>0.000000</td>\n",
              "      <td>1.000000</td>\n",
              "      <td>0.000000</td>\n",
              "      <td>1.000000</td>\n",
              "      <td>-1.000000</td>\n",
              "      <td>1.0</td>\n",
              "      <td>-0.097000</td>\n",
              "      <td>0.000069</td>\n",
              "      <td>0.001000</td>\n",
              "      <td>-5.477391</td>\n",
              "      <td>-3.000000</td>\n",
              "    </tr>\n",
              "    <tr>\n",
              "      <th>25%</th>\n",
              "      <td>3.254179e+07</td>\n",
              "      <td>0.000000</td>\n",
              "      <td>0.000000</td>\n",
              "      <td>0.000000</td>\n",
              "      <td>1.000000</td>\n",
              "      <td>1.000000</td>\n",
              "      <td>0.000000</td>\n",
              "      <td>55.500000</td>\n",
              "      <td>-1.000000</td>\n",
              "      <td>1.0</td>\n",
              "      <td>-0.088500</td>\n",
              "      <td>0.024300</td>\n",
              "      <td>7.141000</td>\n",
              "      <td>0.462951</td>\n",
              "      <td>-2.000000</td>\n",
              "    </tr>\n",
              "    <tr>\n",
              "      <th>50%</th>\n",
              "      <td>5.797021e+07</td>\n",
              "      <td>0.000000</td>\n",
              "      <td>0.000040</td>\n",
              "      <td>0.000000</td>\n",
              "      <td>1.000000</td>\n",
              "      <td>1.000000</td>\n",
              "      <td>0.000000</td>\n",
              "      <td>469.000000</td>\n",
              "      <td>-1.000000</td>\n",
              "      <td>1.0</td>\n",
              "      <td>-0.080000</td>\n",
              "      <td>0.157000</td>\n",
              "      <td>14.090000</td>\n",
              "      <td>1.642948</td>\n",
              "      <td>-1.000000</td>\n",
              "    </tr>\n",
              "    <tr>\n",
              "      <th>75%</th>\n",
              "      <td>1.127454e+08</td>\n",
              "      <td>0.001200</td>\n",
              "      <td>0.001230</td>\n",
              "      <td>0.001600</td>\n",
              "      <td>1.000000</td>\n",
              "      <td>1.000000</td>\n",
              "      <td>1.000000</td>\n",
              "      <td>1415.000000</td>\n",
              "      <td>1.000000</td>\n",
              "      <td>1.0</td>\n",
              "      <td>-0.071500</td>\n",
              "      <td>0.710000</td>\n",
              "      <td>24.100000</td>\n",
              "      <td>4.381392</td>\n",
              "      <td>1.000000</td>\n",
              "    </tr>\n",
              "    <tr>\n",
              "      <th>max</th>\n",
              "      <td>2.476080e+08</td>\n",
              "      <td>0.499000</td>\n",
              "      <td>0.499890</td>\n",
              "      <td>0.499800</td>\n",
              "      <td>513.000000</td>\n",
              "      <td>16.000000</td>\n",
              "      <td>1.000000</td>\n",
              "      <td>4759.000000</td>\n",
              "      <td>1.000000</td>\n",
              "      <td>1.0</td>\n",
              "      <td>-0.063000</td>\n",
              "      <td>1.000000</td>\n",
              "      <td>99.000000</td>\n",
              "      <td>46.556261</td>\n",
              "      <td>3.000000</td>\n",
              "    </tr>\n",
              "  </tbody>\n",
              "</table>\n",
              "</div>\n",
              "      <button class=\"colab-df-convert\" onclick=\"convertToInteractive('df-8413edaa-4c75-4bd2-8722-e2dddb260f46')\"\n",
              "              title=\"Convert this dataframe to an interactive table.\"\n",
              "              style=\"display:none;\">\n",
              "        \n",
              "  <svg xmlns=\"http://www.w3.org/2000/svg\" height=\"24px\"viewBox=\"0 0 24 24\"\n",
              "       width=\"24px\">\n",
              "    <path d=\"M0 0h24v24H0V0z\" fill=\"none\"/>\n",
              "    <path d=\"M18.56 5.44l.94 2.06.94-2.06 2.06-.94-2.06-.94-.94-2.06-.94 2.06-2.06.94zm-11 1L8.5 8.5l.94-2.06 2.06-.94-2.06-.94L8.5 2.5l-.94 2.06-2.06.94zm10 10l.94 2.06.94-2.06 2.06-.94-2.06-.94-.94-2.06-.94 2.06-2.06.94z\"/><path d=\"M17.41 7.96l-1.37-1.37c-.4-.4-.92-.59-1.43-.59-.52 0-1.04.2-1.43.59L10.3 9.45l-7.72 7.72c-.78.78-.78 2.05 0 2.83L4 21.41c.39.39.9.59 1.41.59.51 0 1.02-.2 1.41-.59l7.78-7.78 2.81-2.81c.8-.78.8-2.07 0-2.86zM5.41 20L4 18.59l7.72-7.72 1.47 1.35L5.41 20z\"/>\n",
              "  </svg>\n",
              "      </button>\n",
              "      \n",
              "  <style>\n",
              "    .colab-df-container {\n",
              "      display:flex;\n",
              "      flex-wrap:wrap;\n",
              "      gap: 12px;\n",
              "    }\n",
              "\n",
              "    .colab-df-convert {\n",
              "      background-color: #E8F0FE;\n",
              "      border: none;\n",
              "      border-radius: 50%;\n",
              "      cursor: pointer;\n",
              "      display: none;\n",
              "      fill: #1967D2;\n",
              "      height: 32px;\n",
              "      padding: 0 0 0 0;\n",
              "      width: 32px;\n",
              "    }\n",
              "\n",
              "    .colab-df-convert:hover {\n",
              "      background-color: #E2EBFA;\n",
              "      box-shadow: 0px 1px 2px rgba(60, 64, 67, 0.3), 0px 1px 3px 1px rgba(60, 64, 67, 0.15);\n",
              "      fill: #174EA6;\n",
              "    }\n",
              "\n",
              "    [theme=dark] .colab-df-convert {\n",
              "      background-color: #3B4455;\n",
              "      fill: #D2E3FC;\n",
              "    }\n",
              "\n",
              "    [theme=dark] .colab-df-convert:hover {\n",
              "      background-color: #434B5C;\n",
              "      box-shadow: 0px 1px 3px 1px rgba(0, 0, 0, 0.15);\n",
              "      filter: drop-shadow(0px 1px 2px rgba(0, 0, 0, 0.3));\n",
              "      fill: #FFFFFF;\n",
              "    }\n",
              "  </style>\n",
              "\n",
              "      <script>\n",
              "        const buttonEl =\n",
              "          document.querySelector('#df-8413edaa-4c75-4bd2-8722-e2dddb260f46 button.colab-df-convert');\n",
              "        buttonEl.style.display =\n",
              "          google.colab.kernel.accessAllowed ? 'block' : 'none';\n",
              "\n",
              "        async function convertToInteractive(key) {\n",
              "          const element = document.querySelector('#df-8413edaa-4c75-4bd2-8722-e2dddb260f46');\n",
              "          const dataTable =\n",
              "            await google.colab.kernel.invokeFunction('convertToInteractive',\n",
              "                                                     [key], {});\n",
              "          if (!dataTable) return;\n",
              "\n",
              "          const docLinkHtml = 'Like what you see? Visit the ' +\n",
              "            '<a target=\"_blank\" href=https://colab.research.google.com/notebooks/data_table.ipynb>data table notebook</a>'\n",
              "            + ' to learn more about interactive tables.';\n",
              "          element.innerHTML = '';\n",
              "          dataTable['output_type'] = 'display_data';\n",
              "          await google.colab.output.renderOutput(dataTable, element);\n",
              "          const docLink = document.createElement('div');\n",
              "          docLink.innerHTML = docLinkHtml;\n",
              "          element.appendChild(docLink);\n",
              "        }\n",
              "      </script>\n",
              "    </div>\n",
              "  </div>\n",
              "  "
            ]
          },
          "metadata": {},
          "execution_count": 5
        }
      ]
    },
    {
      "cell_type": "markdown",
      "source": [
        "Now we may consider each attribute and if the data representation for each is suited for use in an ML model. \n",
        "In order to see correlations via a heatmap, we need to encode values as numbers."
      ],
      "metadata": {
        "id": "cL3VFrXawzBt"
      }
    },
    {
      "cell_type": "markdown",
      "source": [
        "cDNA_position, CDS_position, and Protein_position are stored as an object because they are represented as ranges. We may encode them as a single number to essentially represent the start position. "
      ],
      "metadata": {
        "id": "2KwhJ186uJIj"
      }
    },
    {
      "cell_type": "code",
      "source": [
        "#Encode cDNA_position, CDS_position, Protein_position to represent a single number instead of a span of numbers (ex. \"100-102\")\n",
        "data.insert(0,\"KEY\",data.CLNHGVS)\n",
        "\n",
        "def singlenum(data, columns):\n",
        "  for i in columns:\n",
        "    singlenum = pd.DataFrame(data[i][data[i].notnull()].str.split(\"-\").tolist(), columns=['X', 'Y'])\n",
        "    singlenum['X'][singlenum['X'] == '?'] = singlenum['Y']\n",
        "    \n",
        "    key = data[[i,\"KEY\"]][data[i].notnull()][\"KEY\"]\n",
        "    count = 0\n",
        "    for j in key.index:\n",
        "      data[i][j] = singlenum['X'][count]\n",
        "      count += 1\n",
        "    data[i] = data[i].astype(float)\n",
        "  return data\n",
        "\n",
        "data = singlenum(data, ['cDNA_position', 'CDS_position', 'Protein_position'])\n",
        "print('cDNA_position unique values:', data['cDNA_position'].unique())\n",
        "print('CDS_position unique values:', data['CDS_position'].unique())\n",
        "print('Protein position unique values:', data['Protein_position'].unique())"
      ],
      "metadata": {
        "colab": {
          "base_uri": "https://localhost:8080/"
        },
        "id": "tetuMjQBt-8u",
        "outputId": "2b19f20f-53cc-4d6b-96ff-924bf99f56af"
      },
      "execution_count": 6,
      "outputs": [
        {
          "output_type": "stream",
          "name": "stderr",
          "text": [
            "/usr/local/lib/python3.7/dist-packages/ipykernel_launcher.py:12: SettingWithCopyWarning: \n",
            "A value is trying to be set on a copy of a slice from a DataFrame\n",
            "\n",
            "See the caveats in the documentation: https://pandas.pydata.org/pandas-docs/stable/user_guide/indexing.html#returning-a-view-versus-a-copy\n",
            "  if sys.path[0] == '':\n"
          ]
        },
        {
          "output_type": "stream",
          "name": "stdout",
          "text": [
            "cDNA_position unique values: [ 552.  523.  632. ... 8028. 6765. 5959.]\n",
            "CDS_position unique values: [ 522.  509.  239. ... 4737. 4447. 4232.]\n",
            "Protein position unique values: [ 174.  170.   80. ... 3228. 3162. 2992.]\n"
          ]
        }
      ]
    },
    {
      "cell_type": "markdown",
      "source": [
        "Exon/Intron data is stored as objects and represented as \"number/number\", but it can be represented as a float. "
      ],
      "metadata": {
        "id": "iDKafXOFxM2M"
      }
    },
    {
      "cell_type": "code",
      "source": [
        "#exon/intron conversion to float\n",
        "def converttofloat(data, columns):\n",
        "  for col in columns:\n",
        "    converttofloat = pd.DataFrame(data[col][data[col].notnull()].str.split(\"/\").tolist(),columns=[\"num\",\"denom\"])\n",
        "    converttofloat = converttofloat.astype(\"float\")\n",
        "    converttofloat[\"Result\"] = converttofloat[\"num\"] / converttofloat[\"denom\"]\n",
        "    key = data[[col,\"KEY\"]][data[col].notnull()][\"KEY\"]\n",
        "\n",
        "    count = 0\n",
        "    for i in key.index:\n",
        "      data[col][i] = converttofloat[\"Result\"][count]\n",
        "      count += 1\n",
        "    data[col] = data[col].astype(float)\n",
        "  return data\n",
        "\n",
        "data = converttofloat(data, ['INTRON','EXON'])"
      ],
      "metadata": {
        "colab": {
          "base_uri": "https://localhost:8080/"
        },
        "id": "Zb3xb6lBxJau",
        "outputId": "faedbb7a-cbe3-4972-a7b5-ca411fa89fb4"
      },
      "execution_count": 7,
      "outputs": [
        {
          "output_type": "stream",
          "name": "stderr",
          "text": [
            "/usr/local/lib/python3.7/dist-packages/ipykernel_launcher.py:11: SettingWithCopyWarning: \n",
            "A value is trying to be set on a copy of a slice from a DataFrame\n",
            "\n",
            "See the caveats in the documentation: https://pandas.pydata.org/pandas-docs/stable/user_guide/indexing.html#returning-a-view-versus-a-copy\n",
            "  # This is added back by InteractiveShellApp.init_path()\n"
          ]
        }
      ]
    },
    {
      "cell_type": "code",
      "source": [
        "#encode Molecular Consequence attribute (MC = seq ontology ID|molecular consequence)\n",
        "#drop null values, split types of molecular consequences\n",
        "MC_list = data['MC'].dropna().str.split(',').apply(lambda row: list((c.split('|')[1] for c in row)))\n",
        "MC_encoded = pd.get_dummies(MC_list.apply(pd.Series).stack()).sum(level=0)\n",
        "MC_encoded = MC_encoded.reindex(index=MC_list.index)\n",
        "\n",
        "data = data.join(MC_encoded).drop(columns=['MC'])\n",
        "\n",
        "MC_encoded.head()\n",
        "\n",
        "#We'll have to manually encode this into the feature matrix\n",
        "\n",
        "#Also, drop 'Consequence' as it has the same values. \n",
        "data.drop(['Consequence'], axis=1, inplace=True)"
      ],
      "metadata": {
        "colab": {
          "base_uri": "https://localhost:8080/"
        },
        "id": "iPSztj0WC5Wf",
        "outputId": "e7e48d2a-84a6-4280-a11a-0628da02d34e"
      },
      "execution_count": 8,
      "outputs": [
        {
          "output_type": "stream",
          "name": "stderr",
          "text": [
            "/usr/local/lib/python3.7/dist-packages/ipykernel_launcher.py:4: FutureWarning: Using the level keyword in DataFrame and Series aggregations is deprecated and will be removed in a future version. Use groupby instead. df.sum(level=1) should use df.groupby(level=1).sum().\n",
            "  after removing the cwd from sys.path.\n"
          ]
        }
      ]
    },
    {
      "cell_type": "code",
      "source": [
        "#ordinally encode SIFT and PolyPhen\n",
        "data = pd.get_dummies(data, columns=['SIFT', 'PolyPhen'])\n",
        "data.columns"
      ],
      "metadata": {
        "colab": {
          "base_uri": "https://localhost:8080/"
        },
        "id": "UtwQDHXMDLz1",
        "outputId": "e3fc5c81-9bc6-4af3-eb85-5f15c81fe855"
      },
      "execution_count": 9,
      "outputs": [
        {
          "output_type": "execute_result",
          "data": {
            "text/plain": [
              "Index(['KEY', 'CHROM', 'POS', 'REF', 'ALT', 'AF_ESP', 'AF_EXAC', 'AF_TGP',\n",
              "       'CLNDISDB', 'CLNDISDBINCL', 'CLNDN', 'CLNDNINCL', 'CLNHGVS',\n",
              "       'CLNSIGINCL', 'CLNVC', 'CLNVI', 'ORIGIN', 'SSR', 'CLASS', 'Allele',\n",
              "       'IMPACT', 'SYMBOL', 'Feature_type', 'Feature', 'BIOTYPE', 'EXON',\n",
              "       'INTRON', 'cDNA_position', 'CDS_position', 'Protein_position',\n",
              "       'Amino_acids', 'Codons', 'DISTANCE', 'STRAND', 'BAM_EDIT', 'MOTIF_NAME',\n",
              "       'MOTIF_POS', 'HIGH_INF_POS', 'MOTIF_SCORE_CHANGE', 'LoFtool',\n",
              "       'CADD_PHRED', 'CADD_RAW', 'BLOSUM62', '2KB_upstream_variant',\n",
              "       '3_prime_UTR_variant', '500B_downstream_variant', '5_prime_UTR_variant',\n",
              "       'frameshift_variant', 'intron_variant', 'missense_variant', 'nonsense',\n",
              "       'splice_acceptor_variant', 'splice_donor_variant', 'synonymous_variant',\n",
              "       'SIFT_deleterious', 'SIFT_deleterious_low_confidence', 'SIFT_tolerated',\n",
              "       'SIFT_tolerated_low_confidence', 'PolyPhen_benign',\n",
              "       'PolyPhen_possibly_damaging', 'PolyPhen_probably_damaging',\n",
              "       'PolyPhen_unknown'],\n",
              "      dtype='object')"
            ]
          },
          "metadata": {},
          "execution_count": 9
        }
      ]
    },
    {
      "cell_type": "code",
      "source": [
        "#Encode REF, ALT, Allale with label encoder\n",
        "le = LabelEncoder()\n",
        "ref_enc = le.fit_transform(X_train_scaled['REF'])\n",
        "alt_enc = le.fit_transform(X_train_scaled['ALT'])\n",
        "allele_enc = le.fit_transform(X_train_scaled['Allele'])\n",
        "ref_test_enc = le.fit(X_test['REF'])\n",
        "alt_test_enc = le.fit(X_test['ALT'])\n",
        "allele_test_enc = le.fit(X_test['Allele'])\n",
        "print(ref_enc)\n",
        "print(alt_enc)\n",
        "print(allele_enc)\n",
        "\n",
        "X_train_scaled['REF'] = ref_enc\n",
        "X_train_scaled['ALT'] = alt_enc\n",
        "X_train_scaled['Allele'] = allele_enc\n",
        "X_test['REF'] = ref_test_enc\n",
        "X_test['ALT'] = alt_test_enc\n",
        "X_test['Allele'] = allele_test_enc"
      ],
      "metadata": {
        "colab": {
          "base_uri": "https://localhost:8080/"
        },
        "id": "Xlxca3ZmJcPN",
        "outputId": "4f8caa20-2663-4a50-8b66-379d783f2660"
      },
      "execution_count": 49,
      "outputs": [
        {
          "output_type": "stream",
          "name": "stdout",
          "text": [
            "[63 54 66 ... 64 61 64]\n",
            "[55 39 55 ... 50 47 42]\n",
            "[31 19 31 ... 28 26 22]\n"
          ]
        }
      ]
    },
    {
      "cell_type": "code",
      "source": [
        "#create numerical data distribution histograms\n",
        "data.hist(figsize=(15,15))"
      ],
      "metadata": {
        "colab": {
          "base_uri": "https://localhost:8080/",
          "height": 1000
        },
        "id": "nX-QBxu37oCx",
        "outputId": "ecca4b8d-1345-4927-a010-087aa0cd9491"
      },
      "execution_count": 50,
      "outputs": [
        {
          "output_type": "execute_result",
          "data": {
            "text/plain": [
              "array([[<matplotlib.axes._subplots.AxesSubplot object at 0x7eff5e9479d0>,\n",
              "        <matplotlib.axes._subplots.AxesSubplot object at 0x7eff59d18b50>,\n",
              "        <matplotlib.axes._subplots.AxesSubplot object at 0x7eff59c8c590>,\n",
              "        <matplotlib.axes._subplots.AxesSubplot object at 0x7eff59c348d0>,\n",
              "        <matplotlib.axes._subplots.AxesSubplot object at 0x7eff59c53dd0>],\n",
              "       [<matplotlib.axes._subplots.AxesSubplot object at 0x7eff59c0f310>,\n",
              "        <matplotlib.axes._subplots.AxesSubplot object at 0x7eff59bc3890>,\n",
              "        <matplotlib.axes._subplots.AxesSubplot object at 0x7eff59b75cd0>,\n",
              "        <matplotlib.axes._subplots.AxesSubplot object at 0x7eff59b75d10>,\n",
              "        <matplotlib.axes._subplots.AxesSubplot object at 0x7eff59b36350>],\n",
              "       [<matplotlib.axes._subplots.AxesSubplot object at 0x7eff59b1dc50>,\n",
              "        <matplotlib.axes._subplots.AxesSubplot object at 0x7eff59add190>,\n",
              "        <matplotlib.axes._subplots.AxesSubplot object at 0x7eff59a91690>,\n",
              "        <matplotlib.axes._subplots.AxesSubplot object at 0x7eff59a44b90>,\n",
              "        <matplotlib.axes._subplots.AxesSubplot object at 0x7eff59a050d0>],\n",
              "       [<matplotlib.axes._subplots.AxesSubplot object at 0x7eff599bd5d0>,\n",
              "        <matplotlib.axes._subplots.AxesSubplot object at 0x7eff5996ea90>,\n",
              "        <matplotlib.axes._subplots.AxesSubplot object at 0x7eff59925f90>,\n",
              "        <matplotlib.axes._subplots.AxesSubplot object at 0x7eff598e34d0>,\n",
              "        <matplotlib.axes._subplots.AxesSubplot object at 0x7eff599179d0>],\n",
              "       [<matplotlib.axes._subplots.AxesSubplot object at 0x7eff598cced0>,\n",
              "        <matplotlib.axes._subplots.AxesSubplot object at 0x7eff5988b410>,\n",
              "        <matplotlib.axes._subplots.AxesSubplot object at 0x7eff5983e910>,\n",
              "        <matplotlib.axes._subplots.AxesSubplot object at 0x7eff597f1e10>,\n",
              "        <matplotlib.axes._subplots.AxesSubplot object at 0x7eff597b2350>],\n",
              "       [<matplotlib.axes._subplots.AxesSubplot object at 0x7eff59765850>,\n",
              "        <matplotlib.axes._subplots.AxesSubplot object at 0x7eff5979bd50>,\n",
              "        <matplotlib.axes._subplots.AxesSubplot object at 0x7eff5975a290>,\n",
              "        <matplotlib.axes._subplots.AxesSubplot object at 0x7eff5970e790>,\n",
              "        <matplotlib.axes._subplots.AxesSubplot object at 0x7eff596c0c90>]],\n",
              "      dtype=object)"
            ]
          },
          "metadata": {},
          "execution_count": 50
        },
        {
          "output_type": "display_data",
          "data": {
            "text/plain": [
              "<Figure size 1080x1080 with 30 Axes>"
            ],
            "image/png": "[encoded data removed]"
          },
          "metadata": {
            "needs_background": "light"
          }
        }
      ]
    },
    {
      "cell_type": "code",
      "source": [
        "#Correlaion Heatmap of data\n",
        "f, ax = plt.subplots(figsize=(20, 9))\n",
        "sns.heatmap(data.corr(), annot=True)\n",
        "plt.show()"
      ],
      "metadata": {
        "colab": {
          "base_uri": "https://localhost:8080/",
          "height": 376
        },
        "id": "5r1EgH-ZCZwl",
        "outputId": "0352900b-31f2-4aad-8a67-d532529e2367"
      },
      "execution_count": 51,
      "outputs": [
        {
          "output_type": "display_data",
          "data": {
            "text/plain": [
              "<Figure size 1440x648 with 2 Axes>"
            ],
            "image/png": "[encoded data removed]"
          },
          "metadata": {
            "needs_background": "light"
          }
        }
      ]
    },
    {
      "cell_type": "markdown",
      "source": [
        "We see high correlation between:\n",
        "- AF_TGP, AF_ESP, and AF_EXAC. Therefore we will remove AF_TGP and AF_EXAC during data preprocessing. \n",
        "- cDNA_position, CDS_position, and Protein_position. Therefore we will remove cDNA_position, CDS_position. \n",
        "- CADD_PHRED and CADD_RAW. Therefore, we will remove CADD_RAW, to consider the phred score in the model. \n",
        "- EXON and INTRON. Therefore, we'll combine the two into one variable. "
      ],
      "metadata": {
        "id": "F567FCkpCW8f"
      }
    },
    {
      "cell_type": "markdown",
      "source": [
        "The dataframe has three sets of allele frequency reportings -- one from GO-ESP, one from ExAC, and one from the 1000s genomes project. Let's compare them to see if there are discrepancies. \n",
        "\n",
        "It also has two different scores (or predicted score, but there isn't a good way to differenciate) from different algorithms for protein function with said variant. However, we can't compare them as they're categorical variable. We will compare them in the train set after train/validation/test split.  "
      ],
      "metadata": {
        "id": "ZDPDpQtN44il"
      }
    },
    {
      "cell_type": "code",
      "source": [
        "#compare allele frequencies:\n",
        "data.boxplot(column=['AF_ESP', 'AF_EXAC', 'AF_TGP'])"
      ],
      "metadata": {
        "colab": {
          "base_uri": "https://localhost:8080/",
          "height": 283
        },
        "id": "D_bsMWPB45xF",
        "outputId": "ccfc4061-c0a4-4789-df77-6781ca802f63"
      },
      "execution_count": 12,
      "outputs": [
        {
          "output_type": "execute_result",
          "data": {
            "text/plain": [
              "<matplotlib.axes._subplots.AxesSubplot at 0x7eff5c59b190>"
            ]
          },
          "metadata": {},
          "execution_count": 12
        },
        {
          "output_type": "display_data",
          "data": {
            "text/plain": [
              "<Figure size 432x288 with 1 Axes>"
            ],
            "image/png": "[encoded data removed]"
          },
          "metadata": {
            "needs_background": "light"
          }
        }
      ]
    },
    {
      "cell_type": "markdown",
      "source": [
        "While there are a lot of outliers here, it's biologically correct that there are significant amounts of genes that have significantly higher mutated allele frequencies. We will deal with outliers below. "
      ],
      "metadata": {
        "id": "kLV2P6Ia7j2c"
      }
    },
    {
      "cell_type": "markdown",
      "source": [
        "Look at varient types: CLNVC"
      ],
      "metadata": {
        "id": "Y43Csi8Hp8w2"
      }
    },
    {
      "cell_type": "code",
      "source": [
        "varient = pd.crosstab(data.CLNVC, data.CLASS, margins=True)\n",
        "varient = varient.drop('All', axis=0)\n",
        "varient = varient.sort_values(by='All', ascending=False)\n",
        "print('Varient types:')\n",
        "varient"
      ],
      "metadata": {
        "colab": {
          "base_uri": "https://localhost:8080/",
          "height": 318
        },
        "id": "lMNzzlaJp7nk",
        "outputId": "9a6debcb-b1cb-4427-8ac7-a94fef81c4e0"
      },
      "execution_count": 13,
      "outputs": [
        {
          "output_type": "stream",
          "name": "stdout",
          "text": [
            "Varient types:\n"
          ]
        },
        {
          "output_type": "execute_result",
          "data": {
            "text/plain": [
              "CLASS                          0      1    All\n",
              "CLNVC                                         \n",
              "single_nucleotide_variant  45578  15703  61281\n",
              "Deletion                    2057    452   2509\n",
              "Duplication                  816    218   1034\n",
              "Indel                        207     40    247\n",
              "Insertion                     81     14     95\n",
              "Inversion                     13      4     17\n",
              "Microsatellite                 2      3      5"
            ],
            "text/html": [
              "\n",
              "  <div id=\"df-4f9de71c-b484-4af0-a34f-8a18ef1aaaf0\">\n",
              "    <div class=\"colab-df-container\">\n",
              "      <div>\n",
              "<style scoped>\n",
              "    .dataframe tbody tr th:only-of-type {\n",
              "        vertical-align: middle;\n",
              "    }\n",
              "\n",
              "    .dataframe tbody tr th {\n",
              "        vertical-align: top;\n",
              "    }\n",
              "\n",
              "    .dataframe thead th {\n",
              "        text-align: right;\n",
              "    }\n",
              "</style>\n",
              "<table border=\"1\" class=\"dataframe\">\n",
              "  <thead>\n",
              "    <tr style=\"text-align: right;\">\n",
              "      <th>CLASS</th>\n",
              "      <th>0</th>\n",
              "      <th>1</th>\n",
              "      <th>All</th>\n",
              "    </tr>\n",
              "    <tr>\n",
              "      <th>CLNVC</th>\n",
              "      <th></th>\n",
              "      <th></th>\n",
              "      <th></th>\n",
              "    </tr>\n",
              "  </thead>\n",
              "  <tbody>\n",
              "    <tr>\n",
              "      <th>single_nucleotide_variant</th>\n",
              "      <td>45578</td>\n",
              "      <td>15703</td>\n",
              "      <td>61281</td>\n",
              "    </tr>\n",
              "    <tr>\n",
              "      <th>Deletion</th>\n",
              "      <td>2057</td>\n",
              "      <td>452</td>\n",
              "      <td>2509</td>\n",
              "    </tr>\n",
              "    <tr>\n",
              "      <th>Duplication</th>\n",
              "      <td>816</td>\n",
              "      <td>218</td>\n",
              "      <td>1034</td>\n",
              "    </tr>\n",
              "    <tr>\n",
              "      <th>Indel</th>\n",
              "      <td>207</td>\n",
              "      <td>40</td>\n",
              "      <td>247</td>\n",
              "    </tr>\n",
              "    <tr>\n",
              "      <th>Insertion</th>\n",
              "      <td>81</td>\n",
              "      <td>14</td>\n",
              "      <td>95</td>\n",
              "    </tr>\n",
              "    <tr>\n",
              "      <th>Inversion</th>\n",
              "      <td>13</td>\n",
              "      <td>4</td>\n",
              "      <td>17</td>\n",
              "    </tr>\n",
              "    <tr>\n",
              "      <th>Microsatellite</th>\n",
              "      <td>2</td>\n",
              "      <td>3</td>\n",
              "      <td>5</td>\n",
              "    </tr>\n",
              "  </tbody>\n",
              "</table>\n",
              "</div>\n",
              "      <button class=\"colab-df-convert\" onclick=\"convertToInteractive('df-4f9de71c-b484-4af0-a34f-8a18ef1aaaf0')\"\n",
              "              title=\"Convert this dataframe to an interactive table.\"\n",
              "              style=\"display:none;\">\n",
              "        \n",
              "  <svg xmlns=\"http://www.w3.org/2000/svg\" height=\"24px\"viewBox=\"0 0 24 24\"\n",
              "       width=\"24px\">\n",
              "    <path d=\"M0 0h24v24H0V0z\" fill=\"none\"/>\n",
              "    <path d=\"M18.56 5.44l.94 2.06.94-2.06 2.06-.94-2.06-.94-.94-2.06-.94 2.06-2.06.94zm-11 1L8.5 8.5l.94-2.06 2.06-.94-2.06-.94L8.5 2.5l-.94 2.06-2.06.94zm10 10l.94 2.06.94-2.06 2.06-.94-2.06-.94-.94-2.06-.94 2.06-2.06.94z\"/><path d=\"M17.41 7.96l-1.37-1.37c-.4-.4-.92-.59-1.43-.59-.52 0-1.04.2-1.43.59L10.3 9.45l-7.72 7.72c-.78.78-.78 2.05 0 2.83L4 21.41c.39.39.9.59 1.41.59.51 0 1.02-.2 1.41-.59l7.78-7.78 2.81-2.81c.8-.78.8-2.07 0-2.86zM5.41 20L4 18.59l7.72-7.72 1.47 1.35L5.41 20z\"/>\n",
              "  </svg>\n",
              "      </button>\n",
              "      \n",
              "  <style>\n",
              "    .colab-df-container {\n",
              "      display:flex;\n",
              "      flex-wrap:wrap;\n",
              "      gap: 12px;\n",
              "    }\n",
              "\n",
              "    .colab-df-convert {\n",
              "      background-color: #E8F0FE;\n",
              "      border: none;\n",
              "      border-radius: 50%;\n",
              "      cursor: pointer;\n",
              "      display: none;\n",
              "      fill: #1967D2;\n",
              "      height: 32px;\n",
              "      padding: 0 0 0 0;\n",
              "      width: 32px;\n",
              "    }\n",
              "\n",
              "    .colab-df-convert:hover {\n",
              "      background-color: #E2EBFA;\n",
              "      box-shadow: 0px 1px 2px rgba(60, 64, 67, 0.3), 0px 1px 3px 1px rgba(60, 64, 67, 0.15);\n",
              "      fill: #174EA6;\n",
              "    }\n",
              "\n",
              "    [theme=dark] .colab-df-convert {\n",
              "      background-color: #3B4455;\n",
              "      fill: #D2E3FC;\n",
              "    }\n",
              "\n",
              "    [theme=dark] .colab-df-convert:hover {\n",
              "      background-color: #434B5C;\n",
              "      box-shadow: 0px 1px 3px 1px rgba(0, 0, 0, 0.15);\n",
              "      filter: drop-shadow(0px 1px 2px rgba(0, 0, 0, 0.3));\n",
              "      fill: #FFFFFF;\n",
              "    }\n",
              "  </style>\n",
              "\n",
              "      <script>\n",
              "        const buttonEl =\n",
              "          document.querySelector('#df-4f9de71c-b484-4af0-a34f-8a18ef1aaaf0 button.colab-df-convert');\n",
              "        buttonEl.style.display =\n",
              "          google.colab.kernel.accessAllowed ? 'block' : 'none';\n",
              "\n",
              "        async function convertToInteractive(key) {\n",
              "          const element = document.querySelector('#df-4f9de71c-b484-4af0-a34f-8a18ef1aaaf0');\n",
              "          const dataTable =\n",
              "            await google.colab.kernel.invokeFunction('convertToInteractive',\n",
              "                                                     [key], {});\n",
              "          if (!dataTable) return;\n",
              "\n",
              "          const docLinkHtml = 'Like what you see? Visit the ' +\n",
              "            '<a target=\"_blank\" href=https://colab.research.google.com/notebooks/data_table.ipynb>data table notebook</a>'\n",
              "            + ' to learn more about interactive tables.';\n",
              "          element.innerHTML = '';\n",
              "          dataTable['output_type'] = 'display_data';\n",
              "          await google.colab.output.renderOutput(dataTable, element);\n",
              "          const docLink = document.createElement('div');\n",
              "          docLink.innerHTML = docLinkHtml;\n",
              "          element.appendChild(docLink);\n",
              "        }\n",
              "      </script>\n",
              "    </div>\n",
              "  </div>\n",
              "  "
            ]
          },
          "metadata": {},
          "execution_count": 13
        }
      ]
    },
    {
      "cell_type": "code",
      "source": [
        "# Check target label distribution\n",
        "ax = sns.countplot(x=\"CLASS\", data=data)\n",
        "ax.set(xlabel='CLASS', ylabel='Num Varients')\n",
        "for i in ax.patches: \n",
        "  x=i.get_bbox().get_points()[:,0]\n",
        "  y=i.get_bbox().get_points()[1,1]\n",
        "  ax.annotate('{:.2f}%'.format(100.*y/len(data)), (x.mean(), y), ha='center', va='bottom') \n",
        "plt.title('Histogram of Binary Target Categories')"
      ],
      "metadata": {
        "colab": {
          "base_uri": "https://localhost:8080/",
          "height": 312
        },
        "id": "Ia_b3P2q7uAc",
        "outputId": "54217002-c9a9-4788-e983-ce17a53037df"
      },
      "execution_count": 14,
      "outputs": [
        {
          "output_type": "execute_result",
          "data": {
            "text/plain": [
              "Text(0.5, 1.0, 'Histogram of Binary Target Categories')"
            ]
          },
          "metadata": {},
          "execution_count": 14
        },
        {
          "output_type": "display_data",
          "data": {
            "text/plain": [
              "<Figure size 432x288 with 1 Axes>"
            ],
            "image/png": "[encoded data removed]"
          },
          "metadata": {
            "needs_background": "light"
          }
        }
      ]
    },
    {
      "cell_type": "markdown",
      "source": [
        "There's over 2x more consistent data than conflicting data -- the CLASS dist is skewed to the 0 class. However, there is a significant amount of data available, enough that the model may be able to train well on skewed data. We will analyze the classifier's ability to identify true positive and true negative instances correctly after model training/testing, and determine if other preprocessing is needed. "
      ],
      "metadata": {
        "id": "bGPgySg27x-R"
      }
    },
    {
      "cell_type": "markdown",
      "source": [
        "Are conflicting variants more common in some genes? "
      ],
      "metadata": {
        "id": "sEqIj7Y-76aX"
      }
    },
    {
      "cell_type": "code",
      "source": [
        "gene = pd.crosstab(data.SYMBOL, data.CLASS, margins=True)\n",
        "gene = gene.drop('All', axis=0)\n",
        "gene = gene.sort_values(by='All', ascending=False).head(50)\n",
        "print('Gene list with conflicting variants:')\n",
        "gene"
      ],
      "metadata": {
        "colab": {
          "base_uri": "https://localhost:8080/",
          "height": 1000
        },
        "id": "OyF90rpk77ah",
        "outputId": "758496a4-ba85-4a3b-8374-43e0614672fa"
      },
      "execution_count": 15,
      "outputs": [
        {
          "output_type": "stream",
          "name": "stdout",
          "text": [
            "Gene list with conflicting variants:\n"
          ]
        },
        {
          "output_type": "execute_result",
          "data": {
            "text/plain": [
              "CLASS       0    1   All\n",
              "SYMBOL                  \n",
              "TTN      1877  888  2765\n",
              "BRCA2    1352  582  1934\n",
              "ATM      1691  218  1909\n",
              "APC      1057  171  1228\n",
              "BRCA1     729  346  1075\n",
              "MSH6      931  117  1048\n",
              "LDLR      614  291   905\n",
              "PALB2     701   93   794\n",
              "NF1       656   76   732\n",
              "TSC2      455  185   640\n",
              "BRIP1     557   70   627\n",
              "PMS2      491  109   600\n",
              "MSH2      524   72   596\n",
              "POLE      500   71   571\n",
              "CDH1      472   81   553\n",
              "CHEK2     432   59   491\n",
              "BARD1     441   49   490\n",
              "SMARCA4   402   49   451\n",
              "MYBPC3    300  141   441\n",
              "RAD50     403   23   426\n",
              "SYNE1     292  130   422\n",
              "TP53      281  139   420\n",
              "POLD1     354   50   404\n",
              "NBN       333   64   397\n",
              "MLH1      346   49   395\n",
              "MUTYH     333   58   391\n",
              "PLEC      267  112   379\n",
              "STK11     293   66   359\n",
              "MYH7      187  146   333\n",
              "NEB       206  115   321\n",
              "DMD       214  106   320\n",
              "RYR2      224   95   319\n",
              "RYR1      218   95   313\n",
              "FBN1      236   75   311\n",
              "DICER1    278   30   308\n",
              "SCN5A     190  113   303\n",
              "COL6A3    189  101   290\n",
              "PTEN      222   34   256\n",
              "RAD51C    223   25   248\n",
              "RAD51D    207   30   237\n",
              "DSP       151   77   228\n",
              "RET       168   57   225\n",
              "USH2A     132   88   220\n",
              "TSC1      148   71   219\n",
              "DYSF      157   55   212\n",
              "CDH23     115   95   210\n",
              "PTCH1     136   61   197\n",
              "COL5A1    156   40   196\n",
              "SYNE2     155   40   195\n",
              "BMPR1A    163   32   195"
            ],
            "text/html": [
              "\n",
              "  <div id=\"df-6c5c5f69-3f52-451a-ac57-8911029b81e4\">\n",
              "    <div class=\"colab-df-container\">\n",
              "      <div>\n",
              "<style scoped>\n",
              "    .dataframe tbody tr th:only-of-type {\n",
              "        vertical-align: middle;\n",
              "    }\n",
              "\n",
              "    .dataframe tbody tr th {\n",
              "        vertical-align: top;\n",
              "    }\n",
              "\n",
              "    .dataframe thead th {\n",
              "        text-align: right;\n",
              "    }\n",
              "</style>\n",
              "<table border=\"1\" class=\"dataframe\">\n",
              "  <thead>\n",
              "    <tr style=\"text-align: right;\">\n",
              "      <th>CLASS</th>\n",
              "      <th>0</th>\n",
              "      <th>1</th>\n",
              "      <th>All</th>\n",
              "    </tr>\n",
              "    <tr>\n",
              "      <th>SYMBOL</th>\n",
              "      <th></th>\n",
              "      <th></th>\n",
              "      <th></th>\n",
              "    </tr>\n",
              "  </thead>\n",
              "  <tbody>\n",
              "    <tr>\n",
              "      <th>TTN</th>\n",
              "      <td>1877</td>\n",
              "      <td>888</td>\n",
              "      <td>2765</td>\n",
              "    </tr>\n",
              "    <tr>\n",
              "      <th>BRCA2</th>\n",
              "      <td>1352</td>\n",
              "      <td>582</td>\n",
              "      <td>1934</td>\n",
              "    </tr>\n",
              "    <tr>\n",
              "      <th>ATM</th>\n",
              "      <td>1691</td>\n",
              "      <td>218</td>\n",
              "      <td>1909</td>\n",
              "    </tr>\n",
              "    <tr>\n",
              "      <th>APC</th>\n",
              "      <td>1057</td>\n",
              "      <td>171</td>\n",
              "      <td>1228</td>\n",
              "    </tr>\n",
              "    <tr>\n",
              "      <th>BRCA1</th>\n",
              "      <td>729</td>\n",
              "      <td>346</td>\n",
              "      <td>1075</td>\n",
              "    </tr>\n",
              "    <tr>\n",
              "      <th>MSH6</th>\n",
              "      <td>931</td>\n",
              "      <td>117</td>\n",
              "      <td>1048</td>\n",
              "    </tr>\n",
              "    <tr>\n",
              "      <th>LDLR</th>\n",
              "      <td>614</td>\n",
              "      <td>291</td>\n",
              "      <td>905</td>\n",
              "    </tr>\n",
              "    <tr>\n",
              "      <th>PALB2</th>\n",
              "      <td>701</td>\n",
              "      <td>93</td>\n",
              "      <td>794</td>\n",
              "    </tr>\n",
              "    <tr>\n",
              "      <th>NF1</th>\n",
              "      <td>656</td>\n",
              "      <td>76</td>\n",
              "      <td>732</td>\n",
              "    </tr>\n",
              "    <tr>\n",
              "      <th>TSC2</th>\n",
              "      <td>455</td>\n",
              "      <td>185</td>\n",
              "      <td>640</td>\n",
              "    </tr>\n",
              "    <tr>\n",
              "      <th>BRIP1</th>\n",
              "      <td>557</td>\n",
              "      <td>70</td>\n",
              "      <td>627</td>\n",
              "    </tr>\n",
              "    <tr>\n",
              "      <th>PMS2</th>\n",
              "      <td>491</td>\n",
              "      <td>109</td>\n",
              "      <td>600</td>\n",
              "    </tr>\n",
              "    <tr>\n",
              "      <th>MSH2</th>\n",
              "      <td>524</td>\n",
              "      <td>72</td>\n",
              "      <td>596</td>\n",
              "    </tr>\n",
              "    <tr>\n",
              "      <th>POLE</th>\n",
              "      <td>500</td>\n",
              "      <td>71</td>\n",
              "      <td>571</td>\n",
              "    </tr>\n",
              "    <tr>\n",
              "      <th>CDH1</th>\n",
              "      <td>472</td>\n",
              "      <td>81</td>\n",
              "      <td>553</td>\n",
              "    </tr>\n",
              "    <tr>\n",
              "      <th>CHEK2</th>\n",
              "      <td>432</td>\n",
              "      <td>59</td>\n",
              "      <td>491</td>\n",
              "    </tr>\n",
              "    <tr>\n",
              "      <th>BARD1</th>\n",
              "      <td>441</td>\n",
              "      <td>49</td>\n",
              "      <td>490</td>\n",
              "    </tr>\n",
              "    <tr>\n",
              "      <th>SMARCA4</th>\n",
              "      <td>402</td>\n",
              "      <td>49</td>\n",
              "      <td>451</td>\n",
              "    </tr>\n",
              "    <tr>\n",
              "      <th>MYBPC3</th>\n",
              "      <td>300</td>\n",
              "      <td>141</td>\n",
              "      <td>441</td>\n",
              "    </tr>\n",
              "    <tr>\n",
              "      <th>RAD50</th>\n",
              "      <td>403</td>\n",
              "      <td>23</td>\n",
              "      <td>426</td>\n",
              "    </tr>\n",
              "    <tr>\n",
              "      <th>SYNE1</th>\n",
              "      <td>292</td>\n",
              "      <td>130</td>\n",
              "      <td>422</td>\n",
              "    </tr>\n",
              "    <tr>\n",
              "      <th>TP53</th>\n",
              "      <td>281</td>\n",
              "      <td>139</td>\n",
              "      <td>420</td>\n",
              "    </tr>\n",
              "    <tr>\n",
              "      <th>POLD1</th>\n",
              "      <td>354</td>\n",
              "      <td>50</td>\n",
              "      <td>404</td>\n",
              "    </tr>\n",
              "    <tr>\n",
              "      <th>NBN</th>\n",
              "      <td>333</td>\n",
              "      <td>64</td>\n",
              "      <td>397</td>\n",
              "    </tr>\n",
              "    <tr>\n",
              "      <th>MLH1</th>\n",
              "      <td>346</td>\n",
              "      <td>49</td>\n",
              "      <td>395</td>\n",
              "    </tr>\n",
              "    <tr>\n",
              "      <th>MUTYH</th>\n",
              "      <td>333</td>\n",
              "      <td>58</td>\n",
              "      <td>391</td>\n",
              "    </tr>\n",
              "    <tr>\n",
              "      <th>PLEC</th>\n",
              "      <td>267</td>\n",
              "      <td>112</td>\n",
              "      <td>379</td>\n",
              "    </tr>\n",
              "    <tr>\n",
              "      <th>STK11</th>\n",
              "      <td>293</td>\n",
              "      <td>66</td>\n",
              "      <td>359</td>\n",
              "    </tr>\n",
              "    <tr>\n",
              "      <th>MYH7</th>\n",
              "      <td>187</td>\n",
              "      <td>146</td>\n",
              "      <td>333</td>\n",
              "    </tr>\n",
              "    <tr>\n",
              "      <th>NEB</th>\n",
              "      <td>206</td>\n",
              "      <td>115</td>\n",
              "      <td>321</td>\n",
              "    </tr>\n",
              "    <tr>\n",
              "      <th>DMD</th>\n",
              "      <td>214</td>\n",
              "      <td>106</td>\n",
              "      <td>320</td>\n",
              "    </tr>\n",
              "    <tr>\n",
              "      <th>RYR2</th>\n",
              "      <td>224</td>\n",
              "      <td>95</td>\n",
              "      <td>319</td>\n",
              "    </tr>\n",
              "    <tr>\n",
              "      <th>RYR1</th>\n",
              "      <td>218</td>\n",
              "      <td>95</td>\n",
              "      <td>313</td>\n",
              "    </tr>\n",
              "    <tr>\n",
              "      <th>FBN1</th>\n",
              "      <td>236</td>\n",
              "      <td>75</td>\n",
              "      <td>311</td>\n",
              "    </tr>\n",
              "    <tr>\n",
              "      <th>DICER1</th>\n",
              "      <td>278</td>\n",
              "      <td>30</td>\n",
              "      <td>308</td>\n",
              "    </tr>\n",
              "    <tr>\n",
              "      <th>SCN5A</th>\n",
              "      <td>190</td>\n",
              "      <td>113</td>\n",
              "      <td>303</td>\n",
              "    </tr>\n",
              "    <tr>\n",
              "      <th>COL6A3</th>\n",
              "      <td>189</td>\n",
              "      <td>101</td>\n",
              "      <td>290</td>\n",
              "    </tr>\n",
              "    <tr>\n",
              "      <th>PTEN</th>\n",
              "      <td>222</td>\n",
              "      <td>34</td>\n",
              "      <td>256</td>\n",
              "    </tr>\n",
              "    <tr>\n",
              "      <th>RAD51C</th>\n",
              "      <td>223</td>\n",
              "      <td>25</td>\n",
              "      <td>248</td>\n",
              "    </tr>\n",
              "    <tr>\n",
              "      <th>RAD51D</th>\n",
              "      <td>207</td>\n",
              "      <td>30</td>\n",
              "      <td>237</td>\n",
              "    </tr>\n",
              "    <tr>\n",
              "      <th>DSP</th>\n",
              "      <td>151</td>\n",
              "      <td>77</td>\n",
              "      <td>228</td>\n",
              "    </tr>\n",
              "    <tr>\n",
              "      <th>RET</th>\n",
              "      <td>168</td>\n",
              "      <td>57</td>\n",
              "      <td>225</td>\n",
              "    </tr>\n",
              "    <tr>\n",
              "      <th>USH2A</th>\n",
              "      <td>132</td>\n",
              "      <td>88</td>\n",
              "      <td>220</td>\n",
              "    </tr>\n",
              "    <tr>\n",
              "      <th>TSC1</th>\n",
              "      <td>148</td>\n",
              "      <td>71</td>\n",
              "      <td>219</td>\n",
              "    </tr>\n",
              "    <tr>\n",
              "      <th>DYSF</th>\n",
              "      <td>157</td>\n",
              "      <td>55</td>\n",
              "      <td>212</td>\n",
              "    </tr>\n",
              "    <tr>\n",
              "      <th>CDH23</th>\n",
              "      <td>115</td>\n",
              "      <td>95</td>\n",
              "      <td>210</td>\n",
              "    </tr>\n",
              "    <tr>\n",
              "      <th>PTCH1</th>\n",
              "      <td>136</td>\n",
              "      <td>61</td>\n",
              "      <td>197</td>\n",
              "    </tr>\n",
              "    <tr>\n",
              "      <th>COL5A1</th>\n",
              "      <td>156</td>\n",
              "      <td>40</td>\n",
              "      <td>196</td>\n",
              "    </tr>\n",
              "    <tr>\n",
              "      <th>SYNE2</th>\n",
              "      <td>155</td>\n",
              "      <td>40</td>\n",
              "      <td>195</td>\n",
              "    </tr>\n",
              "    <tr>\n",
              "      <th>BMPR1A</th>\n",
              "      <td>163</td>\n",
              "      <td>32</td>\n",
              "      <td>195</td>\n",
              "    </tr>\n",
              "  </tbody>\n",
              "</table>\n",
              "</div>\n",
              "      <button class=\"colab-df-convert\" onclick=\"convertToInteractive('df-6c5c5f69-3f52-451a-ac57-8911029b81e4')\"\n",
              "              title=\"Convert this dataframe to an interactive table.\"\n",
              "              style=\"display:none;\">\n",
              "        \n",
              "  <svg xmlns=\"http://www.w3.org/2000/svg\" height=\"24px\"viewBox=\"0 0 24 24\"\n",
              "       width=\"24px\">\n",
              "    <path d=\"M0 0h24v24H0V0z\" fill=\"none\"/>\n",
              "    <path d=\"M18.56 5.44l.94 2.06.94-2.06 2.06-.94-2.06-.94-.94-2.06-.94 2.06-2.06.94zm-11 1L8.5 8.5l.94-2.06 2.06-.94-2.06-.94L8.5 2.5l-.94 2.06-2.06.94zm10 10l.94 2.06.94-2.06 2.06-.94-2.06-.94-.94-2.06-.94 2.06-2.06.94z\"/><path d=\"M17.41 7.96l-1.37-1.37c-.4-.4-.92-.59-1.43-.59-.52 0-1.04.2-1.43.59L10.3 9.45l-7.72 7.72c-.78.78-.78 2.05 0 2.83L4 21.41c.39.39.9.59 1.41.59.51 0 1.02-.2 1.41-.59l7.78-7.78 2.81-2.81c.8-.78.8-2.07 0-2.86zM5.41 20L4 18.59l7.72-7.72 1.47 1.35L5.41 20z\"/>\n",
              "  </svg>\n",
              "      </button>\n",
              "      \n",
              "  <style>\n",
              "    .colab-df-container {\n",
              "      display:flex;\n",
              "      flex-wrap:wrap;\n",
              "      gap: 12px;\n",
              "    }\n",
              "\n",
              "    .colab-df-convert {\n",
              "      background-color: #E8F0FE;\n",
              "      border: none;\n",
              "      border-radius: 50%;\n",
              "      cursor: pointer;\n",
              "      display: none;\n",
              "      fill: #1967D2;\n",
              "      height: 32px;\n",
              "      padding: 0 0 0 0;\n",
              "      width: 32px;\n",
              "    }\n",
              "\n",
              "    .colab-df-convert:hover {\n",
              "      background-color: #E2EBFA;\n",
              "      box-shadow: 0px 1px 2px rgba(60, 64, 67, 0.3), 0px 1px 3px 1px rgba(60, 64, 67, 0.15);\n",
              "      fill: #174EA6;\n",
              "    }\n",
              "\n",
              "    [theme=dark] .colab-df-convert {\n",
              "      background-color: #3B4455;\n",
              "      fill: #D2E3FC;\n",
              "    }\n",
              "\n",
              "    [theme=dark] .colab-df-convert:hover {\n",
              "      background-color: #434B5C;\n",
              "      box-shadow: 0px 1px 3px 1px rgba(0, 0, 0, 0.15);\n",
              "      filter: drop-shadow(0px 1px 2px rgba(0, 0, 0, 0.3));\n",
              "      fill: #FFFFFF;\n",
              "    }\n",
              "  </style>\n",
              "\n",
              "      <script>\n",
              "        const buttonEl =\n",
              "          document.querySelector('#df-6c5c5f69-3f52-451a-ac57-8911029b81e4 button.colab-df-convert');\n",
              "        buttonEl.style.display =\n",
              "          google.colab.kernel.accessAllowed ? 'block' : 'none';\n",
              "\n",
              "        async function convertToInteractive(key) {\n",
              "          const element = document.querySelector('#df-6c5c5f69-3f52-451a-ac57-8911029b81e4');\n",
              "          const dataTable =\n",
              "            await google.colab.kernel.invokeFunction('convertToInteractive',\n",
              "                                                     [key], {});\n",
              "          if (!dataTable) return;\n",
              "\n",
              "          const docLinkHtml = 'Like what you see? Visit the ' +\n",
              "            '<a target=\"_blank\" href=https://colab.research.google.com/notebooks/data_table.ipynb>data table notebook</a>'\n",
              "            + ' to learn more about interactive tables.';\n",
              "          element.innerHTML = '';\n",
              "          dataTable['output_type'] = 'display_data';\n",
              "          await google.colab.output.renderOutput(dataTable, element);\n",
              "          const docLink = document.createElement('div');\n",
              "          docLink.innerHTML = docLinkHtml;\n",
              "          element.appendChild(docLink);\n",
              "        }\n",
              "      </script>\n",
              "    </div>\n",
              "  </div>\n",
              "  "
            ]
          },
          "metadata": {},
          "execution_count": 15
        }
      ]
    },
    {
      "cell_type": "markdown",
      "source": [
        "### Data Preprocessing:\n",
        "\n",
        "It's difficult to remove samples from both X and y train/validation/test feature matrices during preprocessing. While removing data/encoding data technically alters data, it can be assumed that this preprocessing can occur in all cases. We will preprocess data first, and then train/test split. "
      ],
      "metadata": {
        "id": "lhBML_C__27F"
      }
    },
    {
      "cell_type": "markdown",
      "source": [
        "**Missing Values:**\n",
        "\n",
        "We will remove any value that doesn't have a gene name attached to it ('SYMBOL[i]=[null]'). \n",
        "\n",
        "We cannot impute numbers for exon and intron, but we can replace the [null] status with a 0. \n",
        "\n",
        "Finally, we will calculate % missing values for all attributes. Features with missing values over 99%, will not provide useful information to the classifier, so we will remove those features. "
      ],
      "metadata": {
        "id": "agiSRzqhCzJe"
      }
    },
    {
      "cell_type": "code",
      "source": [
        "#compute percentage [null] data in all attributes\n",
        "def NullStats(data):\n",
        "  var_names = []\n",
        "  nullvalue_pclist = []\n",
        "  for i in data.columns:\n",
        "    var_names.append(i)\n",
        "    nullvalue_pc = round((data[i].isna().sum()/len(data[i])),4)\n",
        "    nullvalue_pclist.append(nullvalue_pc)\n",
        "  nullvalue_df = pd.DataFrame({'Variable':var_names, '% Null Values':nullvalue_pclist})\n",
        "  return nullvalue_df.sort_values(by='% Null Values', ascending=False)\n",
        "\n",
        "nullvalues = NullStats(data)\n",
        "nullvalues = nullvalues.set_index(\"Variable\")\n",
        "nullvalues"
      ],
      "metadata": {
        "colab": {
          "base_uri": "https://localhost:8080/",
          "height": 455
        },
        "id": "AOEHsNK4M3n7",
        "outputId": "79e677e4-fd64-4702-94d5-b0c9be813012"
      },
      "execution_count": 16,
      "outputs": [
        {
          "output_type": "execute_result",
          "data": {
            "text/plain": [
              "                    % Null Values\n",
              "Variable                         \n",
              "MOTIF_NAME                 1.0000\n",
              "MOTIF_POS                  1.0000\n",
              "MOTIF_SCORE_CHANGE         1.0000\n",
              "HIGH_INF_POS               1.0000\n",
              "DISTANCE                   0.9983\n",
              "...                           ...\n",
              "AF_ESP                     0.0000\n",
              "ALT                        0.0000\n",
              "REF                        0.0000\n",
              "POS                        0.0000\n",
              "PolyPhen_unknown           0.0000\n",
              "\n",
              "[62 rows x 1 columns]"
            ],
            "text/html": [
              "\n",
              "  <div id=\"df-b331b853-2ea4-4496-9ce7-1bbc247ba442\">\n",
              "    <div class=\"colab-df-container\">\n",
              "      <div>\n",
              "<style scoped>\n",
              "    .dataframe tbody tr th:only-of-type {\n",
              "        vertical-align: middle;\n",
              "    }\n",
              "\n",
              "    .dataframe tbody tr th {\n",
              "        vertical-align: top;\n",
              "    }\n",
              "\n",
              "    .dataframe thead th {\n",
              "        text-align: right;\n",
              "    }\n",
              "</style>\n",
              "<table border=\"1\" class=\"dataframe\">\n",
              "  <thead>\n",
              "    <tr style=\"text-align: right;\">\n",
              "      <th></th>\n",
              "      <th>% Null Values</th>\n",
              "    </tr>\n",
              "    <tr>\n",
              "      <th>Variable</th>\n",
              "      <th></th>\n",
              "    </tr>\n",
              "  </thead>\n",
              "  <tbody>\n",
              "    <tr>\n",
              "      <th>MOTIF_NAME</th>\n",
              "      <td>1.0000</td>\n",
              "    </tr>\n",
              "    <tr>\n",
              "      <th>MOTIF_POS</th>\n",
              "      <td>1.0000</td>\n",
              "    </tr>\n",
              "    <tr>\n",
              "      <th>MOTIF_SCORE_CHANGE</th>\n",
              "      <td>1.0000</td>\n",
              "    </tr>\n",
              "    <tr>\n",
              "      <th>HIGH_INF_POS</th>\n",
              "      <td>1.0000</td>\n",
              "    </tr>\n",
              "    <tr>\n",
              "      <th>DISTANCE</th>\n",
              "      <td>0.9983</td>\n",
              "    </tr>\n",
              "    <tr>\n",
              "      <th>...</th>\n",
              "      <td>...</td>\n",
              "    </tr>\n",
              "    <tr>\n",
              "      <th>AF_ESP</th>\n",
              "      <td>0.0000</td>\n",
              "    </tr>\n",
              "    <tr>\n",
              "      <th>ALT</th>\n",
              "      <td>0.0000</td>\n",
              "    </tr>\n",
              "    <tr>\n",
              "      <th>REF</th>\n",
              "      <td>0.0000</td>\n",
              "    </tr>\n",
              "    <tr>\n",
              "      <th>POS</th>\n",
              "      <td>0.0000</td>\n",
              "    </tr>\n",
              "    <tr>\n",
              "      <th>PolyPhen_unknown</th>\n",
              "      <td>0.0000</td>\n",
              "    </tr>\n",
              "  </tbody>\n",
              "</table>\n",
              "<p>62 rows × 1 columns</p>\n",
              "</div>\n",
              "      <button class=\"colab-df-convert\" onclick=\"convertToInteractive('df-b331b853-2ea4-4496-9ce7-1bbc247ba442')\"\n",
              "              title=\"Convert this dataframe to an interactive table.\"\n",
              "              style=\"display:none;\">\n",
              "        \n",
              "  <svg xmlns=\"http://www.w3.org/2000/svg\" height=\"24px\"viewBox=\"0 0 24 24\"\n",
              "       width=\"24px\">\n",
              "    <path d=\"M0 0h24v24H0V0z\" fill=\"none\"/>\n",
              "    <path d=\"M18.56 5.44l.94 2.06.94-2.06 2.06-.94-2.06-.94-.94-2.06-.94 2.06-2.06.94zm-11 1L8.5 8.5l.94-2.06 2.06-.94-2.06-.94L8.5 2.5l-.94 2.06-2.06.94zm10 10l.94 2.06.94-2.06 2.06-.94-2.06-.94-.94-2.06-.94 2.06-2.06.94z\"/><path d=\"M17.41 7.96l-1.37-1.37c-.4-.4-.92-.59-1.43-.59-.52 0-1.04.2-1.43.59L10.3 9.45l-7.72 7.72c-.78.78-.78 2.05 0 2.83L4 21.41c.39.39.9.59 1.41.59.51 0 1.02-.2 1.41-.59l7.78-7.78 2.81-2.81c.8-.78.8-2.07 0-2.86zM5.41 20L4 18.59l7.72-7.72 1.47 1.35L5.41 20z\"/>\n",
              "  </svg>\n",
              "      </button>\n",
              "      \n",
              "  <style>\n",
              "    .colab-df-container {\n",
              "      display:flex;\n",
              "      flex-wrap:wrap;\n",
              "      gap: 12px;\n",
              "    }\n",
              "\n",
              "    .colab-df-convert {\n",
              "      background-color: #E8F0FE;\n",
              "      border: none;\n",
              "      border-radius: 50%;\n",
              "      cursor: pointer;\n",
              "      display: none;\n",
              "      fill: #1967D2;\n",
              "      height: 32px;\n",
              "      padding: 0 0 0 0;\n",
              "      width: 32px;\n",
              "    }\n",
              "\n",
              "    .colab-df-convert:hover {\n",
              "      background-color: #E2EBFA;\n",
              "      box-shadow: 0px 1px 2px rgba(60, 64, 67, 0.3), 0px 1px 3px 1px rgba(60, 64, 67, 0.15);\n",
              "      fill: #174EA6;\n",
              "    }\n",
              "\n",
              "    [theme=dark] .colab-df-convert {\n",
              "      background-color: #3B4455;\n",
              "      fill: #D2E3FC;\n",
              "    }\n",
              "\n",
              "    [theme=dark] .colab-df-convert:hover {\n",
              "      background-color: #434B5C;\n",
              "      box-shadow: 0px 1px 3px 1px rgba(0, 0, 0, 0.15);\n",
              "      filter: drop-shadow(0px 1px 2px rgba(0, 0, 0, 0.3));\n",
              "      fill: #FFFFFF;\n",
              "    }\n",
              "  </style>\n",
              "\n",
              "      <script>\n",
              "        const buttonEl =\n",
              "          document.querySelector('#df-b331b853-2ea4-4496-9ce7-1bbc247ba442 button.colab-df-convert');\n",
              "        buttonEl.style.display =\n",
              "          google.colab.kernel.accessAllowed ? 'block' : 'none';\n",
              "\n",
              "        async function convertToInteractive(key) {\n",
              "          const element = document.querySelector('#df-b331b853-2ea4-4496-9ce7-1bbc247ba442');\n",
              "          const dataTable =\n",
              "            await google.colab.kernel.invokeFunction('convertToInteractive',\n",
              "                                                     [key], {});\n",
              "          if (!dataTable) return;\n",
              "\n",
              "          const docLinkHtml = 'Like what you see? Visit the ' +\n",
              "            '<a target=\"_blank\" href=https://colab.research.google.com/notebooks/data_table.ipynb>data table notebook</a>'\n",
              "            + ' to learn more about interactive tables.';\n",
              "          element.innerHTML = '';\n",
              "          dataTable['output_type'] = 'display_data';\n",
              "          await google.colab.output.renderOutput(dataTable, element);\n",
              "          const docLink = document.createElement('div');\n",
              "          docLink.innerHTML = docLinkHtml;\n",
              "          element.appendChild(docLink);\n",
              "        }\n",
              "      </script>\n",
              "    </div>\n",
              "  </div>\n",
              "  "
            ]
          },
          "metadata": {},
          "execution_count": 16
        }
      ]
    },
    {
      "cell_type": "code",
      "source": [
        "#remove feature columns with >99% missing\n",
        "drop_list = list(nullvalues[nullvalues['% Null Values'] >= 0.99].index)\n",
        "data.drop(drop_list, axis=1, inplace=True)\n",
        "data.shape #reflecting 9 removed features"
      ],
      "metadata": {
        "colab": {
          "base_uri": "https://localhost:8080/"
        },
        "id": "0YJDj_X6B9xd",
        "outputId": "91888c1d-25e7-401c-99aa-e79a35ccf69c"
      },
      "execution_count": 17,
      "outputs": [
        {
          "output_type": "execute_result",
          "data": {
            "text/plain": [
              "(65188, 53)"
            ]
          },
          "metadata": {},
          "execution_count": 17
        }
      ]
    },
    {
      "cell_type": "code",
      "source": [
        "#remove variables without gene name ('SYMBOL')\n",
        "print('X_train shape before dropping SYMBOL-less samples:', data.shape)\n",
        "print('Null values in SYMBOL feature before dropping samples with SYMBOL null values:', data.SYMBOL.isnull().sum())\n",
        "data = data.dropna(axis=0, subset=['SYMBOL']) #drop rows with NaN values in SYMBOL\n",
        "print(\"X_train shape after dropping SYMBOL-less sample\", data.shape)\n",
        "print(\"Null values in SYMBOL feature:\", data.SYMBOL.isnull().sum())"
      ],
      "metadata": {
        "colab": {
          "base_uri": "https://localhost:8080/"
        },
        "id": "rsr6VUvXImP3",
        "outputId": "5c75dabc-47f4-4f99-afce-3ffdb261a58c"
      },
      "execution_count": 18,
      "outputs": [
        {
          "output_type": "stream",
          "name": "stdout",
          "text": [
            "X_train shape before dropping SYMBOL-less samples: (65188, 53)\n",
            "Null values in SYMBOL feature before dropping samples with SYMBOL null values: 16\n",
            "X_train shape after dropping SYMBOL-less sample (65172, 53)\n",
            "Null values in SYMBOL feature: 0\n"
          ]
        }
      ]
    },
    {
      "cell_type": "markdown",
      "source": [
        "The variables in the attributes 'Feature_type' and 'BIOTYPE' are all 100% the same identity in the provided dataset. While there are multiple options for the attributes, if all 65k samples are one of each type, it seems unlikely that new samples would have other types. This is mainly due to the way that the genome is sequenced -- the variables in 'Feature_type' and 'BIOTYPE' are the feature type and biotype that are most commonly measured. However, as technology improves and more advanced sequencing becomes commonplace, sequencing and studying the other variable options for these attributes may occur. That being said, for the sake of data simplicity, I will remove these variables from this model. \n",
        "\n",
        "Additionally, I will also remove 'AF_TGP', 'AF_EXAC', 'cDNA_position', 'CDS_position', and 'CADD_RAW', as mentioned earlier. \n",
        "\n",
        "Finally, drop CLNHGVS, as from a biological/statistics standpoint each value will be unique and therefore provide little information. "
      ],
      "metadata": {
        "id": "BkvEg2KsSLjw"
      }
    },
    {
      "cell_type": "code",
      "source": [
        "#remove AF_TGP, AF_EXAC, Feature_type, BIOTYPE, cDNA_position, CDS_position, CADD_RAW, and CLNHGVS attributes:\n",
        "print('Data shape before dropping eight attributes:', data.shape)\n",
        "data.drop(['AF_TGP', 'AF_EXAC', 'Feature_type', 'BIOTYPE', 'cDNA_position', 'CDS_position', 'CADD_RAW', 'CLNHGVS'], axis=1, inplace=True)\n",
        "print('Data shape after dropping eight attributes:', data.shape)"
      ],
      "metadata": {
        "colab": {
          "base_uri": "https://localhost:8080/"
        },
        "id": "tPFY0wn7oVhJ",
        "outputId": "a7f7563d-ca7c-4812-836e-1aca14f0d8ef"
      },
      "execution_count": 19,
      "outputs": [
        {
          "output_type": "stream",
          "name": "stdout",
          "text": [
            "Data shape before dropping eight attributes: (65172, 53)\n",
            "Data shape after dropping eight attributes: (65172, 45)\n"
          ]
        },
        {
          "output_type": "stream",
          "name": "stderr",
          "text": [
            "/usr/local/lib/python3.7/dist-packages/pandas/core/frame.py:4913: SettingWithCopyWarning: \n",
            "A value is trying to be set on a copy of a slice from a DataFrame\n",
            "\n",
            "See the caveats in the documentation: https://pandas.pydata.org/pandas-docs/stable/user_guide/indexing.html#returning-a-view-versus-a-copy\n",
            "  errors=errors,\n"
          ]
        }
      ]
    },
    {
      "cell_type": "code",
      "source": [
        "#replace 'EXON' and 'INTRON' [null] values with 0\n",
        "data.EXON.fillna(0, inplace=True) # could also use data.EXON = data.EXON.fillna(0)\n",
        "data.INTRON.fillna(0, inplace=True)\n",
        "\n",
        "print(\"Null values in EXON:\", data.EXON.isnull().sum())\n",
        "print(\"Null values in INTRON:\", data.INTRON.isnull().sum())"
      ],
      "metadata": {
        "colab": {
          "base_uri": "https://localhost:8080/"
        },
        "id": "8LhCtGdwEAPS",
        "outputId": "e55d04fd-b11f-4834-d69f-617e27f2349a"
      },
      "execution_count": 20,
      "outputs": [
        {
          "output_type": "stream",
          "name": "stdout",
          "text": [
            "Null values in EXON: 0\n",
            "Null values in INTRON: 0\n"
          ]
        },
        {
          "output_type": "stream",
          "name": "stderr",
          "text": [
            "/usr/local/lib/python3.7/dist-packages/pandas/core/generic.py:6392: SettingWithCopyWarning: \n",
            "A value is trying to be set on a copy of a slice from a DataFrame\n",
            "\n",
            "See the caveats in the documentation: https://pandas.pydata.org/pandas-docs/stable/user_guide/indexing.html#returning-a-view-versus-a-copy\n",
            "  return self._update_inplace(result)\n"
          ]
        }
      ]
    },
    {
      "cell_type": "code",
      "source": [
        "'''#combine 'EXON' and 'INTRON' columns\n",
        "data[\"EXON\"][data[\"EXON\"].isnull()] = data[\"INTRON\"][data[\"INTRON\"].notnull()]\n",
        "#drop 'INTRON' \n",
        "data.drop(['INTRON'], axis = 1, inplace = True)'''"
      ],
      "metadata": {
        "colab": {
          "base_uri": "https://localhost:8080/",
          "height": 70
        },
        "id": "HkZ5OwPA1Upa",
        "outputId": "e05ce987-7a32-4c78-e8ab-5d4b54c6a957"
      },
      "execution_count": 21,
      "outputs": [
        {
          "output_type": "execute_result",
          "data": {
            "text/plain": [
              "'#combine \\'EXON\\' and \\'INTRON\\' columns\\ndata[\"EXON\"][data[\"EXON\"].isnull()] = data[\"INTRON\"][data[\"INTRON\"].notnull()]\\n#drop \\'INTRON\\' \\ndata.drop([\\'INTRON\\'], axis = 1, inplace = True)'"
            ],
            "application/vnd.google.colaboratory.intrinsic+json": {
              "type": "string"
            }
          },
          "metadata": {},
          "execution_count": 21
        }
      ]
    },
    {
      "cell_type": "code",
      "source": [
        "#CLNDN: change 'not_specified' and 'not_provided' as the same category\n",
        "clndn = pd.concat([data.CLASS.loc[(data.CLNDN=='not_specified') | (data.CLNDN=='not_provided') | (data.CLNDN=='not_specified|not_provided')].value_counts(normalize=True).rename('disease_not_specified'), \n",
        "                       data.CLASS.loc[(data.CLNDN!='not_specified') | (data.CLNDN!='not_provided') | (data.CLNDN!='not_specified|not_provided')].value_counts(normalize=True).rename('some_disease_specified')], \n",
        "                      axis=1)\n",
        "clndn.plot.bar(stacked=True)"
      ],
      "metadata": {
        "colab": {
          "base_uri": "https://localhost:8080/",
          "height": 279
        },
        "id": "R8zB9ZqbMgpL",
        "outputId": "bd10e2fc-3e67-4369-92cb-9decc3b082a0"
      },
      "execution_count": 22,
      "outputs": [
        {
          "output_type": "execute_result",
          "data": {
            "text/plain": [
              "<matplotlib.axes._subplots.AxesSubplot at 0x7eff5e01dcd0>"
            ]
          },
          "metadata": {},
          "execution_count": 22
        },
        {
          "output_type": "display_data",
          "data": {
            "text/plain": [
              "<Figure size 432x288 with 1 Axes>"
            ],
            "image/png": "[encoded data removed]"
          },
          "metadata": {
            "needs_background": "light"
          }
        }
      ]
    },
    {
      "cell_type": "code",
      "source": [
        "# Identify duplicates\n",
        "data.duplicated().sum()"
      ],
      "metadata": {
        "colab": {
          "base_uri": "https://localhost:8080/"
        },
        "id": "-W4HUScDRgi-",
        "outputId": "1c1e8398-29cf-4df7-8f47-0145cef4a34d"
      },
      "execution_count": 23,
      "outputs": [
        {
          "output_type": "execute_result",
          "data": {
            "text/plain": [
              "0"
            ]
          },
          "metadata": {},
          "execution_count": 23
        }
      ]
    },
    {
      "cell_type": "markdown",
      "source": [
        "### Split data into Train, Validation, Test:\n",
        "Before data preprocessing, we will split our data to avoid biasing our validation and test pools."
      ],
      "metadata": {
        "id": "7BXOstcsw5JL"
      }
    },
    {
      "cell_type": "code",
      "source": [
        "#construct feature matrix \n",
        "X = data[['CHROM', 'POS', 'REF', 'ALT', 'AF_ESP', 'CLNDN', 'CLNVI',\n",
        "       'CLNDISDB', 'CLNVC', 'ORIGIN', 'Allele',\n",
        "       'IMPACT', 'SYMBOL', 'Feature', 'EXON', 'INTRON',\n",
        "       'Protein_position', 'Amino_acids',\n",
        "       'Codons', 'STRAND', 'BAM_EDIT', 'LoFtool',\n",
        "       'CADD_PHRED', 'BLOSUM62', '2KB_upstream_variant',\t\n",
        "       '3_prime_UTR_variant',\t'500B_downstream_variant',\t'5_prime_UTR_variant',\t\n",
        "       'frameshift_variant',\t'intron_variant',\t'missense_variant',\t'nonsense',\t\n",
        "       'splice_acceptor_variant',\t'splice_donor_variant',\t'synonymous_variant', \n",
        "       'SIFT_deleterious', 'SIFT_deleterious_low_confidence',\t'SIFT_tolerated',\t\n",
        "       'SIFT_tolerated_low_confidence',\t'PolyPhen_benign',\t'PolyPhen_possibly_damaging',\t\n",
        "       'PolyPhen_probably_damaging', 'PolyPhen_unknown']]\n",
        "y = data['CLASS']\n",
        "\n",
        "X.shape, y.shape"
      ],
      "metadata": {
        "colab": {
          "base_uri": "https://localhost:8080/"
        },
        "id": "lnGnAZ20d-Wq",
        "outputId": "7074a4ca-59cc-4467-a90e-410a193d32f0"
      },
      "execution_count": 24,
      "outputs": [
        {
          "output_type": "execute_result",
          "data": {
            "text/plain": [
              "((65172, 43), (65172,))"
            ]
          },
          "metadata": {},
          "execution_count": 24
        }
      ]
    },
    {
      "cell_type": "code",
      "source": [
        "X_train, X_rest, y_train, y_rest = train_test_split(X, y, train_size=0.6, test_size=0.4, random_state=42)\n",
        "X_val, X_test, y_val, y_test = train_test_split(X_rest, y_rest, train_size=0.2, test_size=0.2, random_state=42)\n",
        "\n",
        "print('X_train shape:', X_train.shape), print('y_train shape:', y_train.shape)\n",
        "print('X_val shape:', X_val.shape), print('y_val shape:', y_val.shape)\n",
        "print('X_test shape:', X_test.shape), print('y_test shape:', y_test.shape)"
      ],
      "metadata": {
        "colab": {
          "base_uri": "https://localhost:8080/"
        },
        "id": "t3jbaQ6pf7dW",
        "outputId": "3e744ad9-c908-45d8-aba6-59e54c242d99"
      },
      "execution_count": 25,
      "outputs": [
        {
          "output_type": "stream",
          "name": "stdout",
          "text": [
            "X_train shape: (39103, 43)\n",
            "y_train shape: (39103,)\n",
            "X_val shape: (5213, 43)\n",
            "y_val shape: (5213,)\n",
            "X_test shape: (5214, 43)\n",
            "y_test shape: (5214,)\n"
          ]
        },
        {
          "output_type": "execute_result",
          "data": {
            "text/plain": [
              "(None, None)"
            ]
          },
          "metadata": {},
          "execution_count": 25
        }
      ]
    },
    {
      "cell_type": "markdown",
      "source": [
        "### Data Processing Pt 2:\n",
        "Sparse columns removal, outlier detection, imputation, encoding. "
      ],
      "metadata": {
        "id": "GdUOvwRFDWWg"
      }
    },
    {
      "cell_type": "markdown",
      "source": [
        "We can search through our data to find columns with low amounts of data, called sparse columns. These can be removed."
      ],
      "metadata": {
        "id": "4cUXSzAZhHPG"
      }
    },
    {
      "cell_type": "code",
      "source": [
        "numerical_data = X_train.select_dtypes(include='number')\n",
        "print(numerical_data.head)\n",
        "numerical_columns = ['POS', 'Protein_position','ORIGIN','LoFtool','CADD_PHRED','EXON','AF_ESP']"
      ],
      "metadata": {
        "colab": {
          "base_uri": "https://localhost:8080/"
        },
        "id": "vizwq-Ma3MzP",
        "outputId": "f1508525-a0c3-4b46-8e59-b6ffa19abd54"
      },
      "execution_count": 26,
      "outputs": [
        {
          "output_type": "stream",
          "name": "stdout",
          "text": [
            "<bound method NDFrame.head of              POS  AF_ESP  ORIGIN      EXON  INTRON  Protein_position  STRAND  \\\n",
            "32677   62041947  0.0000       0  0.375000     0.0             445.0    -1.0   \n",
            "19358   32900742  0.0000       1  0.259259     0.0             208.0     1.0   \n",
            "36441   38991516  0.0976       1  0.443396     0.0            2500.0     1.0   \n",
            "1337   128627862  0.0003       1  0.777778     0.0             469.0     1.0   \n",
            "30170   33434141  0.0000       1  0.500000     0.0             136.0    -1.0   \n",
            "...          ...     ...     ...       ...     ...               ...     ...   \n",
            "62570  134381529  0.0000       1  0.150000     0.0              51.0     1.0   \n",
            "38158   47630392  0.0000       1  0.062500     0.0              21.0     1.0   \n",
            "860    179606538  0.1809       1  0.132231     0.0            3808.0    -1.0   \n",
            "15795  108199824  0.0000       1  0.777778     0.0            2389.0     1.0   \n",
            "56422  152623062  0.0010       1  0.623288     0.0            5828.0    -1.0   \n",
            "\n",
            "       LoFtool  CADD_PHRED  BLOSUM62  ...  splice_donor_variant  \\\n",
            "32677  0.00572       32.00       1.0  ...                   0.0   \n",
            "19358  0.08960       27.50      -3.0  ...                   0.0   \n",
            "36441  0.00248       13.96       NaN  ...                   0.0   \n",
            "1337   0.16800       25.80      -3.0  ...                   0.0   \n",
            "30170      NaN       11.70       3.0  ...                   0.0   \n",
            "...        ...         ...       ...  ...                   ...   \n",
            "62570  0.01720       25.50       NaN  ...                   0.0   \n",
            "38158  0.00971       26.00      -2.0  ...                   0.0   \n",
            "860    0.97100       16.08      -1.0  ...                   0.0   \n",
            "15795  0.78200       34.00      -2.0  ...                   0.0   \n",
            "56422  0.88100        0.17      -1.0  ...                   0.0   \n",
            "\n",
            "       synonymous_variant  SIFT_deleterious  SIFT_deleterious_low_confidence  \\\n",
            "32677                 0.0                 1                                0   \n",
            "19358                 0.0                 1                                0   \n",
            "36441                 1.0                 0                                0   \n",
            "1337                  0.0                 1                                0   \n",
            "30170                 0.0                 1                                0   \n",
            "...                   ...               ...                              ...   \n",
            "62570                 0.0                 0                                0   \n",
            "38158                 0.0                 0                                0   \n",
            "860                   0.0                 0                                0   \n",
            "15795                 0.0                 1                                0   \n",
            "56422                 0.0                 0                                0   \n",
            "\n",
            "       SIFT_tolerated  SIFT_tolerated_low_confidence  PolyPhen_benign  \\\n",
            "32677               0                              0                0   \n",
            "19358               0                              0                0   \n",
            "36441               0                              0                0   \n",
            "1337                0                              0                1   \n",
            "30170               0                              0                0   \n",
            "...               ...                            ...              ...   \n",
            "62570               0                              0                0   \n",
            "38158               1                              0                1   \n",
            "860                 0                              0                0   \n",
            "15795               0                              0                1   \n",
            "56422               0                              0                0   \n",
            "\n",
            "       PolyPhen_possibly_damaging  PolyPhen_probably_damaging  \\\n",
            "32677                           0                           1   \n",
            "19358                           0                           1   \n",
            "36441                           0                           0   \n",
            "1337                            0                           0   \n",
            "30170                           1                           0   \n",
            "...                           ...                         ...   \n",
            "62570                           0                           0   \n",
            "38158                           0                           0   \n",
            "860                             0                           0   \n",
            "15795                           0                           0   \n",
            "56422                           0                           0   \n",
            "\n",
            "       PolyPhen_unknown  \n",
            "32677                 0  \n",
            "19358                 0  \n",
            "36441                 0  \n",
            "1337                  0  \n",
            "30170                 0  \n",
            "...                 ...  \n",
            "62570                 0  \n",
            "38158                 0  \n",
            "860                   0  \n",
            "15795                 0  \n",
            "56422                 0  \n",
            "\n",
            "[39103 rows x 29 columns]>\n"
          ]
        }
      ]
    },
    {
      "cell_type": "code",
      "source": [
        "#Outlier Detection\n",
        "data_train = X_train.copy()\n",
        "\n",
        "sparse_data = []\n",
        "for col in numerical_data:\n",
        "  if (data_train[col].quantile(0.01)==data_train[col].quantile(0.25)==data_train[col].mode()[0]):\n",
        "        sparse_data.append(col)\n",
        "\n",
        "sparse_data_2 = []\n",
        "for col in numerical_data:\n",
        "    if (data_train[col].quantile(0.01)==data_train[col].quantile(0.25)):\n",
        "        sparse_data_2.append(col)\n",
        "\n",
        "len(numerical_data), len(sparse_data), len(sparse_data_2)"
      ],
      "metadata": {
        "colab": {
          "base_uri": "https://localhost:8080/"
        },
        "id": "LSAMLG7nbKCk",
        "outputId": "78fd5d6e-e4f6-4487-809c-02051aee2a06"
      },
      "execution_count": 27,
      "outputs": [
        {
          "output_type": "execute_result",
          "data": {
            "text/plain": [
              "(39103, 22, 23)"
            ]
          },
          "metadata": {},
          "execution_count": 27
        }
      ]
    },
    {
      "cell_type": "markdown",
      "source": [
        "It makes sense to use k-fold here because we have a lot of data, and we want to avoid overfitting. "
      ],
      "metadata": {
        "id": "rZQqErbn8Cjo"
      }
    },
    {
      "cell_type": "code",
      "source": [
        "#Encoding training data\n",
        "#write KFold encoder function (ref internet)\n",
        "class KFoldTargetEncoderTrain(base.BaseEstimator, base.TransformerMixin):\n",
        "    def __init__(self,colnames,targetName,\n",
        "                  n_fold=5, verbosity=True,\n",
        "                  discardOriginal_col=False):\n",
        "        self.colnames = colnames\n",
        "        self.targetName = targetName\n",
        "        self.n_fold = n_fold\n",
        "        self.verbosity = verbosity\n",
        "        self.discardOriginal_col = discardOriginal_col\n",
        "    def fit(self, X, y=None):\n",
        "        return self\n",
        "    def transform(self,X):\n",
        "        assert(type(self.targetName) == str)\n",
        "        assert(type(self.colnames) == str)\n",
        "        assert(self.colnames in X.columns)\n",
        "        assert(self.targetName in X.columns)\n",
        "        mean_of_target = X[self.targetName].mean()\n",
        "        kf = KFold(n_splits = self.n_fold, shuffle = False) #, random_state=2022)\n",
        "        col_mean_name = self.colnames + '_' + 'Kfold_Target_Enc'\n",
        "        X[col_mean_name] = np.nan\n",
        "        for tr_ind, val_ind in kf.split(X):\n",
        "            X_tr, X_val = X.iloc[tr_ind], X.iloc[val_ind]\n",
        "            X.loc[X.index[val_ind], col_mean_name] = X_val[self.colnames].map(X_tr.groupby(self.colnames)\n",
        "                                     [self.targetName].mean())\n",
        "            X[col_mean_name].fillna(mean_of_target, inplace = True)\n",
        "        if self.verbosity:\n",
        "            encoded_feature = X[col_mean_name].values\n",
        "            print('Correlation between the new feature, {} and, {} is {}.'.format(col_mean_name, self.targetName, np.corrcoef(X[self.targetName].values, encoded_feature)[0][1]))\n",
        "        if self.discardOriginal_col:\n",
        "            X = X.drop(self.targetName, axis=1)\n",
        "        return X\n",
        "#https://medium.com/@pouryaayria/k-fold-target-encoding-dfe9a594874b"
      ],
      "metadata": {
        "id": "GPBVWydy6563"
      },
      "execution_count": 28,
      "outputs": []
    },
    {
      "cell_type": "code",
      "source": [
        "#function to fit/transform data to encoder\n",
        "def StringConverterTrain(data,target_name,variable_list):\n",
        "    for col in variable_list:\n",
        "      targetc = KFoldTargetEncoderTrain(col,target_name,n_fold=4)\n",
        "      new_train = targetc.fit_transform(data)\n",
        "    return new_train"
      ],
      "metadata": {
        "id": "Yv-vEEAvAC2Z"
      },
      "execution_count": 29,
      "outputs": []
    },
    {
      "cell_type": "code",
      "source": [
        "#define attribute lists to pass into encoder\n",
        "nominal_columns = ['Amino_acids', 'Codons', 'CLNVI', 'BLOSUM62', 'BAM_EDIT']\n",
        "nominal_encoding_variable_columns =[\"REF\",\"ALT\",\"Allele\",\"Feature\",\"SYMBOL\", \"CLNDISDB\",\"CLNDN\"]"
      ],
      "metadata": {
        "id": "BGQWLiu3APVb"
      },
      "execution_count": 30,
      "outputs": []
    },
    {
      "cell_type": "code",
      "source": [
        "#combine training data and run through encoder fit/transform function\n",
        "df_trial = pd.concat([X_train,y_train],axis=1).copy()\n",
        "df_output_train = StringConverterTrain(data=df_trial,target_name=\"CLASS\",variable_list=nominal_columns)"
      ],
      "metadata": {
        "colab": {
          "base_uri": "https://localhost:8080/"
        },
        "id": "SwaGIREKBKVX",
        "outputId": "8cd890d6-c7cd-48e4-d5a9-9c8bf9581e41"
      },
      "execution_count": 31,
      "outputs": [
        {
          "output_type": "stream",
          "name": "stdout",
          "text": [
            "Correlation between the new feature, Amino_acids_Kfold_Target_Enc and, CLASS is 0.07155130787579717.\n",
            "Correlation between the new feature, Codons_Kfold_Target_Enc and, CLASS is 0.051051408501834226.\n",
            "Correlation between the new feature, CLNVI_Kfold_Target_Enc and, CLASS is 0.005870410576445243.\n",
            "Correlation between the new feature, BLOSUM62_Kfold_Target_Enc and, CLASS is 0.02612603260811726.\n",
            "Correlation between the new feature, BAM_EDIT_Kfold_Target_Enc and, CLASS is 0.014053641371129853.\n"
          ]
        }
      ]
    },
    {
      "cell_type": "code",
      "source": [
        "#repeat for nominal_encoding_var attribute list\n",
        "df_encoding = pd.concat([X_train,y_train],axis=1).copy()\n",
        "df_encoding_train = StringConverterTrain(data=df_encoding,target_name=\"CLASS\",variable_list=nominal_encoding_variable_columns)"
      ],
      "metadata": {
        "colab": {
          "base_uri": "https://localhost:8080/"
        },
        "id": "THP5f5UyCdtG",
        "outputId": "d7b40bc9-9f94-4669-c071-fd4b8aa1fa3a"
      },
      "execution_count": 32,
      "outputs": [
        {
          "output_type": "stream",
          "name": "stdout",
          "text": [
            "Correlation between the new feature, REF_Kfold_Target_Enc and, CLASS is 0.029708518944878404.\n",
            "Correlation between the new feature, ALT_Kfold_Target_Enc and, CLASS is 0.024276287909198405.\n",
            "Correlation between the new feature, Allele_Kfold_Target_Enc and, CLASS is 0.023637638960733866.\n",
            "Correlation between the new feature, Feature_Kfold_Target_Enc and, CLASS is 0.16230859858113442.\n",
            "Correlation between the new feature, SYMBOL_Kfold_Target_Enc and, CLASS is 0.16265854611647865.\n",
            "Correlation between the new feature, CLNDISDB_Kfold_Target_Enc and, CLASS is 0.256757881934838.\n",
            "Correlation between the new feature, CLNDN_Kfold_Target_Enc and, CLASS is 0.2570705023283095.\n"
          ]
        }
      ]
    },
    {
      "cell_type": "code",
      "source": [
        "for item in nominal_columns:\n",
        "  X_train[item] = df_output_train[item+\"_Kfold_Target_Enc\"]"
      ],
      "metadata": {
        "id": "aKcKOxHUzDeD"
      },
      "execution_count": 33,
      "outputs": []
    },
    {
      "cell_type": "code",
      "source": [
        "for item in nominal_encoding_variable_columns:\n",
        "  X_train[item] = df_encoding_train[item+\"_Kfold_Target_Enc\"]"
      ],
      "metadata": {
        "id": "C7VYGlpZyNmQ"
      },
      "execution_count": 34,
      "outputs": []
    },
    {
      "cell_type": "code",
      "source": [
        "# create test dataset KFold encoder\n",
        "class KFoldTargetEncoderTest(base.BaseEstimator, base.TransformerMixin):\n",
        "    def __init__(self,train,colNames,encodedName):\n",
        "        self.train = train\n",
        "        self.colNames = colNames\n",
        "        self.encodedName = encodedName\n",
        "        \n",
        "    def fit(self, X, y=None):\n",
        "        return self\n",
        "    def transform(self,X):\n",
        "        mean =  self.train[[self.colNames, self.encodedName]].groupby(self.colNames).mean().reset_index() \n",
        "        dd = {}\n",
        "        for index, row in mean.iterrows():\n",
        "            dd[row[self.colNames]] = row[self.encodedName]\n",
        "        X[self.encodedName] = X[self.colNames]\n",
        "        X = X.replace({self.encodedName: dd})\n",
        "        return X"
      ],
      "metadata": {
        "id": "qt9ruLrW8u_4"
      },
      "execution_count": 35,
      "outputs": []
    },
    {
      "cell_type": "code",
      "source": [
        "df_output_test = X_test.copy()\n",
        "mean_of_target = df_output_train['CLASS'].copy().mean()\n",
        "target_mean_list = nominal_columns                                                 \n",
        "for col in target_mean_list:\n",
        "    df_output_test[col] = df_output_test[col].map(df_output_train.groupby(col)[col+'_Kfold_Target_Enc'].mean())\n",
        "    df_output_test[col].fillna(mean_of_target, inplace = True)"
      ],
      "metadata": {
        "id": "05GULdlFE7R7"
      },
      "execution_count": 36,
      "outputs": []
    },
    {
      "cell_type": "code",
      "source": [
        "X_test[nominal_columns] = df_output_test[nominal_columns]\n",
        "\n",
        "X_test_encoder = X_test.copy()\n",
        "mean_of_target = df_encoding_train['CLASS'].copy().mean()\n",
        "target_mean_list = nominal_encoding_variable_columns   \n",
        "\n",
        "for col in target_mean_list:\n",
        "  X_test_encoder[col+'_Kfold_Target_Enc'] = X_test_encoder[col].map(df_encoding_train.groupby(col)[col+'_Kfold_Target_Enc'].mean())\n",
        "  X_test_encoder[col+'_Kfold_Target_Enc'].fillna(mean_of_target, inplace = True)\n",
        "\n",
        "for item in nominal_encoding_variable_columns:\n",
        "  X_test[item] = X_test_encoder[item+\"_Kfold_Target_Enc\"]"
      ],
      "metadata": {
        "id": "W6tlVsSa9Non"
      },
      "execution_count": 37,
      "outputs": []
    },
    {
      "cell_type": "code",
      "source": [
        "#define scaling function (reference online project)\n",
        "def MBI(df,columns,train_or_test,lst_numerical):\n",
        "\n",
        "  data_binary_encoded=df.copy()\n",
        "  le=LabelEncoder()\n",
        "\n",
        "  for col in columns:\n",
        "    if(train_or_test == \"test\"):\n",
        "      le.fit(X_train[col].copy().astype(str))\n",
        "      data_binary_encoded[col]=le.transform(df[col].copy().astype(str))\n",
        "    else:\n",
        "      data_binary_encoded[col] = le.fit_transform(df[col].copy().astype(str))\n",
        "      \n",
        "  data_scaled=data_binary_encoded.copy()\n",
        "\n",
        "  for col in numerical_columns:\n",
        "    scaler = StandardScaler()\n",
        "    if(train_or_test == \"test\"):\n",
        "      scaler.fit(np.array(X_train.loc[:,col]).reshape(-1,1))\n",
        "      data_scaled.loc[:,col] = scaler.transform(np.array(data_scaled.loc[:,col]).reshape(-1,1))\n",
        "    else:\n",
        "      data_scaled.loc[:,col] = scaler.fit_transform(np.array(data_scaled.loc[:,col]).reshape(-1,1))\n",
        "\n",
        "  for col in lst_numerical:\n",
        "    target_dropped_fullcases = data_scaled.drop(col,axis=1).loc[:,list(set(['POS', 'REF', 'ALT', 'AF_ESP', 'CLNVC', 'CLASS', 'Allele', 'IMPACT', 'CHROM', 'KEY']\n",
        "                                                                           +['CADD_PHRED','EXON', 'SYMBOL', 'STRAND', 'Feature'])-\n",
        "                                                                                  set([\"CLASS\",\"KEY\",\"CLNHGVS\"]))].copy()\n",
        "    \n",
        "    target = data_scaled.loc[:,col]\n",
        "    null_mask = target.isna()\n",
        "    print(col)\n",
        "    \n",
        "  print(data_scaled.loc[:,lst_numerical].isnull().sum());\n",
        "  return data_scaled"
      ],
      "metadata": {
        "id": "yUk5DLvCGKVN"
      },
      "execution_count": 38,
      "outputs": []
    },
    {
      "cell_type": "code",
      "source": [
        "#define numerical and encoded attribute columns to pass to MBI function\n",
        "lst_numerical = ['Protein_position', 'LoFtool', 'SIFT_deleterious', 'SIFT_deleterious_low_confidence', 'SIFT_tolerated',\n",
        "       'SIFT_tolerated_low_confidence', 'PolyPhen_benign', 'PolyPhen_possibly_damaging', 'PolyPhen_probably_damaging', 'PolyPhen_unknown']\n",
        "encoding_col_list =[\"CHROM\",\"CLNVC\",\"IMPACT\"]\n",
        "\n",
        "#use MBI function to scale (StandardScaler)\n",
        "X_train_scaled = MBI(X_train,encoding_col_list,\"train\",lst_numerical)"
      ],
      "metadata": {
        "colab": {
          "base_uri": "https://localhost:8080/"
        },
        "id": "E4m-leSGHWye",
        "outputId": "2d5262bc-e85f-452d-c6e7-15e64e306551"
      },
      "execution_count": 39,
      "outputs": [
        {
          "output_type": "stream",
          "name": "stdout",
          "text": [
            "Protein_position\n",
            "LoFtool\n",
            "SIFT_deleterious\n",
            "SIFT_deleterious_low_confidence\n",
            "SIFT_tolerated\n",
            "SIFT_tolerated_low_confidence\n",
            "PolyPhen_benign\n",
            "PolyPhen_possibly_damaging\n",
            "PolyPhen_probably_damaging\n",
            "PolyPhen_unknown\n",
            "Protein_position                   5997\n",
            "LoFtool                            2539\n",
            "SIFT_deleterious                      0\n",
            "SIFT_deleterious_low_confidence       0\n",
            "SIFT_tolerated                        0\n",
            "SIFT_tolerated_low_confidence         0\n",
            "PolyPhen_benign                       0\n",
            "PolyPhen_possibly_damaging            0\n",
            "PolyPhen_probably_damaging            0\n",
            "PolyPhen_unknown                      0\n",
            "dtype: int64\n"
          ]
        }
      ]
    },
    {
      "cell_type": "markdown",
      "source": [
        "Imputation:"
      ],
      "metadata": {
        "id": "UdPgMHjEOCJ8"
      }
    },
    {
      "cell_type": "code",
      "source": [
        "# create imputation function (referenced from internet)\n",
        "def SimpleImputer(df,variable_list):\n",
        "  for col in variable_list:\n",
        "    if(col in numerical_columns):\n",
        "      print(\"Total null values: {}\".format(df[[str(col)]].isnull().sum()))\n",
        "\n",
        "      average = float(df[col].mean())\n",
        "      std = float(df[col].std())\n",
        "      count_nan = int(df[col].isnull().sum())\n",
        "      rand = np.random.normal(loc=average,scale=std,size =count_nan)\n",
        "      slice_col = pd.Series(df[col].copy())\n",
        "      slice_col[pd.isnull(slice_col)] = rand\n",
        "      df[col] = slice_col\n",
        "\n",
        "      print(\"Numerical variable {} have been imputed.\".format(col))\n",
        "\n",
        "    else:\n",
        "      print(\"Total null values: {}\".format(df[[str(col)]].isnull().sum()))\n",
        "      df.loc[df.loc[:,col].isnull(),col] = np.random.choice(sorted(list(df.loc[:,col].dropna().unique())),\n",
        "                                                            size=int(df.loc[df.loc[:,col].isnull(),col].shape[0]),\n",
        "                                                            p=[pd.Series(df.groupby(col).size()/df.loc[:,col].dropna().shape[0]).iloc[i] for i in \n",
        "                                                               np.arange(0,len(df.loc[:,col].dropna().unique()))])\n",
        "      \n",
        "      print(\"Categorical variable {} have been imputed.\".format(col))"
      ],
      "metadata": {
        "id": "oNANacefOHRz"
      },
      "execution_count": 40,
      "outputs": []
    },
    {
      "cell_type": "code",
      "source": [
        "#pass attributes with low amounts of missing values through it\n",
        "SimpleImputer(X_train_scaled, ['CADD_PHRED','EXON', 'SYMBOL', 'STRAND', 'Feature', 'LoFtool'])\n",
        "SimpleImputer(X_train_scaled, ['2KB_upstream_variant', '3_prime_UTR_variant', '500B_downstream_variant', '5_prime_UTR_variant', \n",
        "'frameshift_variant', 'intron_variant', 'missense_variant', 'nonsense', 'splice_acceptor_variant', \n",
        "'splice_donor_variant', 'synonymous_variant'])"
      ],
      "metadata": {
        "colab": {
          "base_uri": "https://localhost:8080/"
        },
        "id": "J_1uEXr3OdVx",
        "outputId": "8efd5682-9e47-4d6d-d512-bf7ce1df91ae"
      },
      "execution_count": 41,
      "outputs": [
        {
          "output_type": "stream",
          "name": "stdout",
          "text": [
            "Total null values: CADD_PHRED    679\n",
            "dtype: int64\n",
            "Numerical variable CADD_PHRED have been imputed.\n",
            "Total null values: EXON    0\n",
            "dtype: int64\n",
            "Numerical variable EXON have been imputed.\n",
            "Total null values: SYMBOL    0\n",
            "dtype: int64\n",
            "Categorical variable SYMBOL have been imputed.\n",
            "Total null values: STRAND    0\n",
            "dtype: int64\n",
            "Categorical variable STRAND have been imputed.\n",
            "Total null values: Feature    0\n",
            "dtype: int64\n",
            "Categorical variable Feature have been imputed.\n",
            "Total null values: LoFtool    2539\n",
            "dtype: int64\n",
            "Numerical variable LoFtool have been imputed.\n",
            "Total null values: 2KB_upstream_variant    503\n",
            "dtype: int64\n",
            "Categorical variable 2KB_upstream_variant have been imputed.\n",
            "Total null values: 3_prime_UTR_variant    503\n",
            "dtype: int64\n",
            "Categorical variable 3_prime_UTR_variant have been imputed.\n",
            "Total null values: 500B_downstream_variant    503\n",
            "dtype: int64\n",
            "Categorical variable 500B_downstream_variant have been imputed.\n",
            "Total null values: 5_prime_UTR_variant    503\n",
            "dtype: int64\n",
            "Categorical variable 5_prime_UTR_variant have been imputed.\n",
            "Total null values: frameshift_variant    503\n",
            "dtype: int64\n",
            "Categorical variable frameshift_variant have been imputed.\n",
            "Total null values: intron_variant    503\n",
            "dtype: int64\n",
            "Categorical variable intron_variant have been imputed.\n",
            "Total null values: missense_variant    503\n",
            "dtype: int64\n",
            "Categorical variable missense_variant have been imputed.\n",
            "Total null values: nonsense    503\n",
            "dtype: int64\n",
            "Categorical variable nonsense have been imputed.\n",
            "Total null values: splice_acceptor_variant    503\n",
            "dtype: int64\n",
            "Categorical variable splice_acceptor_variant have been imputed.\n",
            "Total null values: splice_donor_variant    503\n",
            "dtype: int64\n",
            "Categorical variable splice_donor_variant have been imputed.\n",
            "Total null values: synonymous_variant    503\n",
            "dtype: int64\n",
            "Categorical variable synonymous_variant have been imputed.\n"
          ]
        }
      ]
    },
    {
      "cell_type": "code",
      "source": [
        "#check imputation with a few instances:\n",
        "print('Null values in X_train_scaled[CADD_PHRED]', X_train_scaled['CADD_PHRED'].isnull().sum())\n",
        "print('Null values in X_train_scaled[STRAND]', X_train_scaled['STRAND'].isnull().sum())\n",
        "print('Null values in X_train_scaled[Feature]', X_train_scaled['Feature'].isnull().sum())"
      ],
      "metadata": {
        "colab": {
          "base_uri": "https://localhost:8080/"
        },
        "id": "agCdb0zEVbyU",
        "outputId": "a425bb96-3fdd-4a04-cfc0-2c951b45010a"
      },
      "execution_count": 42,
      "outputs": [
        {
          "output_type": "stream",
          "name": "stdout",
          "text": [
            "Null values in X_train_scaled[CADD_PHRED] 0\n",
            "Null values in X_train_scaled[STRAND] 0\n",
            "Null values in X_train_scaled[Feature] 0\n"
          ]
        }
      ]
    },
    {
      "cell_type": "code",
      "source": [
        "#Last cleaning of dataset before model training\n",
        "print(\"Any NaN before cleaning:\", np.any(np.isnan(X_train_scaled)))\n",
        "print(\"All finite before cleaning:\", np.all(np.isfinite(X_train_scaled)))\n",
        "\n",
        "#X_train_scaled = np.nan_to_num(X_train_scaled)\n",
        "\n",
        "X_train_scaled.replace([np.inf, -np.inf], np.nan, inplace=True)\n",
        "X_train_scaled.fillna(0, inplace=True)\n",
        "\n",
        "'''def clean_dataset(df):\n",
        "    assert isinstance(df, pd.DataFrame)\n",
        "    df.dropna(inplace=True)\n",
        "    indices_to_keep = ~df.isin([np.nan, np.inf, -np.inf]).any(1)\n",
        "    return df[indices_to_keep].astype(np.float64)\n",
        "clean_dataset(X_train_scaled)'''\n",
        "\n",
        "print(\"Any NaN after cleaning:\", np.any(np.isnan(X_train_scaled)))\n",
        "print(\"All finite after cleaning:\", np.all(np.isfinite(X_train_scaled)))"
      ],
      "metadata": {
        "colab": {
          "base_uri": "https://localhost:8080/"
        },
        "id": "DSjthuQl3R7N",
        "outputId": "cdd0e4fc-d100-4062-863b-686ec4fb0750"
      },
      "execution_count": 44,
      "outputs": [
        {
          "output_type": "stream",
          "name": "stdout",
          "text": [
            "Any NaN before cleaning: True\n",
            "All finite before cleaning: False\n",
            "Any NaN after cleaning: False\n",
            "All finite after cleaning: True\n"
          ]
        }
      ]
    },
    {
      "cell_type": "code",
      "source": [
        "#Check data is ready for model training/evaluation\n",
        "pd.set_option('display.max_columns', None)\n",
        "X_train_scaled.head(5)"
      ],
      "metadata": {
        "colab": {
          "base_uri": "https://localhost:8080/",
          "height": 270
        },
        "id": "oOmKs-0nWAUm",
        "outputId": "9c19493b-d079-4d78-dc5f-c1c33288a8c8"
      },
      "execution_count": 45,
      "outputs": [
        {
          "output_type": "execute_result",
          "data": {
            "text/plain": [
              "       CHROM       POS  REF  ALT    AF_ESP     CLNDN     CLNVI  CLNDISDB  \\\n",
              "32677      8 -0.257541   63   55 -0.250798  0.251976  0.251976  0.251976   \n",
              "19358      4 -0.744999   54   39 -0.250798  0.351852  0.251976  0.351852   \n",
              "36441     10 -0.643116   66   55  1.437035  0.333333  0.251976  0.333333   \n",
              "1337      15  0.856270   63   52 -0.245610  0.346939  0.251976  0.346939   \n",
              "30170      8 -0.736077   63   52 -0.250798  0.140097  0.251976  0.140097   \n",
              "\n",
              "       CLNVC    ORIGIN  Allele  IMPACT    SYMBOL   Feature      EXON  INTRON  \\\n",
              "32677      6 -0.228833      31       2  0.244444  0.244444 -0.349522     0.0   \n",
              "19358      6 -0.060779      19       2  0.321995  0.321995 -0.689118     0.0   \n",
              "36441      6 -0.060779      31       1  0.299213  0.299213 -0.148841     0.0   \n",
              "1337       6 -0.060779      29       2  0.251976  0.251976  0.832270     0.0   \n",
              "30170      6 -0.060779      29       2  0.163462  0.163462  0.017241     0.0   \n",
              "\n",
              "       Protein_position  Amino_acids    Codons  STRAND  BAM_EDIT   LoFtool  \\\n",
              "32677         -0.270870     0.218045  0.209302    -1.0  0.251976 -0.938350   \n",
              "19358         -0.325952     0.384615  0.454545     1.0  0.249895 -0.706189   \n",
              "36441          0.206741     0.267530  0.269481     1.0  0.251976 -0.947317   \n",
              "1337          -0.265292     0.290488  0.291990     1.0  0.249895 -0.489196   \n",
              "30170         -0.342686     0.366337  0.311688    -1.0  0.249895 -2.044125   \n",
              "\n",
              "       CADD_PHRED  BLOSUM62  2KB_upstream_variant  3_prime_UTR_variant  \\\n",
              "32677    1.502733  0.273383                   0.0                  0.0   \n",
              "19358    1.088185  0.276813                   0.0                  0.0   \n",
              "36441   -0.159145  0.251976                   0.0                  0.0   \n",
              "1337     0.931578  0.276813                   0.0                  0.0   \n",
              "30170   -0.367340  0.332464                   0.0                  0.0   \n",
              "\n",
              "       500B_downstream_variant  5_prime_UTR_variant  frameshift_variant  \\\n",
              "32677                      0.0                  0.0                 0.0   \n",
              "19358                      0.0                  0.0                 0.0   \n",
              "36441                      0.0                  0.0                 0.0   \n",
              "1337                       0.0                  0.0                 0.0   \n",
              "30170                      0.0                  0.0                 0.0   \n",
              "\n",
              "       intron_variant  missense_variant  nonsense  splice_acceptor_variant  \\\n",
              "32677             0.0               1.0       0.0                      0.0   \n",
              "19358             0.0               1.0       0.0                      0.0   \n",
              "36441             0.0               0.0       0.0                      0.0   \n",
              "1337              0.0               1.0       0.0                      0.0   \n",
              "30170             1.0               1.0       0.0                      0.0   \n",
              "\n",
              "       splice_donor_variant  synonymous_variant  SIFT_deleterious  \\\n",
              "32677                   0.0                 0.0                 1   \n",
              "19358                   0.0                 0.0                 1   \n",
              "36441                   0.0                 1.0                 0   \n",
              "1337                    0.0                 0.0                 1   \n",
              "30170                   0.0                 0.0                 1   \n",
              "\n",
              "       SIFT_deleterious_low_confidence  SIFT_tolerated  \\\n",
              "32677                                0               0   \n",
              "19358                                0               0   \n",
              "36441                                0               0   \n",
              "1337                                 0               0   \n",
              "30170                                0               0   \n",
              "\n",
              "       SIFT_tolerated_low_confidence  PolyPhen_benign  \\\n",
              "32677                              0                0   \n",
              "19358                              0                0   \n",
              "36441                              0                0   \n",
              "1337                               0                1   \n",
              "30170                              0                0   \n",
              "\n",
              "       PolyPhen_possibly_damaging  PolyPhen_probably_damaging  \\\n",
              "32677                           0                           1   \n",
              "19358                           0                           1   \n",
              "36441                           0                           0   \n",
              "1337                            0                           0   \n",
              "30170                           1                           0   \n",
              "\n",
              "       PolyPhen_unknown  \n",
              "32677                 0  \n",
              "19358                 0  \n",
              "36441                 0  \n",
              "1337                  0  \n",
              "30170                 0  "
            ],
            "text/html": [
              "\n",
              "  <div id=\"df-72673360-318c-45ef-9595-9b48c77d2d20\">\n",
              "    <div class=\"colab-df-container\">\n",
              "      <div>\n",
              "<style scoped>\n",
              "    .dataframe tbody tr th:only-of-type {\n",
              "        vertical-align: middle;\n",
              "    }\n",
              "\n",
              "    .dataframe tbody tr th {\n",
              "        vertical-align: top;\n",
              "    }\n",
              "\n",
              "    .dataframe thead th {\n",
              "        text-align: right;\n",
              "    }\n",
              "</style>\n",
              "<table border=\"1\" class=\"dataframe\">\n",
              "  <thead>\n",
              "    <tr style=\"text-align: right;\">\n",
              "      <th></th>\n",
              "      <th>CHROM</th>\n",
              "      <th>POS</th>\n",
              "      <th>REF</th>\n",
              "      <th>ALT</th>\n",
              "      <th>AF_ESP</th>\n",
              "      <th>CLNDN</th>\n",
              "      <th>CLNVI</th>\n",
              "      <th>CLNDISDB</th>\n",
              "      <th>CLNVC</th>\n",
              "      <th>ORIGIN</th>\n",
              "      <th>Allele</th>\n",
              "      <th>IMPACT</th>\n",
              "      <th>SYMBOL</th>\n",
              "      <th>Feature</th>\n",
              "      <th>EXON</th>\n",
              "      <th>INTRON</th>\n",
              "      <th>Protein_position</th>\n",
              "      <th>Amino_acids</th>\n",
              "      <th>Codons</th>\n",
              "      <th>STRAND</th>\n",
              "      <th>BAM_EDIT</th>\n",
              "      <th>LoFtool</th>\n",
              "      <th>CADD_PHRED</th>\n",
              "      <th>BLOSUM62</th>\n",
              "      <th>2KB_upstream_variant</th>\n",
              "      <th>3_prime_UTR_variant</th>\n",
              "      <th>500B_downstream_variant</th>\n",
              "      <th>5_prime_UTR_variant</th>\n",
              "      <th>frameshift_variant</th>\n",
              "      <th>intron_variant</th>\n",
              "      <th>missense_variant</th>\n",
              "      <th>nonsense</th>\n",
              "      <th>splice_acceptor_variant</th>\n",
              "      <th>splice_donor_variant</th>\n",
              "      <th>synonymous_variant</th>\n",
              "      <th>SIFT_deleterious</th>\n",
              "      <th>SIFT_deleterious_low_confidence</th>\n",
              "      <th>SIFT_tolerated</th>\n",
              "      <th>SIFT_tolerated_low_confidence</th>\n",
              "      <th>PolyPhen_benign</th>\n",
              "      <th>PolyPhen_possibly_damaging</th>\n",
              "      <th>PolyPhen_probably_damaging</th>\n",
              "      <th>PolyPhen_unknown</th>\n",
              "    </tr>\n",
              "  </thead>\n",
              "  <tbody>\n",
              "    <tr>\n",
              "      <th>32677</th>\n",
              "      <td>8</td>\n",
              "      <td>-0.257541</td>\n",
              "      <td>63</td>\n",
              "      <td>55</td>\n",
              "      <td>-0.250798</td>\n",
              "      <td>0.251976</td>\n",
              "      <td>0.251976</td>\n",
              "      <td>0.251976</td>\n",
              "      <td>6</td>\n",
              "      <td>-0.228833</td>\n",
              "      <td>31</td>\n",
              "      <td>2</td>\n",
              "      <td>0.244444</td>\n",
              "      <td>0.244444</td>\n",
              "      <td>-0.349522</td>\n",
              "      <td>0.0</td>\n",
              "      <td>-0.270870</td>\n",
              "      <td>0.218045</td>\n",
              "      <td>0.209302</td>\n",
              "      <td>-1.0</td>\n",
              "      <td>0.251976</td>\n",
              "      <td>-0.938350</td>\n",
              "      <td>1.502733</td>\n",
              "      <td>0.273383</td>\n",
              "      <td>0.0</td>\n",
              "      <td>0.0</td>\n",
              "      <td>0.0</td>\n",
              "      <td>0.0</td>\n",
              "      <td>0.0</td>\n",
              "      <td>0.0</td>\n",
              "      <td>1.0</td>\n",
              "      <td>0.0</td>\n",
              "      <td>0.0</td>\n",
              "      <td>0.0</td>\n",
              "      <td>0.0</td>\n",
              "      <td>1</td>\n",
              "      <td>0</td>\n",
              "      <td>0</td>\n",
              "      <td>0</td>\n",
              "      <td>0</td>\n",
              "      <td>0</td>\n",
              "      <td>1</td>\n",
              "      <td>0</td>\n",
              "    </tr>\n",
              "    <tr>\n",
              "      <th>19358</th>\n",
              "      <td>4</td>\n",
              "      <td>-0.744999</td>\n",
              "      <td>54</td>\n",
              "      <td>39</td>\n",
              "      <td>-0.250798</td>\n",
              "      <td>0.351852</td>\n",
              "      <td>0.251976</td>\n",
              "      <td>0.351852</td>\n",
              "      <td>6</td>\n",
              "      <td>-0.060779</td>\n",
              "      <td>19</td>\n",
              "      <td>2</td>\n",
              "      <td>0.321995</td>\n",
              "      <td>0.321995</td>\n",
              "      <td>-0.689118</td>\n",
              "      <td>0.0</td>\n",
              "      <td>-0.325952</td>\n",
              "      <td>0.384615</td>\n",
              "      <td>0.454545</td>\n",
              "      <td>1.0</td>\n",
              "      <td>0.249895</td>\n",
              "      <td>-0.706189</td>\n",
              "      <td>1.088185</td>\n",
              "      <td>0.276813</td>\n",
              "      <td>0.0</td>\n",
              "      <td>0.0</td>\n",
              "      <td>0.0</td>\n",
              "      <td>0.0</td>\n",
              "      <td>0.0</td>\n",
              "      <td>0.0</td>\n",
              "      <td>1.0</td>\n",
              "      <td>0.0</td>\n",
              "      <td>0.0</td>\n",
              "      <td>0.0</td>\n",
              "      <td>0.0</td>\n",
              "      <td>1</td>\n",
              "      <td>0</td>\n",
              "      <td>0</td>\n",
              "      <td>0</td>\n",
              "      <td>0</td>\n",
              "      <td>0</td>\n",
              "      <td>1</td>\n",
              "      <td>0</td>\n",
              "    </tr>\n",
              "    <tr>\n",
              "      <th>36441</th>\n",
              "      <td>10</td>\n",
              "      <td>-0.643116</td>\n",
              "      <td>66</td>\n",
              "      <td>55</td>\n",
              "      <td>1.437035</td>\n",
              "      <td>0.333333</td>\n",
              "      <td>0.251976</td>\n",
              "      <td>0.333333</td>\n",
              "      <td>6</td>\n",
              "      <td>-0.060779</td>\n",
              "      <td>31</td>\n",
              "      <td>1</td>\n",
              "      <td>0.299213</td>\n",
              "      <td>0.299213</td>\n",
              "      <td>-0.148841</td>\n",
              "      <td>0.0</td>\n",
              "      <td>0.206741</td>\n",
              "      <td>0.267530</td>\n",
              "      <td>0.269481</td>\n",
              "      <td>1.0</td>\n",
              "      <td>0.251976</td>\n",
              "      <td>-0.947317</td>\n",
              "      <td>-0.159145</td>\n",
              "      <td>0.251976</td>\n",
              "      <td>0.0</td>\n",
              "      <td>0.0</td>\n",
              "      <td>0.0</td>\n",
              "      <td>0.0</td>\n",
              "      <td>0.0</td>\n",
              "      <td>0.0</td>\n",
              "      <td>0.0</td>\n",
              "      <td>0.0</td>\n",
              "      <td>0.0</td>\n",
              "      <td>0.0</td>\n",
              "      <td>1.0</td>\n",
              "      <td>0</td>\n",
              "      <td>0</td>\n",
              "      <td>0</td>\n",
              "      <td>0</td>\n",
              "      <td>0</td>\n",
              "      <td>0</td>\n",
              "      <td>0</td>\n",
              "      <td>0</td>\n",
              "    </tr>\n",
              "    <tr>\n",
              "      <th>1337</th>\n",
              "      <td>15</td>\n",
              "      <td>0.856270</td>\n",
              "      <td>63</td>\n",
              "      <td>52</td>\n",
              "      <td>-0.245610</td>\n",
              "      <td>0.346939</td>\n",
              "      <td>0.251976</td>\n",
              "      <td>0.346939</td>\n",
              "      <td>6</td>\n",
              "      <td>-0.060779</td>\n",
              "      <td>29</td>\n",
              "      <td>2</td>\n",
              "      <td>0.251976</td>\n",
              "      <td>0.251976</td>\n",
              "      <td>0.832270</td>\n",
              "      <td>0.0</td>\n",
              "      <td>-0.265292</td>\n",
              "      <td>0.290488</td>\n",
              "      <td>0.291990</td>\n",
              "      <td>1.0</td>\n",
              "      <td>0.249895</td>\n",
              "      <td>-0.489196</td>\n",
              "      <td>0.931578</td>\n",
              "      <td>0.276813</td>\n",
              "      <td>0.0</td>\n",
              "      <td>0.0</td>\n",
              "      <td>0.0</td>\n",
              "      <td>0.0</td>\n",
              "      <td>0.0</td>\n",
              "      <td>0.0</td>\n",
              "      <td>1.0</td>\n",
              "      <td>0.0</td>\n",
              "      <td>0.0</td>\n",
              "      <td>0.0</td>\n",
              "      <td>0.0</td>\n",
              "      <td>1</td>\n",
              "      <td>0</td>\n",
              "      <td>0</td>\n",
              "      <td>0</td>\n",
              "      <td>1</td>\n",
              "      <td>0</td>\n",
              "      <td>0</td>\n",
              "      <td>0</td>\n",
              "    </tr>\n",
              "    <tr>\n",
              "      <th>30170</th>\n",
              "      <td>8</td>\n",
              "      <td>-0.736077</td>\n",
              "      <td>63</td>\n",
              "      <td>52</td>\n",
              "      <td>-0.250798</td>\n",
              "      <td>0.140097</td>\n",
              "      <td>0.251976</td>\n",
              "      <td>0.140097</td>\n",
              "      <td>6</td>\n",
              "      <td>-0.060779</td>\n",
              "      <td>29</td>\n",
              "      <td>2</td>\n",
              "      <td>0.163462</td>\n",
              "      <td>0.163462</td>\n",
              "      <td>0.017241</td>\n",
              "      <td>0.0</td>\n",
              "      <td>-0.342686</td>\n",
              "      <td>0.366337</td>\n",
              "      <td>0.311688</td>\n",
              "      <td>-1.0</td>\n",
              "      <td>0.249895</td>\n",
              "      <td>-2.044125</td>\n",
              "      <td>-0.367340</td>\n",
              "      <td>0.332464</td>\n",
              "      <td>0.0</td>\n",
              "      <td>0.0</td>\n",
              "      <td>0.0</td>\n",
              "      <td>0.0</td>\n",
              "      <td>0.0</td>\n",
              "      <td>1.0</td>\n",
              "      <td>1.0</td>\n",
              "      <td>0.0</td>\n",
              "      <td>0.0</td>\n",
              "      <td>0.0</td>\n",
              "      <td>0.0</td>\n",
              "      <td>1</td>\n",
              "      <td>0</td>\n",
              "      <td>0</td>\n",
              "      <td>0</td>\n",
              "      <td>0</td>\n",
              "      <td>1</td>\n",
              "      <td>0</td>\n",
              "      <td>0</td>\n",
              "    </tr>\n",
              "  </tbody>\n",
              "</table>\n",
              "</div>\n",
              "      <button class=\"colab-df-convert\" onclick=\"convertToInteractive('df-72673360-318c-45ef-9595-9b48c77d2d20')\"\n",
              "              title=\"Convert this dataframe to an interactive table.\"\n",
              "              style=\"display:none;\">\n",
              "        \n",
              "  <svg xmlns=\"http://www.w3.org/2000/svg\" height=\"24px\"viewBox=\"0 0 24 24\"\n",
              "       width=\"24px\">\n",
              "    <path d=\"M0 0h24v24H0V0z\" fill=\"none\"/>\n",
              "    <path d=\"M18.56 5.44l.94 2.06.94-2.06 2.06-.94-2.06-.94-.94-2.06-.94 2.06-2.06.94zm-11 1L8.5 8.5l.94-2.06 2.06-.94-2.06-.94L8.5 2.5l-.94 2.06-2.06.94zm10 10l.94 2.06.94-2.06 2.06-.94-2.06-.94-.94-2.06-.94 2.06-2.06.94z\"/><path d=\"M17.41 7.96l-1.37-1.37c-.4-.4-.92-.59-1.43-.59-.52 0-1.04.2-1.43.59L10.3 9.45l-7.72 7.72c-.78.78-.78 2.05 0 2.83L4 21.41c.39.39.9.59 1.41.59.51 0 1.02-.2 1.41-.59l7.78-7.78 2.81-2.81c.8-.78.8-2.07 0-2.86zM5.41 20L4 18.59l7.72-7.72 1.47 1.35L5.41 20z\"/>\n",
              "  </svg>\n",
              "      </button>\n",
              "      \n",
              "  <style>\n",
              "    .colab-df-container {\n",
              "      display:flex;\n",
              "      flex-wrap:wrap;\n",
              "      gap: 12px;\n",
              "    }\n",
              "\n",
              "    .colab-df-convert {\n",
              "      background-color: #E8F0FE;\n",
              "      border: none;\n",
              "      border-radius: 50%;\n",
              "      cursor: pointer;\n",
              "      display: none;\n",
              "      fill: #1967D2;\n",
              "      height: 32px;\n",
              "      padding: 0 0 0 0;\n",
              "      width: 32px;\n",
              "    }\n",
              "\n",
              "    .colab-df-convert:hover {\n",
              "      background-color: #E2EBFA;\n",
              "      box-shadow: 0px 1px 2px rgba(60, 64, 67, 0.3), 0px 1px 3px 1px rgba(60, 64, 67, 0.15);\n",
              "      fill: #174EA6;\n",
              "    }\n",
              "\n",
              "    [theme=dark] .colab-df-convert {\n",
              "      background-color: #3B4455;\n",
              "      fill: #D2E3FC;\n",
              "    }\n",
              "\n",
              "    [theme=dark] .colab-df-convert:hover {\n",
              "      background-color: #434B5C;\n",
              "      box-shadow: 0px 1px 3px 1px rgba(0, 0, 0, 0.15);\n",
              "      filter: drop-shadow(0px 1px 2px rgba(0, 0, 0, 0.3));\n",
              "      fill: #FFFFFF;\n",
              "    }\n",
              "  </style>\n",
              "\n",
              "      <script>\n",
              "        const buttonEl =\n",
              "          document.querySelector('#df-72673360-318c-45ef-9595-9b48c77d2d20 button.colab-df-convert');\n",
              "        buttonEl.style.display =\n",
              "          google.colab.kernel.accessAllowed ? 'block' : 'none';\n",
              "\n",
              "        async function convertToInteractive(key) {\n",
              "          const element = document.querySelector('#df-72673360-318c-45ef-9595-9b48c77d2d20');\n",
              "          const dataTable =\n",
              "            await google.colab.kernel.invokeFunction('convertToInteractive',\n",
              "                                                     [key], {});\n",
              "          if (!dataTable) return;\n",
              "\n",
              "          const docLinkHtml = 'Like what you see? Visit the ' +\n",
              "            '<a target=\"_blank\" href=https://colab.research.google.com/notebooks/data_table.ipynb>data table notebook</a>'\n",
              "            + ' to learn more about interactive tables.';\n",
              "          element.innerHTML = '';\n",
              "          dataTable['output_type'] = 'display_data';\n",
              "          await google.colab.output.renderOutput(dataTable, element);\n",
              "          const docLink = document.createElement('div');\n",
              "          docLink.innerHTML = docLinkHtml;\n",
              "          element.appendChild(docLink);\n",
              "        }\n",
              "      </script>\n",
              "    </div>\n",
              "  </div>\n",
              "  "
            ]
          },
          "metadata": {},
          "execution_count": 45
        }
      ]
    },
    {
      "cell_type": "code",
      "source": [
        "X_train_scaled.info()"
      ],
      "metadata": {
        "colab": {
          "base_uri": "https://localhost:8080/"
        },
        "id": "LjgGltOv0sPX",
        "outputId": "3e8fd9ed-13f7-4b67-db05-cb65510c252d"
      },
      "execution_count": 46,
      "outputs": [
        {
          "output_type": "stream",
          "name": "stdout",
          "text": [
            "<class 'pandas.core.frame.DataFrame'>\n",
            "Int64Index: 39103 entries, 32677 to 56422\n",
            "Data columns (total 43 columns):\n",
            " #   Column                           Non-Null Count  Dtype  \n",
            "---  ------                           --------------  -----  \n",
            " 0   CHROM                            39103 non-null  int64  \n",
            " 1   POS                              39103 non-null  float64\n",
            " 2   REF                              39103 non-null  int64  \n",
            " 3   ALT                              39103 non-null  int64  \n",
            " 4   AF_ESP                           39103 non-null  float64\n",
            " 5   CLNDN                            39103 non-null  float64\n",
            " 6   CLNVI                            39103 non-null  float64\n",
            " 7   CLNDISDB                         39103 non-null  float64\n",
            " 8   CLNVC                            39103 non-null  int64  \n",
            " 9   ORIGIN                           39103 non-null  float64\n",
            " 10  Allele                           39103 non-null  int64  \n",
            " 11  IMPACT                           39103 non-null  int64  \n",
            " 12  SYMBOL                           39103 non-null  float64\n",
            " 13  Feature                          39103 non-null  float64\n",
            " 14  EXON                             39103 non-null  float64\n",
            " 15  INTRON                           39103 non-null  float64\n",
            " 16  Protein_position                 39103 non-null  float64\n",
            " 17  Amino_acids                      39103 non-null  float64\n",
            " 18  Codons                           39103 non-null  float64\n",
            " 19  STRAND                           39103 non-null  float64\n",
            " 20  BAM_EDIT                         39103 non-null  float64\n",
            " 21  LoFtool                          39103 non-null  float64\n",
            " 22  CADD_PHRED                       39103 non-null  float64\n",
            " 23  BLOSUM62                         39103 non-null  float64\n",
            " 24  2KB_upstream_variant             39103 non-null  float64\n",
            " 25  3_prime_UTR_variant              39103 non-null  float64\n",
            " 26  500B_downstream_variant          39103 non-null  float64\n",
            " 27  5_prime_UTR_variant              39103 non-null  float64\n",
            " 28  frameshift_variant               39103 non-null  float64\n",
            " 29  intron_variant                   39103 non-null  float64\n",
            " 30  missense_variant                 39103 non-null  float64\n",
            " 31  nonsense                         39103 non-null  float64\n",
            " 32  splice_acceptor_variant          39103 non-null  float64\n",
            " 33  splice_donor_variant             39103 non-null  float64\n",
            " 34  synonymous_variant               39103 non-null  float64\n",
            " 35  SIFT_deleterious                 39103 non-null  uint8  \n",
            " 36  SIFT_deleterious_low_confidence  39103 non-null  uint8  \n",
            " 37  SIFT_tolerated                   39103 non-null  uint8  \n",
            " 38  SIFT_tolerated_low_confidence    39103 non-null  uint8  \n",
            " 39  PolyPhen_benign                  39103 non-null  uint8  \n",
            " 40  PolyPhen_possibly_damaging       39103 non-null  uint8  \n",
            " 41  PolyPhen_probably_damaging       39103 non-null  uint8  \n",
            " 42  PolyPhen_unknown                 39103 non-null  uint8  \n",
            "dtypes: float64(29), int64(6), uint8(8)\n",
            "memory usage: 12.0 MB\n"
          ]
        }
      ]
    },
    {
      "cell_type": "markdown",
      "source": [
        "### Model Training\n",
        "\n",
        "Models Selection:\n",
        "- Logistic Regression\n",
        "- KNeighbors Classifier?\n",
        "- Decision Tree\n",
        "- Gradient Boosting\n",
        "- XGBoost\n",
        "- Hist Gradient Boost\n",
        "\n",
        "For this analysis, we choose LogReg, Gradient Boost, and XG Boost. The latter two because they are most likely to be the best models for this dataset, the former because it is a classic classification model. "
      ],
      "metadata": {
        "id": "69IqHH8tKFZe"
      }
    },
    {
      "cell_type": "code",
      "source": [
        "#Logistic Regression\n",
        "clf = LogisticRegression()\n",
        "clf.fit(X_train_scaled, y_train)\n",
        "\n",
        "y_preds_LR = clf.predict_proba(X_test)\n",
        "preds_LR = y_preds_LR[:,1]"
      ],
      "metadata": {
        "colab": {
          "base_uri": "https://localhost:8080/",
          "height": 540
        },
        "id": "TW025tUiahvT",
        "outputId": "0f6f0be9-bfec-4691-e0f7-35d18790aec8"
      },
      "execution_count": 52,
      "outputs": [
        {
          "output_type": "stream",
          "name": "stderr",
          "text": [
            "/usr/local/lib/python3.7/dist-packages/sklearn/linear_model/_logistic.py:818: ConvergenceWarning: lbfgs failed to converge (status=1):\n",
            "STOP: TOTAL NO. of ITERATIONS REACHED LIMIT.\n",
            "\n",
            "Increase the number of iterations (max_iter) or scale the data as shown in:\n",
            "    https://scikit-learn.org/stable/modules/preprocessing.html\n",
            "Please also refer to the documentation for alternative solver options:\n",
            "    https://scikit-learn.org/stable/modules/linear_model.html#logistic-regression\n",
            "  extra_warning_msg=_LOGISTIC_SOLVER_CONVERGENCE_MSG,\n"
          ]
        },
        {
          "output_type": "error",
          "ename": "ValueError",
          "evalue": "ignored",
          "traceback": [
            "\u001b[0;31m---------------------------------------------------------------------------\u001b[0m",
            "\u001b[0;31mValueError\u001b[0m                                Traceback (most recent call last)",
            "\u001b[0;32m<ipython-input-52-f3b55fda78cd>\u001b[0m in \u001b[0;36m<module>\u001b[0;34m()\u001b[0m\n\u001b[1;32m      3\u001b[0m \u001b[0mclf\u001b[0m\u001b[0;34m.\u001b[0m\u001b[0mfit\u001b[0m\u001b[0;34m(\u001b[0m\u001b[0mX_train_scaled\u001b[0m\u001b[0;34m,\u001b[0m \u001b[0my_train\u001b[0m\u001b[0;34m)\u001b[0m\u001b[0;34m\u001b[0m\u001b[0;34m\u001b[0m\u001b[0m\n\u001b[1;32m      4\u001b[0m \u001b[0;34m\u001b[0m\u001b[0m\n\u001b[0;32m----> 5\u001b[0;31m \u001b[0my_preds_LR\u001b[0m \u001b[0;34m=\u001b[0m \u001b[0mclf\u001b[0m\u001b[0;34m.\u001b[0m\u001b[0mpredict_proba\u001b[0m\u001b[0;34m(\u001b[0m\u001b[0mX_test\u001b[0m\u001b[0;34m)\u001b[0m\u001b[0;34m\u001b[0m\u001b[0;34m\u001b[0m\u001b[0m\n\u001b[0m\u001b[1;32m      6\u001b[0m \u001b[0mpreds_LR\u001b[0m \u001b[0;34m=\u001b[0m \u001b[0my_preds_LR\u001b[0m\u001b[0;34m[\u001b[0m\u001b[0;34m:\u001b[0m\u001b[0;34m,\u001b[0m\u001b[0;36m1\u001b[0m\u001b[0;34m]\u001b[0m\u001b[0;34m\u001b[0m\u001b[0;34m\u001b[0m\u001b[0m\n",
            "\u001b[0;32m/usr/local/lib/python3.7/dist-packages/sklearn/linear_model/_logistic.py\u001b[0m in \u001b[0;36mpredict_proba\u001b[0;34m(self, X)\u001b[0m\n\u001b[1;32m   1668\u001b[0m         )\n\u001b[1;32m   1669\u001b[0m         \u001b[0;32mif\u001b[0m \u001b[0movr\u001b[0m\u001b[0;34m:\u001b[0m\u001b[0;34m\u001b[0m\u001b[0;34m\u001b[0m\u001b[0m\n\u001b[0;32m-> 1670\u001b[0;31m             \u001b[0;32mreturn\u001b[0m \u001b[0msuper\u001b[0m\u001b[0;34m(\u001b[0m\u001b[0;34m)\u001b[0m\u001b[0;34m.\u001b[0m\u001b[0m_predict_proba_lr\u001b[0m\u001b[0;34m(\u001b[0m\u001b[0mX\u001b[0m\u001b[0;34m)\u001b[0m\u001b[0;34m\u001b[0m\u001b[0;34m\u001b[0m\u001b[0m\n\u001b[0m\u001b[1;32m   1671\u001b[0m         \u001b[0;32melse\u001b[0m\u001b[0;34m:\u001b[0m\u001b[0;34m\u001b[0m\u001b[0;34m\u001b[0m\u001b[0m\n\u001b[1;32m   1672\u001b[0m             \u001b[0mdecision\u001b[0m \u001b[0;34m=\u001b[0m \u001b[0mself\u001b[0m\u001b[0;34m.\u001b[0m\u001b[0mdecision_function\u001b[0m\u001b[0;34m(\u001b[0m\u001b[0mX\u001b[0m\u001b[0;34m)\u001b[0m\u001b[0;34m\u001b[0m\u001b[0;34m\u001b[0m\u001b[0m\n",
            "\u001b[0;32m/usr/local/lib/python3.7/dist-packages/sklearn/linear_model/_base.py\u001b[0m in \u001b[0;36m_predict_proba_lr\u001b[0;34m(self, X)\u001b[0m\n\u001b[1;32m    437\u001b[0m         \u001b[0mmulticlass\u001b[0m \u001b[0;32mis\u001b[0m \u001b[0mhandled\u001b[0m \u001b[0mby\u001b[0m \u001b[0mnormalizing\u001b[0m \u001b[0mthat\u001b[0m \u001b[0mover\u001b[0m \u001b[0mall\u001b[0m \u001b[0mclasses\u001b[0m\u001b[0;34m.\u001b[0m\u001b[0;34m\u001b[0m\u001b[0;34m\u001b[0m\u001b[0m\n\u001b[1;32m    438\u001b[0m         \"\"\"\n\u001b[0;32m--> 439\u001b[0;31m         \u001b[0mprob\u001b[0m \u001b[0;34m=\u001b[0m \u001b[0mself\u001b[0m\u001b[0;34m.\u001b[0m\u001b[0mdecision_function\u001b[0m\u001b[0;34m(\u001b[0m\u001b[0mX\u001b[0m\u001b[0;34m)\u001b[0m\u001b[0;34m\u001b[0m\u001b[0;34m\u001b[0m\u001b[0m\n\u001b[0m\u001b[1;32m    440\u001b[0m         \u001b[0mexpit\u001b[0m\u001b[0;34m(\u001b[0m\u001b[0mprob\u001b[0m\u001b[0;34m,\u001b[0m \u001b[0mout\u001b[0m\u001b[0;34m=\u001b[0m\u001b[0mprob\u001b[0m\u001b[0;34m)\u001b[0m\u001b[0;34m\u001b[0m\u001b[0;34m\u001b[0m\u001b[0m\n\u001b[1;32m    441\u001b[0m         \u001b[0;32mif\u001b[0m \u001b[0mprob\u001b[0m\u001b[0;34m.\u001b[0m\u001b[0mndim\u001b[0m \u001b[0;34m==\u001b[0m \u001b[0;36m1\u001b[0m\u001b[0;34m:\u001b[0m\u001b[0;34m\u001b[0m\u001b[0;34m\u001b[0m\u001b[0m\n",
            "\u001b[0;32m/usr/local/lib/python3.7/dist-packages/sklearn/linear_model/_base.py\u001b[0m in \u001b[0;36mdecision_function\u001b[0;34m(self, X)\u001b[0m\n\u001b[1;32m    405\u001b[0m         \u001b[0mcheck_is_fitted\u001b[0m\u001b[0;34m(\u001b[0m\u001b[0mself\u001b[0m\u001b[0;34m)\u001b[0m\u001b[0;34m\u001b[0m\u001b[0;34m\u001b[0m\u001b[0m\n\u001b[1;32m    406\u001b[0m \u001b[0;34m\u001b[0m\u001b[0m\n\u001b[0;32m--> 407\u001b[0;31m         \u001b[0mX\u001b[0m \u001b[0;34m=\u001b[0m \u001b[0mself\u001b[0m\u001b[0;34m.\u001b[0m\u001b[0m_validate_data\u001b[0m\u001b[0;34m(\u001b[0m\u001b[0mX\u001b[0m\u001b[0;34m,\u001b[0m \u001b[0maccept_sparse\u001b[0m\u001b[0;34m=\u001b[0m\u001b[0;34m\"csr\"\u001b[0m\u001b[0;34m,\u001b[0m \u001b[0mreset\u001b[0m\u001b[0;34m=\u001b[0m\u001b[0;32mFalse\u001b[0m\u001b[0;34m)\u001b[0m\u001b[0;34m\u001b[0m\u001b[0;34m\u001b[0m\u001b[0m\n\u001b[0m\u001b[1;32m    408\u001b[0m         \u001b[0mscores\u001b[0m \u001b[0;34m=\u001b[0m \u001b[0msafe_sparse_dot\u001b[0m\u001b[0;34m(\u001b[0m\u001b[0mX\u001b[0m\u001b[0;34m,\u001b[0m \u001b[0mself\u001b[0m\u001b[0;34m.\u001b[0m\u001b[0mcoef_\u001b[0m\u001b[0;34m.\u001b[0m\u001b[0mT\u001b[0m\u001b[0;34m,\u001b[0m \u001b[0mdense_output\u001b[0m\u001b[0;34m=\u001b[0m\u001b[0;32mTrue\u001b[0m\u001b[0;34m)\u001b[0m \u001b[0;34m+\u001b[0m \u001b[0mself\u001b[0m\u001b[0;34m.\u001b[0m\u001b[0mintercept_\u001b[0m\u001b[0;34m\u001b[0m\u001b[0;34m\u001b[0m\u001b[0m\n\u001b[1;32m    409\u001b[0m         \u001b[0;32mreturn\u001b[0m \u001b[0mscores\u001b[0m\u001b[0;34m.\u001b[0m\u001b[0mravel\u001b[0m\u001b[0;34m(\u001b[0m\u001b[0;34m)\u001b[0m \u001b[0;32mif\u001b[0m \u001b[0mscores\u001b[0m\u001b[0;34m.\u001b[0m\u001b[0mshape\u001b[0m\u001b[0;34m[\u001b[0m\u001b[0;36m1\u001b[0m\u001b[0;34m]\u001b[0m \u001b[0;34m==\u001b[0m \u001b[0;36m1\u001b[0m \u001b[0;32melse\u001b[0m \u001b[0mscores\u001b[0m\u001b[0;34m\u001b[0m\u001b[0;34m\u001b[0m\u001b[0m\n",
            "\u001b[0;32m/usr/local/lib/python3.7/dist-packages/sklearn/base.py\u001b[0m in \u001b[0;36m_validate_data\u001b[0;34m(self, X, y, reset, validate_separately, **check_params)\u001b[0m\n\u001b[1;32m    564\u001b[0m             \u001b[0;32mraise\u001b[0m \u001b[0mValueError\u001b[0m\u001b[0;34m(\u001b[0m\u001b[0;34m\"Validation should be done on X, y or both.\"\u001b[0m\u001b[0;34m)\u001b[0m\u001b[0;34m\u001b[0m\u001b[0;34m\u001b[0m\u001b[0m\n\u001b[1;32m    565\u001b[0m         \u001b[0;32melif\u001b[0m \u001b[0;32mnot\u001b[0m \u001b[0mno_val_X\u001b[0m \u001b[0;32mand\u001b[0m \u001b[0mno_val_y\u001b[0m\u001b[0;34m:\u001b[0m\u001b[0;34m\u001b[0m\u001b[0;34m\u001b[0m\u001b[0m\n\u001b[0;32m--> 566\u001b[0;31m             \u001b[0mX\u001b[0m \u001b[0;34m=\u001b[0m \u001b[0mcheck_array\u001b[0m\u001b[0;34m(\u001b[0m\u001b[0mX\u001b[0m\u001b[0;34m,\u001b[0m \u001b[0;34m**\u001b[0m\u001b[0mcheck_params\u001b[0m\u001b[0;34m)\u001b[0m\u001b[0;34m\u001b[0m\u001b[0;34m\u001b[0m\u001b[0m\n\u001b[0m\u001b[1;32m    567\u001b[0m             \u001b[0mout\u001b[0m \u001b[0;34m=\u001b[0m \u001b[0mX\u001b[0m\u001b[0;34m\u001b[0m\u001b[0;34m\u001b[0m\u001b[0m\n\u001b[1;32m    568\u001b[0m         \u001b[0;32melif\u001b[0m \u001b[0mno_val_X\u001b[0m \u001b[0;32mand\u001b[0m \u001b[0;32mnot\u001b[0m \u001b[0mno_val_y\u001b[0m\u001b[0;34m:\u001b[0m\u001b[0;34m\u001b[0m\u001b[0;34m\u001b[0m\u001b[0m\n",
            "\u001b[0;32m/usr/local/lib/python3.7/dist-packages/sklearn/utils/validation.py\u001b[0m in \u001b[0;36mcheck_array\u001b[0;34m(array, accept_sparse, accept_large_sparse, dtype, order, copy, force_all_finite, ensure_2d, allow_nd, ensure_min_samples, ensure_min_features, estimator)\u001b[0m\n\u001b[1;32m    744\u001b[0m                     \u001b[0marray\u001b[0m \u001b[0;34m=\u001b[0m \u001b[0marray\u001b[0m\u001b[0;34m.\u001b[0m\u001b[0mastype\u001b[0m\u001b[0;34m(\u001b[0m\u001b[0mdtype\u001b[0m\u001b[0;34m,\u001b[0m \u001b[0mcasting\u001b[0m\u001b[0;34m=\u001b[0m\u001b[0;34m\"unsafe\"\u001b[0m\u001b[0;34m,\u001b[0m \u001b[0mcopy\u001b[0m\u001b[0;34m=\u001b[0m\u001b[0;32mFalse\u001b[0m\u001b[0;34m)\u001b[0m\u001b[0;34m\u001b[0m\u001b[0;34m\u001b[0m\u001b[0m\n\u001b[1;32m    745\u001b[0m                 \u001b[0;32melse\u001b[0m\u001b[0;34m:\u001b[0m\u001b[0;34m\u001b[0m\u001b[0;34m\u001b[0m\u001b[0m\n\u001b[0;32m--> 746\u001b[0;31m                     \u001b[0marray\u001b[0m \u001b[0;34m=\u001b[0m \u001b[0mnp\u001b[0m\u001b[0;34m.\u001b[0m\u001b[0masarray\u001b[0m\u001b[0;34m(\u001b[0m\u001b[0marray\u001b[0m\u001b[0;34m,\u001b[0m \u001b[0morder\u001b[0m\u001b[0;34m=\u001b[0m\u001b[0morder\u001b[0m\u001b[0;34m,\u001b[0m \u001b[0mdtype\u001b[0m\u001b[0;34m=\u001b[0m\u001b[0mdtype\u001b[0m\u001b[0;34m)\u001b[0m\u001b[0;34m\u001b[0m\u001b[0;34m\u001b[0m\u001b[0m\n\u001b[0m\u001b[1;32m    747\u001b[0m             \u001b[0;32mexcept\u001b[0m \u001b[0mComplexWarning\u001b[0m \u001b[0;32mas\u001b[0m \u001b[0mcomplex_warning\u001b[0m\u001b[0;34m:\u001b[0m\u001b[0;34m\u001b[0m\u001b[0;34m\u001b[0m\u001b[0m\n\u001b[1;32m    748\u001b[0m                 raise ValueError(\n",
            "\u001b[0;32m/usr/local/lib/python3.7/dist-packages/pandas/core/generic.py\u001b[0m in \u001b[0;36m__array__\u001b[0;34m(self, dtype)\u001b[0m\n\u001b[1;32m   1991\u001b[0m \u001b[0;34m\u001b[0m\u001b[0m\n\u001b[1;32m   1992\u001b[0m     \u001b[0;32mdef\u001b[0m \u001b[0m__array__\u001b[0m\u001b[0;34m(\u001b[0m\u001b[0mself\u001b[0m\u001b[0;34m,\u001b[0m \u001b[0mdtype\u001b[0m\u001b[0;34m:\u001b[0m \u001b[0mNpDtype\u001b[0m \u001b[0;34m|\u001b[0m \u001b[0;32mNone\u001b[0m \u001b[0;34m=\u001b[0m \u001b[0;32mNone\u001b[0m\u001b[0;34m)\u001b[0m \u001b[0;34m->\u001b[0m \u001b[0mnp\u001b[0m\u001b[0;34m.\u001b[0m\u001b[0mndarray\u001b[0m\u001b[0;34m:\u001b[0m\u001b[0;34m\u001b[0m\u001b[0;34m\u001b[0m\u001b[0m\n\u001b[0;32m-> 1993\u001b[0;31m         \u001b[0;32mreturn\u001b[0m \u001b[0mnp\u001b[0m\u001b[0;34m.\u001b[0m\u001b[0masarray\u001b[0m\u001b[0;34m(\u001b[0m\u001b[0mself\u001b[0m\u001b[0;34m.\u001b[0m\u001b[0m_values\u001b[0m\u001b[0;34m,\u001b[0m \u001b[0mdtype\u001b[0m\u001b[0;34m=\u001b[0m\u001b[0mdtype\u001b[0m\u001b[0;34m)\u001b[0m\u001b[0;34m\u001b[0m\u001b[0;34m\u001b[0m\u001b[0m\n\u001b[0m\u001b[1;32m   1994\u001b[0m \u001b[0;34m\u001b[0m\u001b[0m\n\u001b[1;32m   1995\u001b[0m     def __array_wrap__(\n",
            "\u001b[0;31mValueError\u001b[0m: could not convert string to float: 'X'"
          ]
        }
      ]
    },
    {
      "cell_type": "code",
      "source": [
        "#Gradient Boosting Classifier\n",
        "from sklearn.ensemble import GradientBoostingClassifier\n",
        "gradient_boosting_clf = GradientBoostingClassifier(n_estimators=100, max_depth=7, random_state=42).fit(X_train_scaled, y_train)\n",
        "\n",
        "y_preds_GB = gradient_boosting_clf.predict_proba(X_test)\n",
        "preds_GB = y_preds_GB[:,1]"
      ],
      "metadata": {
        "id": "hgodn527_K1Y"
      },
      "execution_count": null,
      "outputs": []
    },
    {
      "cell_type": "code",
      "source": [
        "#XGboost model\n",
        "import xgboost as xgb\n",
        "xgb_model = xgb.XGBClassifier(n_estimators=150,random_state=42,booster=\"gbtree\",base_score=0.8,colsample_bylevel=0.9009229642844634,gamma=0.49967765132613584,\n",
        "                        max_depth=6,min_child_weight=7,reg_lambda=0.27611902459972926,subsample=0.9300916052594785) #parameter values from internet analysis\n",
        "xgb_model.fit(X_train_scaled, y_train)\n",
        "\n",
        "y_preds_XG = xgb_model.predict_proba(X_test)\n",
        "preds_XG = y_preds_XG[:,1]"
      ],
      "metadata": {
        "id": "XQUIZSQkLlkC"
      },
      "execution_count": null,
      "outputs": []
    },
    {
      "cell_type": "markdown",
      "source": [
        "### Model Performance Summary and Analysis:"
      ],
      "metadata": {
        "id": "rAK_Q8rOLquD"
      }
    },
    {
      "cell_type": "code",
      "source": [
        "#Log Reg Model Evaluation\n",
        "\n",
        "#Confusion Matrix\n",
        "print(\"Logistic Regression Classifier Confusion Matrix:\", confusion_matrix(y_true=y_test, y_pred=y_pred_LR))\n",
        "\n",
        "#ROC/AUC\n",
        "fpr, tpr, _ = metrics.roc_curve(y_test, preds_LR)\n",
        "auc_score = metrics.auc(fpr, tpr)\n",
        "accur_roc_score.loc['Logistic_regression'] = [auc_score]\n",
        "\n",
        "plt.subplots(figsize=(8, 6))\n",
        "plt.title('ROC Curve')\n",
        "plt.plot(fpr, tpr, label='Logistic R. AUC = {:.2f}'.format(auc_score))\n",
        "plt.plot([0,1],[0,1],'r--')\n",
        "\n",
        "lt.ylabel('True Positive Rate')\n",
        "plt.xlabel('False Positive Rate')\n",
        "\n",
        "plt.legend(loc='lower right')\n",
        "plt.show()\n",
        "\n",
        "#General classification report\n",
        "print(classification_report(y_true=y_test, y_pred=y_preds_LR))"
      ],
      "metadata": {
        "id": "h6NAGn4wLpnK"
      },
      "execution_count": null,
      "outputs": []
    },
    {
      "cell_type": "code",
      "source": [
        "#GB classifier Evaluation\n",
        "\n",
        "#Confusion Matrix\n",
        "print(\"Gradient Boost Classifier Confusion Matrix:\", confusion_matrix(y_true=y_test, y_pred=y_pred_GB))\n",
        "\n",
        "#ROC/AUC\n",
        "fpr, tpr, _ = metrics.roc_curve(y_test, preds_GB)\n",
        "\n",
        "auc_score = metrics.auc(fpr, tpr)\n",
        "accur_roc_score.loc['GradientBoostingClassifier'] = [auc_score]\n",
        "\n",
        "plt.subplots()\n",
        "plt.title('ROC Curve')\n",
        "plt.plot(fpr, tpr, label='GradientBoosting Classifier AUC = {:.2f}'.format(auc_score))\n",
        "plt.plot([0,1],[0,1],'r--')\n",
        "\n",
        "plt.ylabel('True Positive Rate')\n",
        "plt.xlabel('False Positive Rate')\n",
        "\n",
        "plt.legend()\n",
        "plt.show()\n",
        "\n",
        "#General classification report\n",
        "print(classification_report(y_true=y_test, y_pred=y_preds_GB))"
      ],
      "metadata": {
        "id": "ohM6XNvbL3SS"
      },
      "execution_count": null,
      "outputs": []
    },
    {
      "cell_type": "code",
      "source": [
        "#XGboost Evaluation\n",
        "\n",
        "#Confusion Matrix\n",
        "print(\"XG Boost Classifier Confusion Matrix:\", confusion_matrix(y_true=y_test, y_pred=y_pred_XG))\n",
        "\n",
        "#ROC/AUC\n",
        "fpr, tpr, _ = metrics.roc_curve(y_test, preds_XG)\n",
        "\n",
        "auc_score = metrics.auc(fpr, tpr)\n",
        "accur_roc_score.loc['XGBoost_Classifier'] = [auc_score]\n",
        "\n",
        "plt.subplots()\n",
        "plt.title('ROC Curve')\n",
        "plt.plot(fpr, tpr, label='XGBoost Classifier AUC = {:.2f}'.format(auc_score))\n",
        "plt.plot([0,1],[0,1],'r--')\n",
        "\n",
        "plt.ylabel('True Positive Rate')\n",
        "plt.xlabel('False Positive Rate')\n",
        "\n",
        "plt.legend()\n",
        "plt.show()\n",
        "\n",
        "#General classification report\n",
        "print(classification_report(y_true=y_test, y_pred=y_preds_XG))"
      ],
      "metadata": {
        "id": "l4FYUXl4L5uC"
      },
      "execution_count": null,
      "outputs": []
    },
    {
      "cell_type": "markdown",
      "source": [
        "Now, we may alter parameters and retest on the validation sample. "
      ],
      "metadata": {
        "id": "v20K7U4SOX0m"
      }
    },
    {
      "cell_type": "code",
      "source": [
        "#Parameter tuning:"
      ],
      "metadata": {
        "id": "ALQmZEAHTtbU"
      },
      "execution_count": null,
      "outputs": []
    },
    {
      "cell_type": "code",
      "source": [
        "#Comparison of performance between pre-parameter adjustment and post-adjustment:"
      ],
      "metadata": {
        "id": "0Hli1WWcOi-j"
      },
      "execution_count": null,
      "outputs": []
    },
    {
      "cell_type": "markdown",
      "source": [
        "### Error Analysis and Conclusion\n",
        "\n",
        "The data preprocessing on this dataset is complex, and I was unable to prepare the data properly in time for the models to run -- I ended up getting a convergence waring and being unable to figure out how to solve it. One of the issues that I ran into was the trade-off between not having data contamination by not altering validation/test data, and being able to encode all data at once and see relationships in the variables earlier on in data visualization via a heatmap (by imputing/encoding in the whole dataset). My compromise was to perform all imputation and variable removal in the training data, but do minimal encoding (especially text encoding) in all the data, as regardless of the model text would need to be encoded. I used KFold cross-validation to perform target encoding on some variables, which requires fit/transformation and separate train/test sets, and I performed that within the training set to prevent data contamination. \n",
        "\n",
        "I cannot speak to the ability of these models with my data preparation, but given other people's attempts at working with this dataset, it appears that the GB model has the highest ROC/AUC score. Depending on whether feature importance was weighted, XGBoost also was very high. Other models I did not attempt that seemed to work well in other pipelines include LGBM Classifier and Hist-Gradient Boosting Classifier.\n",
        "\n",
        "In the future, I could streamline my datapre-processing by using the sklearn.pipeline function. This notebook is not streamlined and takes a while to load. The way I store data in train/test and in copies changes throughout the notebook, and standarizing that would aid in smooth running. I need to look more in-depth at my code to see what is causing the Convergence Warning, as this is significant. Finally, once my models are functional, I would perform proper evaluation analysis and validation paramater tuning. "
      ],
      "metadata": {
        "id": "2K7Y2pVAO9db"
      }
    }
  ]
}