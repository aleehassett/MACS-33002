{
  "cells": [
    {
      "cell_type": "markdown",
      "metadata": {
        "id": "view-in-github",
        "colab_type": "text"
      },
      "source": [
        "<a href=\"https://colab.research.google.com/github/aleehassett/MACS-33002/blob/main/33002_P1_CadiovascularDiseaseClassification.ipynb\" target=\"_parent\"><img src=\"https://colab.research.google.com/assets/colab-badge.svg\" alt=\"Open In Colab\"/></a>"
      ]
    },
    {
      "cell_type": "markdown",
      "metadata": {
        "id": "7812721d"
      },
      "source": [
        "# Machine Learning Project: Cardiovascular Disease Classification\n",
        "#### Authors: Grishma Bhattarai & Annie Lee-Hassett"
      ],
      "id": "7812721d"
    },
    {
      "cell_type": "markdown",
      "metadata": {
        "id": "bbbf246b"
      },
      "source": [
        "**Context:**  According to the World Health Organization (WHO), cardiovascular diseases (CVDs) are the leading cause of death globally, taking an estimated 17.9 million lives each year-- a whopping 32% of all deaths worldwide. Also known as the “silent killer,” cardiovascular diseases tend to have no warning signs or symptoms before a patient experiences a cardiac event like a heart attack or stroke. CVDs are fatal medical issues, and prompt treatment is crucial. Early action can significantly reduce complications and deaths worldwide. CVDs classification and prognosis is therefore, important, in order for them to be treated promptly to avoid irreversible damage or death. \n",
        "\n",
        "**Dataset:** This dataset is used to predict whether a patient is likely to get a cardiovascular disease based on the input parameters like age, gender, blood pressure, and physical activity. Each row in the data is an instance of a patient's records. \n",
        "\n",
        "*Source: https://www.kaggle.com/datasets/sulianova/cardiovascular-disease-dataset*"
      ],
      "id": "bbbf246b"
    },
    {
      "cell_type": "markdown",
      "metadata": {
        "id": "sXVrOTm_JYK8"
      },
      "source": [
        "![picture](https://www.olympiabenefits.com/hubfs/Vega/Blog%20Pages/Medical%20Expenses/What%20is%20Cardiovascular%20Disease%20-%20A%20Complete%20Overview.png) "
      ],
      "id": "sXVrOTm_JYK8"
    },
    {
      "cell_type": "markdown",
      "metadata": {
        "id": "26a62a2c"
      },
      "source": [
        "## Libraries"
      ],
      "id": "26a62a2c"
    },
    {
      "cell_type": "code",
      "execution_count": null,
      "metadata": {
        "id": "a222fcd3"
      },
      "outputs": [],
      "source": [
        "import os\n",
        "import numpy as np\n",
        "import pandas as pd\n",
        "from sklearn.preprocessing import LabelEncoder\n",
        "import matplotlib.pyplot as plt\n",
        "import seaborn as sns\n",
        "import plotly.express as px\n",
        "import plotly.graph_objects as go\n",
        "from plotly.subplots import make_subplots"
      ],
      "id": "a222fcd3"
    },
    {
      "cell_type": "code",
      "execution_count": null,
      "metadata": {
        "id": "2c1d4012"
      },
      "outputs": [],
      "source": [
        "from sklearn.pipeline import Pipeline\n",
        "from sklearn.preprocessing import StandardScaler\n",
        "from sklearn.linear_model import LogisticRegression\n",
        "from sklearn.tree import DecisionTreeRegressor, DecisionTreeClassifier\n",
        "from sklearn.ensemble import RandomForestClassifier\n",
        "from sklearn.svm import SVC\n",
        "from sklearn import metrics\n",
        "from sklearn.model_selection import train_test_split, cross_val_score\n",
        "from sklearn.metrics import classification_report, confusion_matrix, f1_score, roc_curve\n",
        "from sklearn.model_selection import GridSearchCV\n",
        "from sklearn import tree"
      ],
      "id": "2c1d4012"
    },
    {
      "cell_type": "markdown",
      "metadata": {
        "id": "feb76703"
      },
      "source": [
        "## Dataset Attributes\n",
        "\n",
        "Data description\n",
        "There are 3 types of input features:\n",
        "\n",
        "I. Objective: factual information;\n",
        "\n",
        "II. Examination: results of medical examination;\n",
        "\n",
        "III. Subjective: information given by the patient.\n",
        "\n",
        "Features:\n",
        "1. ID: Unique Identification Number\n",
        "2. Age: Objective Feature (age, int (days))\n",
        "3. Height: Objective Feature (height, int (cm))\n",
        "4. Weight: Objective Feature (weight, float (kg))\n",
        "5. Gender: Objective Feature (gender, categorical code, 1: women, 2: men) \n",
        "6. Systolic blood pressure: Examination Feature (ap_hi, int)\n",
        "7. Diastolic blood pressure: Examination Feature (ap_lo, int)\n",
        "8. Cholesterol: Examination Feature (cholesterol, 1: normal, 2: above normal, 3: well above normal)\n",
        "9. Glucose: Examination Feature (gluc, 1: normal, 2: above normal, 3: well above normal)\n",
        "10. Smoking: Subjective Feature (smoke, binary)\n",
        "11. Alcohol intake: Subjective Feature (alco, binary)\n",
        "12. Physical activity: Subjective Feature (active, binary)\n",
        "13. Presence or absence of cardiovascular disease: **Target Variable** (cardio, binary)\n",
        "\n",
        "**Categorical Features:** gender, cholestrol, gluc, smoke, alco, active, cardio\n",
        "\n",
        "**Continuous Features:** age, height, weight, ap_hi, ap_lo\n",
        "\n",
        "*Note: All of the dataset values were collected at the moment of medical examination.*\n"
      ],
      "id": "feb76703"
    },
    {
      "cell_type": "markdown",
      "metadata": {
        "id": "f9bf8039"
      },
      "source": [
        "## Exploratory Data Analysis"
      ],
      "id": "f9bf8039"
    },
    {
      "cell_type": "code",
      "execution_count": null,
      "metadata": {
        "colab": {
          "base_uri": "https://localhost:8080/",
          "height": 346
        },
        "id": "7dfee255",
        "outputId": "1dc2333f-6e81-48c0-fc2b-c3b424bed5e4"
      },
      "outputs": [
        {
          "output_type": "error",
          "ename": "FileNotFoundError",
          "evalue": "ignored",
          "traceback": [
            "\u001b[0;31m---------------------------------------------------------------------------\u001b[0m",
            "\u001b[0;31mFileNotFoundError\u001b[0m                         Traceback (most recent call last)",
            "\u001b[0;32m<ipython-input-3-784b7c55ab7b>\u001b[0m in \u001b[0;36m<module>\u001b[0;34m()\u001b[0m\n\u001b[1;32m      1\u001b[0m \u001b[0;31m#load the dataframe\u001b[0m\u001b[0;34m\u001b[0m\u001b[0;34m\u001b[0m\u001b[0;34m\u001b[0m\u001b[0m\n\u001b[0;32m----> 2\u001b[0;31m \u001b[0mdata\u001b[0m \u001b[0;34m=\u001b[0m \u001b[0mpd\u001b[0m\u001b[0;34m.\u001b[0m\u001b[0mread_csv\u001b[0m\u001b[0;34m(\u001b[0m\u001b[0;34m'cardio_train.csv'\u001b[0m\u001b[0;34m,\u001b[0m \u001b[0msep\u001b[0m\u001b[0;34m=\u001b[0m\u001b[0;34m';'\u001b[0m\u001b[0;34m)\u001b[0m\u001b[0;34m\u001b[0m\u001b[0;34m\u001b[0m\u001b[0m\n\u001b[0m\u001b[1;32m      3\u001b[0m \u001b[0mdata\u001b[0m\u001b[0;34m.\u001b[0m\u001b[0mhead\u001b[0m\u001b[0;34m(\u001b[0m\u001b[0;36m5\u001b[0m\u001b[0;34m)\u001b[0m\u001b[0;34m\u001b[0m\u001b[0;34m\u001b[0m\u001b[0m\n",
            "\u001b[0;32m/usr/local/lib/python3.7/dist-packages/pandas/util/_decorators.py\u001b[0m in \u001b[0;36mwrapper\u001b[0;34m(*args, **kwargs)\u001b[0m\n\u001b[1;32m    309\u001b[0m                     \u001b[0mstacklevel\u001b[0m\u001b[0;34m=\u001b[0m\u001b[0mstacklevel\u001b[0m\u001b[0;34m,\u001b[0m\u001b[0;34m\u001b[0m\u001b[0;34m\u001b[0m\u001b[0m\n\u001b[1;32m    310\u001b[0m                 )\n\u001b[0;32m--> 311\u001b[0;31m             \u001b[0;32mreturn\u001b[0m \u001b[0mfunc\u001b[0m\u001b[0;34m(\u001b[0m\u001b[0;34m*\u001b[0m\u001b[0margs\u001b[0m\u001b[0;34m,\u001b[0m \u001b[0;34m**\u001b[0m\u001b[0mkwargs\u001b[0m\u001b[0;34m)\u001b[0m\u001b[0;34m\u001b[0m\u001b[0;34m\u001b[0m\u001b[0m\n\u001b[0m\u001b[1;32m    312\u001b[0m \u001b[0;34m\u001b[0m\u001b[0m\n\u001b[1;32m    313\u001b[0m         \u001b[0;32mreturn\u001b[0m \u001b[0mwrapper\u001b[0m\u001b[0;34m\u001b[0m\u001b[0;34m\u001b[0m\u001b[0m\n",
            "\u001b[0;32m/usr/local/lib/python3.7/dist-packages/pandas/io/parsers/readers.py\u001b[0m in \u001b[0;36mread_csv\u001b[0;34m(filepath_or_buffer, sep, delimiter, header, names, index_col, usecols, squeeze, prefix, mangle_dupe_cols, dtype, engine, converters, true_values, false_values, skipinitialspace, skiprows, skipfooter, nrows, na_values, keep_default_na, na_filter, verbose, skip_blank_lines, parse_dates, infer_datetime_format, keep_date_col, date_parser, dayfirst, cache_dates, iterator, chunksize, compression, thousands, decimal, lineterminator, quotechar, quoting, doublequote, escapechar, comment, encoding, encoding_errors, dialect, error_bad_lines, warn_bad_lines, on_bad_lines, delim_whitespace, low_memory, memory_map, float_precision, storage_options)\u001b[0m\n\u001b[1;32m    584\u001b[0m     \u001b[0mkwds\u001b[0m\u001b[0;34m.\u001b[0m\u001b[0mupdate\u001b[0m\u001b[0;34m(\u001b[0m\u001b[0mkwds_defaults\u001b[0m\u001b[0;34m)\u001b[0m\u001b[0;34m\u001b[0m\u001b[0;34m\u001b[0m\u001b[0m\n\u001b[1;32m    585\u001b[0m \u001b[0;34m\u001b[0m\u001b[0m\n\u001b[0;32m--> 586\u001b[0;31m     \u001b[0;32mreturn\u001b[0m \u001b[0m_read\u001b[0m\u001b[0;34m(\u001b[0m\u001b[0mfilepath_or_buffer\u001b[0m\u001b[0;34m,\u001b[0m \u001b[0mkwds\u001b[0m\u001b[0;34m)\u001b[0m\u001b[0;34m\u001b[0m\u001b[0;34m\u001b[0m\u001b[0m\n\u001b[0m\u001b[1;32m    587\u001b[0m \u001b[0;34m\u001b[0m\u001b[0m\n\u001b[1;32m    588\u001b[0m \u001b[0;34m\u001b[0m\u001b[0m\n",
            "\u001b[0;32m/usr/local/lib/python3.7/dist-packages/pandas/io/parsers/readers.py\u001b[0m in \u001b[0;36m_read\u001b[0;34m(filepath_or_buffer, kwds)\u001b[0m\n\u001b[1;32m    480\u001b[0m \u001b[0;34m\u001b[0m\u001b[0m\n\u001b[1;32m    481\u001b[0m     \u001b[0;31m# Create the parser.\u001b[0m\u001b[0;34m\u001b[0m\u001b[0;34m\u001b[0m\u001b[0;34m\u001b[0m\u001b[0m\n\u001b[0;32m--> 482\u001b[0;31m     \u001b[0mparser\u001b[0m \u001b[0;34m=\u001b[0m \u001b[0mTextFileReader\u001b[0m\u001b[0;34m(\u001b[0m\u001b[0mfilepath_or_buffer\u001b[0m\u001b[0;34m,\u001b[0m \u001b[0;34m**\u001b[0m\u001b[0mkwds\u001b[0m\u001b[0;34m)\u001b[0m\u001b[0;34m\u001b[0m\u001b[0;34m\u001b[0m\u001b[0m\n\u001b[0m\u001b[1;32m    483\u001b[0m \u001b[0;34m\u001b[0m\u001b[0m\n\u001b[1;32m    484\u001b[0m     \u001b[0;32mif\u001b[0m \u001b[0mchunksize\u001b[0m \u001b[0;32mor\u001b[0m \u001b[0miterator\u001b[0m\u001b[0;34m:\u001b[0m\u001b[0;34m\u001b[0m\u001b[0;34m\u001b[0m\u001b[0m\n",
            "\u001b[0;32m/usr/local/lib/python3.7/dist-packages/pandas/io/parsers/readers.py\u001b[0m in \u001b[0;36m__init__\u001b[0;34m(self, f, engine, **kwds)\u001b[0m\n\u001b[1;32m    809\u001b[0m             \u001b[0mself\u001b[0m\u001b[0;34m.\u001b[0m\u001b[0moptions\u001b[0m\u001b[0;34m[\u001b[0m\u001b[0;34m\"has_index_names\"\u001b[0m\u001b[0;34m]\u001b[0m \u001b[0;34m=\u001b[0m \u001b[0mkwds\u001b[0m\u001b[0;34m[\u001b[0m\u001b[0;34m\"has_index_names\"\u001b[0m\u001b[0;34m]\u001b[0m\u001b[0;34m\u001b[0m\u001b[0;34m\u001b[0m\u001b[0m\n\u001b[1;32m    810\u001b[0m \u001b[0;34m\u001b[0m\u001b[0m\n\u001b[0;32m--> 811\u001b[0;31m         \u001b[0mself\u001b[0m\u001b[0;34m.\u001b[0m\u001b[0m_engine\u001b[0m \u001b[0;34m=\u001b[0m \u001b[0mself\u001b[0m\u001b[0;34m.\u001b[0m\u001b[0m_make_engine\u001b[0m\u001b[0;34m(\u001b[0m\u001b[0mself\u001b[0m\u001b[0;34m.\u001b[0m\u001b[0mengine\u001b[0m\u001b[0;34m)\u001b[0m\u001b[0;34m\u001b[0m\u001b[0;34m\u001b[0m\u001b[0m\n\u001b[0m\u001b[1;32m    812\u001b[0m \u001b[0;34m\u001b[0m\u001b[0m\n\u001b[1;32m    813\u001b[0m     \u001b[0;32mdef\u001b[0m \u001b[0mclose\u001b[0m\u001b[0;34m(\u001b[0m\u001b[0mself\u001b[0m\u001b[0;34m)\u001b[0m\u001b[0;34m:\u001b[0m\u001b[0;34m\u001b[0m\u001b[0;34m\u001b[0m\u001b[0m\n",
            "\u001b[0;32m/usr/local/lib/python3.7/dist-packages/pandas/io/parsers/readers.py\u001b[0m in \u001b[0;36m_make_engine\u001b[0;34m(self, engine)\u001b[0m\n\u001b[1;32m   1038\u001b[0m             )\n\u001b[1;32m   1039\u001b[0m         \u001b[0;31m# error: Too many arguments for \"ParserBase\"\u001b[0m\u001b[0;34m\u001b[0m\u001b[0;34m\u001b[0m\u001b[0;34m\u001b[0m\u001b[0m\n\u001b[0;32m-> 1040\u001b[0;31m         \u001b[0;32mreturn\u001b[0m \u001b[0mmapping\u001b[0m\u001b[0;34m[\u001b[0m\u001b[0mengine\u001b[0m\u001b[0;34m]\u001b[0m\u001b[0;34m(\u001b[0m\u001b[0mself\u001b[0m\u001b[0;34m.\u001b[0m\u001b[0mf\u001b[0m\u001b[0;34m,\u001b[0m \u001b[0;34m**\u001b[0m\u001b[0mself\u001b[0m\u001b[0;34m.\u001b[0m\u001b[0moptions\u001b[0m\u001b[0;34m)\u001b[0m  \u001b[0;31m# type: ignore[call-arg]\u001b[0m\u001b[0;34m\u001b[0m\u001b[0;34m\u001b[0m\u001b[0m\n\u001b[0m\u001b[1;32m   1041\u001b[0m \u001b[0;34m\u001b[0m\u001b[0m\n\u001b[1;32m   1042\u001b[0m     \u001b[0;32mdef\u001b[0m \u001b[0m_failover_to_python\u001b[0m\u001b[0;34m(\u001b[0m\u001b[0mself\u001b[0m\u001b[0;34m)\u001b[0m\u001b[0;34m:\u001b[0m\u001b[0;34m\u001b[0m\u001b[0;34m\u001b[0m\u001b[0m\n",
            "\u001b[0;32m/usr/local/lib/python3.7/dist-packages/pandas/io/parsers/c_parser_wrapper.py\u001b[0m in \u001b[0;36m__init__\u001b[0;34m(self, src, **kwds)\u001b[0m\n\u001b[1;32m     49\u001b[0m \u001b[0;34m\u001b[0m\u001b[0m\n\u001b[1;32m     50\u001b[0m         \u001b[0;31m# open handles\u001b[0m\u001b[0;34m\u001b[0m\u001b[0;34m\u001b[0m\u001b[0;34m\u001b[0m\u001b[0m\n\u001b[0;32m---> 51\u001b[0;31m         \u001b[0mself\u001b[0m\u001b[0;34m.\u001b[0m\u001b[0m_open_handles\u001b[0m\u001b[0;34m(\u001b[0m\u001b[0msrc\u001b[0m\u001b[0;34m,\u001b[0m \u001b[0mkwds\u001b[0m\u001b[0;34m)\u001b[0m\u001b[0;34m\u001b[0m\u001b[0;34m\u001b[0m\u001b[0m\n\u001b[0m\u001b[1;32m     52\u001b[0m         \u001b[0;32massert\u001b[0m \u001b[0mself\u001b[0m\u001b[0;34m.\u001b[0m\u001b[0mhandles\u001b[0m \u001b[0;32mis\u001b[0m \u001b[0;32mnot\u001b[0m \u001b[0;32mNone\u001b[0m\u001b[0;34m\u001b[0m\u001b[0;34m\u001b[0m\u001b[0m\n\u001b[1;32m     53\u001b[0m \u001b[0;34m\u001b[0m\u001b[0m\n",
            "\u001b[0;32m/usr/local/lib/python3.7/dist-packages/pandas/io/parsers/base_parser.py\u001b[0m in \u001b[0;36m_open_handles\u001b[0;34m(self, src, kwds)\u001b[0m\n\u001b[1;32m    227\u001b[0m             \u001b[0mmemory_map\u001b[0m\u001b[0;34m=\u001b[0m\u001b[0mkwds\u001b[0m\u001b[0;34m.\u001b[0m\u001b[0mget\u001b[0m\u001b[0;34m(\u001b[0m\u001b[0;34m\"memory_map\"\u001b[0m\u001b[0;34m,\u001b[0m \u001b[0;32mFalse\u001b[0m\u001b[0;34m)\u001b[0m\u001b[0;34m,\u001b[0m\u001b[0;34m\u001b[0m\u001b[0;34m\u001b[0m\u001b[0m\n\u001b[1;32m    228\u001b[0m             \u001b[0mstorage_options\u001b[0m\u001b[0;34m=\u001b[0m\u001b[0mkwds\u001b[0m\u001b[0;34m.\u001b[0m\u001b[0mget\u001b[0m\u001b[0;34m(\u001b[0m\u001b[0;34m\"storage_options\"\u001b[0m\u001b[0;34m,\u001b[0m \u001b[0;32mNone\u001b[0m\u001b[0;34m)\u001b[0m\u001b[0;34m,\u001b[0m\u001b[0;34m\u001b[0m\u001b[0;34m\u001b[0m\u001b[0m\n\u001b[0;32m--> 229\u001b[0;31m             \u001b[0merrors\u001b[0m\u001b[0;34m=\u001b[0m\u001b[0mkwds\u001b[0m\u001b[0;34m.\u001b[0m\u001b[0mget\u001b[0m\u001b[0;34m(\u001b[0m\u001b[0;34m\"encoding_errors\"\u001b[0m\u001b[0;34m,\u001b[0m \u001b[0;34m\"strict\"\u001b[0m\u001b[0;34m)\u001b[0m\u001b[0;34m,\u001b[0m\u001b[0;34m\u001b[0m\u001b[0;34m\u001b[0m\u001b[0m\n\u001b[0m\u001b[1;32m    230\u001b[0m         )\n\u001b[1;32m    231\u001b[0m \u001b[0;34m\u001b[0m\u001b[0m\n",
            "\u001b[0;32m/usr/local/lib/python3.7/dist-packages/pandas/io/common.py\u001b[0m in \u001b[0;36mget_handle\u001b[0;34m(path_or_buf, mode, encoding, compression, memory_map, is_text, errors, storage_options)\u001b[0m\n\u001b[1;32m    705\u001b[0m                 \u001b[0mencoding\u001b[0m\u001b[0;34m=\u001b[0m\u001b[0mioargs\u001b[0m\u001b[0;34m.\u001b[0m\u001b[0mencoding\u001b[0m\u001b[0;34m,\u001b[0m\u001b[0;34m\u001b[0m\u001b[0;34m\u001b[0m\u001b[0m\n\u001b[1;32m    706\u001b[0m                 \u001b[0merrors\u001b[0m\u001b[0;34m=\u001b[0m\u001b[0merrors\u001b[0m\u001b[0;34m,\u001b[0m\u001b[0;34m\u001b[0m\u001b[0;34m\u001b[0m\u001b[0m\n\u001b[0;32m--> 707\u001b[0;31m                 \u001b[0mnewline\u001b[0m\u001b[0;34m=\u001b[0m\u001b[0;34m\"\"\u001b[0m\u001b[0;34m,\u001b[0m\u001b[0;34m\u001b[0m\u001b[0;34m\u001b[0m\u001b[0m\n\u001b[0m\u001b[1;32m    708\u001b[0m             )\n\u001b[1;32m    709\u001b[0m         \u001b[0;32melse\u001b[0m\u001b[0;34m:\u001b[0m\u001b[0;34m\u001b[0m\u001b[0;34m\u001b[0m\u001b[0m\n",
            "\u001b[0;31mFileNotFoundError\u001b[0m: [Errno 2] No such file or directory: 'cardio_train.csv'"
          ]
        }
      ],
      "source": [
        "#load the dataframe\n",
        "data = pd.read_csv('cardio_train.csv', sep=';')\n",
        "data.head(5)"
      ],
      "id": "7dfee255"
    },
    {
      "cell_type": "code",
      "execution_count": null,
      "metadata": {
        "id": "lwRUZkB1uU5t"
      },
      "outputs": [],
      "source": [
        "data.shape #(rows, columns)"
      ],
      "id": "lwRUZkB1uU5t"
    },
    {
      "cell_type": "code",
      "execution_count": null,
      "metadata": {
        "id": "pdr-Qe4Mpw8M"
      },
      "outputs": [],
      "source": [
        "#duplication check\n",
        "data.duplicated().sum()"
      ],
      "id": "pdr-Qe4Mpw8M"
    },
    {
      "cell_type": "code",
      "source": [
        "#convert age from days to years\n",
        "data['age'] = data['age']/365\n",
        "data.head(5)"
      ],
      "metadata": {
        "id": "hM0WnszPfo1U"
      },
      "id": "hM0WnszPfo1U",
      "execution_count": null,
      "outputs": []
    },
    {
      "cell_type": "code",
      "execution_count": null,
      "metadata": {
        "id": "_K9xNK5v4e8T"
      },
      "outputs": [],
      "source": [
        "data.info()"
      ],
      "id": "_K9xNK5v4e8T"
    },
    {
      "cell_type": "markdown",
      "metadata": {
        "id": "LWXU1g8p44Iq"
      },
      "source": [
        "Since there are no null values in any of the variables, we do not have to drop any observations yet. "
      ],
      "id": "LWXU1g8p44Iq"
    },
    {
      "cell_type": "markdown",
      "metadata": {
        "id": "8c3c1043"
      },
      "source": [
        "For continuous variables, we look at the summary statistics and the distribution."
      ],
      "id": "8c3c1043"
    },
    {
      "cell_type": "code",
      "execution_count": null,
      "metadata": {
        "id": "b16e8967"
      },
      "outputs": [],
      "source": [
        "data[['age', 'height', 'weight', 'ap_hi', 'ap_lo']].describe()"
      ],
      "id": "b16e8967"
    },
    {
      "cell_type": "code",
      "execution_count": null,
      "metadata": {
        "id": "dEUyWhAInXlN"
      },
      "outputs": [],
      "source": [
        "plt.style.use('ggplot')\n",
        "continuousVar = ['age','weight','height','ap_lo', 'ap_hi']\n",
        "data[continuousVar].boxplot()\n",
        "plt.title(\"Numerical Variable Distribution\", fontsize=12)\n",
        "plt.show()"
      ],
      "id": "dEUyWhAInXlN"
    },
    {
      "cell_type": "markdown",
      "metadata": {
        "id": "gJIPNcnHm0qh"
      },
      "source": [
        "We see presence of some weird outliers for the continuous variables. Hence, we create a function to remove outliers:"
      ],
      "id": "gJIPNcnHm0qh"
    },
    {
      "cell_type": "code",
      "execution_count": null,
      "metadata": {
        "id": "-D033cFknB2g"
      },
      "outputs": [],
      "source": [
        "def outliersRemoval(var):\n",
        "    q75,q25 = np.percentile(data[var],[75,25])\n",
        "    quartile = q75 - q25\n",
        "    \n",
        "    maxm = q75 + (1.5 * quartile)\n",
        "    minm = q25 - (1.5 * quartile)\n",
        "    data.loc[data[var] < minm, var] = np.nan\n",
        "    data.loc[data[var] > maxm, var] = np.nan\n",
        "    data.isnull().sum()"
      ],
      "id": "-D033cFknB2g"
    },
    {
      "cell_type": "code",
      "execution_count": null,
      "metadata": {
        "id": "Q4tFEInFoE0N"
      },
      "outputs": [],
      "source": [
        "outliersRemoval('age')\n",
        "data = data.dropna(axis = 0)\n",
        "outliersRemoval('weight')\n",
        "data = data.dropna(axis = 0)\n",
        "outliersRemoval('height')\n",
        "data = data.dropna(axis = 0)\n",
        "outliersRemoval('ap_lo')\n",
        "data = data.dropna(axis = 0)\n",
        "outliersRemoval('ap_hi')\n",
        "data = data.dropna(axis = 0)"
      ],
      "id": "Q4tFEInFoE0N"
    },
    {
      "cell_type": "code",
      "execution_count": null,
      "metadata": {
        "id": "oBeuuNU7olm7"
      },
      "outputs": [],
      "source": [
        "data[continuousVar].boxplot()\n",
        "plt.title(\"Numerical Variable Distribution (Outliers Dropped)\", fontsize=12)\n",
        "plt.show()"
      ],
      "id": "oBeuuNU7olm7"
    },
    {
      "cell_type": "code",
      "execution_count": null,
      "metadata": {
        "id": "wwy13pWYop1f"
      },
      "outputs": [],
      "source": [
        "data.shape #new data shape after outliers are removed"
      ],
      "id": "wwy13pWYop1f"
    },
    {
      "cell_type": "markdown",
      "metadata": {
        "id": "d9FOdepCrUOc"
      },
      "source": [
        "We can visualize the distribution of numerical variables after outlier removal. "
      ],
      "id": "d9FOdepCrUOc"
    },
    {
      "cell_type": "code",
      "execution_count": null,
      "metadata": {
        "id": "6TLvn2i5rNIa"
      },
      "outputs": [],
      "source": [
        "#histogram distribution\n",
        "data.hist(column = 'age')\n",
        "data.hist(column = 'weight')\n",
        "data.hist(column = 'height')\n",
        "data.hist(column = 'ap_lo')\n",
        "data.hist(column = 'ap_hi')"
      ],
      "id": "6TLvn2i5rNIa"
    },
    {
      "cell_type": "markdown",
      "metadata": {
        "id": "d1a80a8e"
      },
      "source": [
        "For categorical variables, we visualize the summary statistics."
      ],
      "id": "d1a80a8e"
    },
    {
      "cell_type": "code",
      "execution_count": null,
      "metadata": {
        "id": "73ba94b6"
      },
      "outputs": [],
      "source": [
        "sns.set_theme(style='white', palette='Accent')\n",
        "fig, axes = plt.subplots(4, 2, figsize=(15, 20))\n",
        "\n",
        "fig.suptitle('Categorical Variable Distribution')\n",
        "fig.subplots_adjust(hspace=0.55, wspace=0.25)\n",
        "\n",
        "ax1 = sns.countplot(ax=axes[0, 0], data=data, x='gender')\n",
        "ax2 = sns.countplot(ax=axes[0, 1], data=data, x='cholesterol')\n",
        "ax3 = sns.countplot(ax=axes[1, 0], data=data, x='gluc')\n",
        "ax4 = sns.countplot(ax=axes[1, 1], data=data, x='smoke')\n",
        "ax5 = sns.countplot(ax=axes[2, 0], data=data, x='alco')\n",
        "ax6 = sns.countplot(ax=axes[2, 1], data=data, x='active')\n",
        "ax7 = sns.countplot(ax=axes[3, 0], data=data, x='cardio')\n",
        "\n",
        "fig.delaxes(ax=axes[3,1]) \n",
        "\n",
        "for i in range(1, 8):\n",
        "    for p in globals()[f'ax{i}'].patches:\n",
        "        globals()[f'ax{i}'].annotate('{:}'.format(p.get_height()), (p.get_x()+0.15, p.get_height()+1))"
      ],
      "id": "73ba94b6"
    },
    {
      "cell_type": "markdown",
      "metadata": {
        "id": "CMM8Ro_aDlqG"
      },
      "source": [
        "The distribution, especially for our Target Variable *cardio* looks balanced. Therefore, we do not need to run any further balance procedures. We now look at the correlation matrix for all the variables to see if we can identify some variables that might be particularly important."
      ],
      "id": "CMM8Ro_aDlqG"
    },
    {
      "cell_type": "markdown",
      "metadata": {
        "id": "NyOnUonQseJB"
      },
      "source": [
        "We may note that the subjective variables (smoking, alcohol intake, and activity status), have very skewed responses. \n"
      ],
      "id": "NyOnUonQseJB"
    },
    {
      "cell_type": "code",
      "execution_count": null,
      "metadata": {
        "id": "xiQP1eD5GAkC"
      },
      "outputs": [],
      "source": [
        "plt.figure(figsize=(12, 8))\n",
        "heatmap = sns.heatmap(data.corr(), vmin=0, vmax=1, cmap='PuBu', annot=True, fmt='.2f')\n",
        "heatmap.set_title('Correlation Heatmap', fontdict={'fontsize':12}, pad=12);"
      ],
      "id": "xiQP1eD5GAkC"
    },
    {
      "cell_type": "markdown",
      "metadata": {
        "id": "3DeGcwcBgABC"
      },
      "source": [
        "From the correlation heatmap we can see that there are some variables more correlated with *cardio* than others. Particularly, *ap_hi* i.e. systolic blood pressure looks the most correlated with a person's chances of getting a cardiovascular disease-- a fact that is supported by health literature. Therefore, *ap_hi* is an important feature.\n",
        "\n",
        "Additionally, since the (systolic blood pressure, diastolic blood pressure) and (gender, height) are two variable combinations that are the most correlated with one another, we drop *ap_low* and *gender* to overcome possible issues of multicollinearity. We also drop *id* as it is a unique identifier. \n"
      ],
      "id": "3DeGcwcBgABC"
    },
    {
      "cell_type": "markdown",
      "metadata": {
        "id": "6EabG3Ha1oJj"
      },
      "source": [
        "## Data Preprocessing\n",
        "\n",
        "Now, we move on to **data preprocessing**.\n",
        "\n",
        "Categorial variables: \n",
        "- cholesterol (multi, ordinal)\n",
        "- gluc (multi, ordinal)\n",
        "- smoke (binary)\n",
        "- alco (binary)\n",
        "- active (binary)\n",
        "- **target variable:** cardio\n",
        "\n",
        "Numerical variables:\n",
        "- age\n",
        "- height\n",
        "- weight\n",
        "- ap_hi\n",
        "\n",
        "Since our multi-categorical variables are already ordinal and our remaining categorical variables are all binary, we can move on to scaling our numerical variables. \n"
      ],
      "id": "6EabG3Ha1oJj"
    },
    {
      "cell_type": "code",
      "execution_count": null,
      "metadata": {
        "id": "jH4mkNtsdqhg"
      },
      "outputs": [],
      "source": [
        "#construct feature matrix\n",
        "X = data[['age', 'height', 'weight', 'ap_hi', 'cholesterol', 'gluc', 'smoke', 'alco', 'active']]\n",
        "y = data[['cardio']]\n",
        "\n",
        "X.shape, y.shape"
      ],
      "id": "jH4mkNtsdqhg"
    },
    {
      "cell_type": "code",
      "execution_count": null,
      "metadata": {
        "id": "mtx5kvK643-Y"
      },
      "outputs": [],
      "source": [
        "#create train/test matrices\n",
        "X_train, X_test, y_train, y_test = train_test_split(X, y, test_size = 0.3, random_state=42)"
      ],
      "id": "mtx5kvK643-Y"
    },
    {
      "cell_type": "code",
      "execution_count": null,
      "metadata": {
        "id": "fHW3m9ANxSkm"
      },
      "outputs": [],
      "source": [
        "#Standard Scaler Normalization:\n",
        "#fit scaler\n",
        "scaler = StandardScaler()\n",
        "scaler.fit(X_train)"
      ],
      "id": "fHW3m9ANxSkm"
    },
    {
      "cell_type": "code",
      "execution_count": null,
      "metadata": {
        "id": "hA3NdecZ4z9i"
      },
      "outputs": [],
      "source": [
        "#test scaled\n",
        "X_train_scaled = scaler.transform(X_train)\n",
        "X_test_scaled = scaler.transform(X_test)"
      ],
      "id": "hA3NdecZ4z9i"
    },
    {
      "cell_type": "markdown",
      "metadata": {
        "id": "NINK44q01yk9"
      },
      "source": [
        "## Model Training\n"
      ],
      "id": "NINK44q01yk9"
    },
    {
      "cell_type": "markdown",
      "metadata": {
        "id": "9lbtNrCP13NU"
      },
      "source": [
        "#### Logistic Regression Classification Model 1\n",
        "- Default Parameters"
      ],
      "id": "9lbtNrCP13NU"
    },
    {
      "cell_type": "code",
      "execution_count": null,
      "metadata": {
        "id": "Xuf1gMgSKEOq"
      },
      "outputs": [],
      "source": [
        "#fit to logistic regression model\n",
        "log_reg = LogisticRegression(random_state=42)\n",
        "log_reg.fit(X_train_scaled, y_train.values.ravel())\n",
        "\n",
        "#check the coefficients\n",
        "coeff_df = pd.DataFrame(log_reg.coef_, columns=['age', 'height', 'weight', 'ap_hi', 'cholesterol', 'gluc', 'smoke', 'alco', 'active'])\n",
        "coeff_df"
      ],
      "id": "Xuf1gMgSKEOq"
    },
    {
      "cell_type": "markdown",
      "metadata": {
        "id": "CPRa7j2X11P4"
      },
      "source": [
        "#### Logistic Regression Classification Model 2\n",
        "- Penalty: L1\n",
        "- C-Value: 0.1"
      ],
      "id": "CPRa7j2X11P4"
    },
    {
      "cell_type": "code",
      "execution_count": null,
      "metadata": {
        "id": "Pmb-O15t3AcP"
      },
      "outputs": [],
      "source": [
        "#fit to logistic regression model\n",
        "log_reg2 = LogisticRegression(penalty='l1', solver='liblinear', C=0.1, random_state=42)\n",
        "log_reg2.fit(X_train_scaled, y_train.values.ravel())\n",
        "\n",
        "#check the coefficients\n",
        "coeff_df2 = pd.DataFrame(log_reg2.coef_, columns=['age', 'height', 'weight', 'ap_hi', 'cholesterol', 'gluc', 'smoke', 'alco', 'active'])\n",
        "coeff_df2"
      ],
      "id": "Pmb-O15t3AcP"
    },
    {
      "cell_type": "markdown",
      "metadata": {
        "id": "uLXxgNbY-3O8"
      },
      "source": [
        "#### Logistic Regression Classification Model 3 w/o Subjective Features\n",
        "Invidual reporting veracity at the doctor's office is often over/underrepresented during visits. We now create a new logistic regression model removing subjective features."
      ],
      "id": "uLXxgNbY-3O8"
    },
    {
      "cell_type": "code",
      "execution_count": null,
      "metadata": {
        "id": "QLprip1mmgJU"
      },
      "outputs": [],
      "source": [
        "log_reg3 = LogisticRegression(penalty='l1', C=1, solver='liblinear', random_state=42)\n",
        "log_reg3.fit(X_train_scaled[:, 0:6], y_train.values.ravel())\n",
        "\n",
        "#check the coefficients\n",
        "coeff_df3 = pd.DataFrame(log_reg3.coef_, columns=['age', 'height', 'weight', 'ap_hi', 'cholesterol', 'gluc'])\n",
        "coeff_df3"
      ],
      "id": "QLprip1mmgJU"
    },
    {
      "cell_type": "markdown",
      "metadata": {
        "id": "t6sMG_yi18mE"
      },
      "source": [
        "#### Decision Tree Classification Model \n",
        "-Default Parameters"
      ],
      "id": "t6sMG_yi18mE"
    },
    {
      "cell_type": "code",
      "execution_count": null,
      "metadata": {
        "id": "Zd_qz4mJoUaf"
      },
      "outputs": [],
      "source": [
        "#decision tree classifier model\n",
        "clf = DecisionTreeClassifier(random_state=42)\n",
        "clf.fit(X_train_scaled, y_train.values.ravel())"
      ],
      "id": "Zd_qz4mJoUaf"
    },
    {
      "cell_type": "markdown",
      "metadata": {
        "id": "LGWH-9zm3SNn"
      },
      "source": [
        "#### Random Forest Classification Model\n",
        "- 100 Decision Trees\n",
        "- Pruned w/ Maximum Depth of 5 "
      ],
      "id": "LGWH-9zm3SNn"
    },
    {
      "cell_type": "code",
      "execution_count": null,
      "metadata": {
        "id": "4Uy3qyiW3biN"
      },
      "outputs": [],
      "source": [
        "#random forest classifier model\n",
        "rf_clf = RandomForestClassifier(n_estimators=100, max_depth=5, random_state=42)\n",
        "rf_clf.fit(X_train_scaled, y_train.values.ravel())"
      ],
      "id": "4Uy3qyiW3biN"
    },
    {
      "cell_type": "markdown",
      "metadata": {
        "id": "fPYmZp5k4KgR"
      },
      "source": [
        "## Model Evaluation"
      ],
      "id": "fPYmZp5k4KgR"
    },
    {
      "cell_type": "markdown",
      "metadata": {
        "id": "XVxxK7dS4s9D"
      },
      "source": [
        "#### Logistic Regression Classification Model 1"
      ],
      "id": "XVxxK7dS4s9D"
    },
    {
      "cell_type": "code",
      "execution_count": null,
      "metadata": {
        "id": "aISxcg6_43jK"
      },
      "outputs": [],
      "source": [
        "y_log_pred = log_reg.predict(X_test_scaled)\n",
        "#classification report\n",
        "print(classification_report(y_test, y_log_pred, digits=4))"
      ],
      "id": "aISxcg6_43jK"
    },
    {
      "cell_type": "markdown",
      "source": [
        "A confusion matrix can be used to visualize the relationship between type I errors (false positives) vs type II errors (false negatives). Below, we note that the confusion matrix displays a higher rate of false negatives:"
      ],
      "metadata": {
        "id": "ZaJa6JtDHm4I"
      },
      "id": "ZaJa6JtDHm4I"
    },
    {
      "cell_type": "code",
      "source": [
        "#confusion matrix visualization\n",
        "cm = confusion_matrix(y_test, y_log_pred)\n",
        "ax = plt.subplot()\n",
        "sns.heatmap(cm, annot=True, fmt='g', ax=ax)\n",
        "ax.set_xlabel('Predicted labels')\n",
        "ax.set_ylabel('True labels'); \n",
        "ax.set_title('Confusion Matrix LogReg Model 1')"
      ],
      "metadata": {
        "id": "_MHWxVQgCM1M"
      },
      "id": "_MHWxVQgCM1M",
      "execution_count": null,
      "outputs": []
    },
    {
      "cell_type": "markdown",
      "source": [
        "\n",
        "We plot an ROC curve to observe the relationship between true and false positive rate. We aim for a curve that hugs the top left of the grid. The AUC measurement provides a quantified metric -- the closer to 1, the better the model fits. "
      ],
      "metadata": {
        "id": "Jh1S_lQoGtZ2"
      },
      "id": "Jh1S_lQoGtZ2"
    },
    {
      "cell_type": "code",
      "source": [
        "#ROC curve\n",
        "lr_prob = log_reg.predict_proba(X_test_scaled)\n",
        "lr_prob = lr_prob[:, 1]\n",
        "fpr, tpr, thresholds = roc_curve(y_test,  lr_prob)\n",
        "plt.plot(fpr, tpr)\n",
        "plt.plot([0, 1], [0, 1], linestyle=\"--\")\n",
        "plt.ylabel('True Positive Rate')\n",
        "plt.xlabel('False Positive Rate')\n",
        "plt.title('ROC Curve Logistic Regression Model 1')\n",
        "auc = np.trapz(tpr,fpr)\n",
        "print('AUC Metric =', auc)"
      ],
      "metadata": {
        "id": "ZOkCwwhmCNor"
      },
      "id": "ZOkCwwhmCNor",
      "execution_count": null,
      "outputs": []
    },
    {
      "cell_type": "markdown",
      "metadata": {
        "id": "4bzMPse44azM"
      },
      "source": [
        "#### Logistic Regression Classification Model 2"
      ],
      "id": "4bzMPse44azM"
    },
    {
      "cell_type": "code",
      "execution_count": null,
      "metadata": {
        "id": "C5GVivng4lyr"
      },
      "outputs": [],
      "source": [
        "y_log2_pred = log_reg2.predict(X_test_scaled)\n",
        "#classification report\n",
        "print(classification_report(y_test, y_log2_pred, digits=4))"
      ],
      "id": "C5GVivng4lyr"
    },
    {
      "cell_type": "code",
      "source": [
        "#confusion matrix visualization\n",
        "cm = confusion_matrix(y_test, y_log2_pred)\n",
        "ax = plt.subplot()\n",
        "sns.heatmap(cm, annot=True, fmt='g', ax=ax)\n",
        "ax.set_xlabel('Predicted labels')\n",
        "ax.set_ylabel('True labels'); \n",
        "ax.set_title('Confusion Matrix LogReg Model 2')"
      ],
      "metadata": {
        "id": "tgho-XcRaiE2"
      },
      "id": "tgho-XcRaiE2",
      "execution_count": null,
      "outputs": []
    },
    {
      "cell_type": "code",
      "source": [
        "#ROC curve\n",
        "lr_prob2 = log_reg2.predict_proba(X_test_scaled)\n",
        "lr_prob2 = lr_prob2[:, 1]\n",
        "fpr, tpr, thresholds = roc_curve(y_test, lr_prob2)\n",
        "plt.plot(fpr, tpr)\n",
        "plt.plot([0, 1], [0, 1], linestyle=\"--\")\n",
        "plt.ylabel('True Positive Rate')\n",
        "plt.xlabel('False Positive Rate')\n",
        "plt.title('ROC Curve Logistic Regression Model 2')\n",
        "auc = np.trapz(tpr,fpr)\n",
        "print('AUC Metric =', auc)"
      ],
      "metadata": {
        "id": "XZHrxYyKcAw7"
      },
      "id": "XZHrxYyKcAw7",
      "execution_count": null,
      "outputs": []
    },
    {
      "cell_type": "markdown",
      "metadata": {
        "id": "Va6VmC2l_Qls"
      },
      "source": [
        "#### Logistic Regression Classification Model 3 w/o Subjective Features"
      ],
      "id": "Va6VmC2l_Qls"
    },
    {
      "cell_type": "code",
      "execution_count": null,
      "metadata": {
        "id": "otmmKpcF_Xvk"
      },
      "outputs": [],
      "source": [
        "y_log3_pred = log_reg3.predict(X_test_scaled[:, 0:6])\n",
        "#classification report\n",
        "print(classification_report(y_test, y_log3_pred, digits=4))"
      ],
      "id": "otmmKpcF_Xvk"
    },
    {
      "cell_type": "code",
      "source": [
        "#confusion matrix visualization\n",
        "cm = confusion_matrix(y_test, y_log3_pred)\n",
        "ax = plt.subplot()\n",
        "sns.heatmap(cm, annot=True, fmt='g', ax=ax)\n",
        "ax.set_xlabel('Predicted labels')\n",
        "ax.set_ylabel('True labels'); \n",
        "ax.set_title('Confusion Matrix LogReg Model 3')"
      ],
      "metadata": {
        "id": "RM6mBO_yaw91"
      },
      "id": "RM6mBO_yaw91",
      "execution_count": null,
      "outputs": []
    },
    {
      "cell_type": "code",
      "source": [
        "#ROC curve\n",
        "lr_prob3 = log_reg3.predict_proba(X_test_scaled[:, 0:6])\n",
        "lr_prob3 = lr_prob3[:, 1]\n",
        "fpr, tpr, thresholds = roc_curve(y_test, lr_prob3)\n",
        "plt.plot(fpr, tpr)\n",
        "plt.plot([0, 1], [0, 1], linestyle=\"--\")\n",
        "plt.ylabel('True Positive Rate')\n",
        "plt.xlabel('False Positive Rate')\n",
        "plt.title('ROC Curve Logistic Regression Model 3')\n",
        "auc = np.trapz(tpr,fpr)\n",
        "print('AUC Metric =', auc)"
      ],
      "metadata": {
        "id": "X5kRjnkGd-6_"
      },
      "id": "X5kRjnkGd-6_",
      "execution_count": null,
      "outputs": []
    },
    {
      "cell_type": "markdown",
      "metadata": {
        "id": "WF65IsMm4uSb"
      },
      "source": [
        "#### Decision Tree Classification Model"
      ],
      "id": "WF65IsMm4uSb"
    },
    {
      "cell_type": "code",
      "execution_count": null,
      "metadata": {
        "id": "vVjD_l5C4wUk"
      },
      "outputs": [],
      "source": [
        "y_dt_pred = clf.predict(X_test_scaled)\n",
        "#classification report\n",
        "print(classification_report(y_test, y_dt_pred, digits=4))"
      ],
      "id": "vVjD_l5C4wUk"
    },
    {
      "cell_type": "code",
      "source": [
        "#confusion matrix visualization\n",
        "cm = confusion_matrix(y_test, y_dt_pred)\n",
        "ax = plt.subplot()\n",
        "sns.heatmap(cm, annot=True, fmt='g', ax=ax)\n",
        "ax.set_xlabel('Predicted labels')\n",
        "ax.set_ylabel('True labels'); \n",
        "ax.set_title('Confusion Matrix Decision Tree Model')"
      ],
      "metadata": {
        "id": "4ELR-isNa0m6"
      },
      "id": "4ELR-isNa0m6",
      "execution_count": null,
      "outputs": []
    },
    {
      "cell_type": "markdown",
      "metadata": {
        "id": "svB9y8Xw4m_Y"
      },
      "source": [
        "#### Random Forest Classification Model "
      ],
      "id": "svB9y8Xw4m_Y"
    },
    {
      "cell_type": "code",
      "execution_count": null,
      "metadata": {
        "id": "Jyjep4Cp5H6F"
      },
      "outputs": [],
      "source": [
        "y_rf_pred = rf_clf.predict(X_test_scaled)\n",
        "#classification report\n",
        "print(classification_report(y_test, y_rf_pred, digits=4))"
      ],
      "id": "Jyjep4Cp5H6F"
    },
    {
      "cell_type": "code",
      "source": [
        "#confusion matrix visualization\n",
        "cm = confusion_matrix(y_test, y_rf_pred)\n",
        "ax = plt.subplot()\n",
        "sns.heatmap(cm, annot=True, fmt='g', ax=ax)\n",
        "ax.set_xlabel('Predicted labels')\n",
        "ax.set_ylabel('True labels'); \n",
        "ax.set_title('Confusion Matrix Random Forest Classification Model')"
      ],
      "metadata": {
        "id": "9V7KJWklbZqL"
      },
      "id": "9V7KJWklbZqL",
      "execution_count": null,
      "outputs": []
    },
    {
      "cell_type": "code",
      "source": [
        "#ROC curve\n",
        "rf_prob = rf_clf.predict_proba(X_test_scaled)\n",
        "rf_prob = rf_prob[:, 1]\n",
        "fpr, tpr, thresholds = roc_curve(y_test, rf_prob)\n",
        "plt.plot(fpr, tpr)\n",
        "plt.plot([0, 1], [0, 1], linestyle=\"--\")\n",
        "plt.ylabel('True Positive Rate')\n",
        "plt.xlabel('False Positive Rate')\n",
        "plt.title('ROC Curve Random Forest Classifier Model')\n",
        "auc = np.trapz(tpr,fpr)\n",
        "print('AUC Metric =', auc)"
      ],
      "metadata": {
        "id": "Yt-M2GqZeVKH"
      },
      "id": "Yt-M2GqZeVKH",
      "execution_count": null,
      "outputs": []
    },
    {
      "cell_type": "markdown",
      "source": [
        "### Model Evaluation Summary"
      ],
      "metadata": {
        "id": "fofxVW6YhD-5"
      },
      "id": "fofxVW6YhD-5"
    },
    {
      "cell_type": "code",
      "source": [
        "score_summary = {'Model Type':  ['Default Logistic Regression Model', 'Logistic Regression Model (L1, c-value: 0.1)', 'Logistic Regression Model w/o Subjective Features', 'Default Decision Tree Classifier Model', 'Pruned Random Forest Classifier Model'],\n",
        "        'Accuracy': ['0.7269', '0.7270', '0.7260', '0.6326', '0.7275'],\n",
        "        'AUC Metric': ['0.7921','0.7921','0.7901','NA','0.7949']}\n",
        "\n",
        "summary = pd.DataFrame(score_summary, index=[1,2,3,4,5])\n",
        "\n",
        "print(summary)"
      ],
      "metadata": {
        "id": "PKQ9ogT-1BNI"
      },
      "id": "PKQ9ogT-1BNI",
      "execution_count": null,
      "outputs": []
    },
    {
      "cell_type": "markdown",
      "source": [
        "It seems that the pruned random forest classifier model has the highest accuracy rate, at 0.7275 and AUC metric, at 0.7949. "
      ],
      "metadata": {
        "id": "1ykK6-Y7T74T"
      },
      "id": "1ykK6-Y7T74T"
    },
    {
      "cell_type": "markdown",
      "metadata": {
        "id": "yKKcnqNrEdeD"
      },
      "source": [
        "## Error Analysis and Conclusion"
      ],
      "id": "yKKcnqNrEdeD"
    },
    {
      "cell_type": "markdown",
      "metadata": {
        "id": "JWVfE6jtHbAk"
      },
      "source": [
        "From our evaluation, we see that for the **Logistic Regression Models**, the one with L1 penalty and c-value of 0.1 outperform the default Logistic Regression or the one w/o Subjective Features. The **Pruned Random Forest Classification Model** has the best performance scores among all 5 models, however, only by the 0.001th difference. We believe our Pruned Random Forest Model is the versatile algorithm for this noisy data, and thus, it outperforms the Logistic Regression Models with not a lot of preprocessing required.\n",
        "\n",
        "**Error Analysis:** We believe the data has irreducible error in the form of **noise**. Our exploration found some extreme values for the continuous variables. Even after accounting for outliers, however, we still have some eccentric data for height and weight. For example, there are weights as low as 9.97 kg/22 lbs and a height of up to 250 cm/8.2 ft. Also, there are several instances where the combinations doesn't seem realistic-- eg. a female at 73.152 cm/2.4 ft and weighing 168 kg/370 lbs. Therefore, we believe this dataset has noise which might be affecting model performance. This is confirmed by our confusion matrices, which diplay higher rates of false positives than negatives. False positives are often caused by redundant or mislabeled data, such as described above.\n",
        "\n",
        "Although recall and f-1 scores around the range of for 0.74 both classes are not the best scores of good model performance, our exploration on the internet revealed that the average f-1 score for both classes for this dataset (usability: 6.47) across several Kaggle submissions is approximately 0.70. Therefore, we are happy with our results. \n",
        "\n",
        "From our research, we found that **Feature Engineering** could be a way to work around noisy data. In the **Random Forest Classification Model** we could possibly also use **GridSearchCV** to pick the best performing parameters/ \n",
        "Additionally, models like  **Gradient Boosting** and **k-means Clustering** could possibly give better results. Hence, these could be avenues of further exploration."
      ],
      "id": "JWVfE6jtHbAk"
    },
    {
      "cell_type": "code",
      "source": [
        "true = [1,0,1,0,1,0]\n",
        "pred = [1,1,1,0,0,0]"
      ],
      "metadata": {
        "id": "oXavavRgV6oz"
      },
      "id": "oXavavRgV6oz",
      "execution_count": null,
      "outputs": []
    },
    {
      "cell_type": "code",
      "source": [
        "fpr, tpr, thresholds = roc_curve(true, pred)\n",
        "plt.plot(fpr, tpr)\n",
        "plt.plot([0, 1], [0, 1], linestyle=\"--\")\n",
        "plt.ylabel('True Positive Rate')\n",
        "plt.xlabel('False Positive Rate')\n",
        "plt.title('ROC Curvel')\n",
        "auc = np.trapz(tpr,fpr)\n",
        "print('AUC Metric =', auc)"
      ],
      "metadata": {
        "colab": {
          "base_uri": "https://localhost:8080/",
          "height": 312
        },
        "id": "7Qd00OJwoLKe",
        "outputId": "345a818d-67b9-4785-a755-8672e3ee76f4"
      },
      "id": "7Qd00OJwoLKe",
      "execution_count": null,
      "outputs": [
        {
          "output_type": "stream",
          "name": "stdout",
          "text": [
            "AUC Metric = 0.6666666666666667\n"
          ]
        },
        {
          "output_type": "display_data",
          "data": {
            "text/plain": [
              "<Figure size 432x288 with 1 Axes>"
            ],
            "image/png": "[encoded data removed]"
          },
          "metadata": {
            "needs_background": "light"
          }
        }
      ]
    },
    {
      "cell_type": "code",
      "source": [
        "from sklearn.metrics import roc_auc_score\n",
        "score = roc_auc_score(true, pred)\n",
        "round(score,3)"
      ],
      "metadata": {
        "colab": {
          "base_uri": "https://localhost:8080/"
        },
        "id": "o__yk4Qbo74n",
        "outputId": "28807f22-1e51-4c0a-9813-b6e036f38cf7"
      },
      "id": "o__yk4Qbo74n",
      "execution_count": null,
      "outputs": [
        {
          "output_type": "execute_result",
          "data": {
            "text/plain": [
              "0.667"
            ]
          },
          "metadata": {},
          "execution_count": 12
        }
      ]
    },
    {
      "cell_type": "code",
      "source": [
        "fpr = [0, 0/3, 1/3, 1/3, 2/3, 2/3, 3/3] \n",
        "tpr = [0, 1/3, 1/3, 2/3, 2/3, 3/3, 3/3]"
      ],
      "metadata": {
        "id": "QDpmw-jYrVnq"
      },
      "id": "QDpmw-jYrVnq",
      "execution_count": null,
      "outputs": []
    },
    {
      "cell_type": "code",
      "source": [
        "plt.plot(fpr, tpr)\n",
        "plt.plot([0, 1], [0, 1], linestyle=\"--\")\n",
        "plt.ylabel('True Positive Rate')\n",
        "plt.xlabel('False Positive Rate')\n",
        "plt.title('ROC Curvel')\n",
        "auc = np.trapz(tpr,fpr)\n",
        "print('AUC Metric =', auc)"
      ],
      "metadata": {
        "colab": {
          "base_uri": "https://localhost:8080/",
          "height": 312
        },
        "id": "Js4e_My7rc_J",
        "outputId": "a226c2cc-e337-44ae-fbcf-cf0c91358f75"
      },
      "id": "Js4e_My7rc_J",
      "execution_count": null,
      "outputs": [
        {
          "output_type": "stream",
          "name": "stdout",
          "text": [
            "AUC Metric = 0.6666666666666667\n"
          ]
        },
        {
          "output_type": "display_data",
          "data": {
            "text/plain": [
              "<Figure size 432x288 with 1 Axes>"
            ],
            "image/png": "[encoded data removed]"
          },
          "metadata": {
            "needs_background": "light"
          }
        }
      ]
    },
    {
      "cell_type": "code",
      "source": [
        "from sklearn.metrics import mean_absolute_error, mean_squared_error\n",
        "a= [3,9,4,2,7]\n",
        "b= [2,7,4,3,6]\n",
        "first = mean_absolute_error(a, b)\n",
        "sec = mean_squared_error(a,b)\n",
        "sec"
      ],
      "metadata": {
        "colab": {
          "base_uri": "https://localhost:8080/"
        },
        "id": "gMHLTuPA3zUR",
        "outputId": "365b7ec7-f3e7-4805-802f-9deadc00ff9c"
      },
      "id": "gMHLTuPA3zUR",
      "execution_count": null,
      "outputs": [
        {
          "output_type": "execute_result",
          "data": {
            "text/plain": [
              "1.4"
            ]
          },
          "metadata": {},
          "execution_count": 35
        }
      ]
    }
  ],
  "metadata": {
    "colab": {
      "collapsed_sections": [],
      "name": " 33002_P1_CadiovascularDiseaseClassification.ipynb",
      "provenance": [],
      "include_colab_link": true
    },
    "kernelspec": {
      "display_name": "Python 3 (ipykernel)",
      "language": "python",
      "name": "python3"
    },
    "language_info": {
      "codemirror_mode": {
        "name": "ipython",
        "version": 3
      },
      "file_extension": ".py",
      "mimetype": "text/x-python",
      "name": "python",
      "nbconvert_exporter": "python",
      "pygments_lexer": "ipython3",
      "version": "3.9.7"
    }
  },
  "nbformat": 4,
  "nbformat_minor": 5
}